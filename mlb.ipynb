{
 "cells": [
  {
   "cell_type": "code",
   "execution_count": 1,
   "metadata": {},
   "outputs": [],
   "source": [
    "import numpy as np\n",
    "import pandas as pd\n",
    "from sklearn.preprocessing import MultiLabelBinarizer"
   ]
  },
  {
   "cell_type": "code",
   "execution_count": 42,
   "metadata": {},
   "outputs": [],
   "source": [
    "mlb = MultiLabelBinarizer(sparse_output=False)"
   ]
  },
  {
   "cell_type": "code",
   "execution_count": 29,
   "metadata": {},
   "outputs": [],
   "source": [
    "dat = pd.read_csv('data/clean_data.csv')"
   ]
  },
  {
   "cell_type": "code",
   "execution_count": 30,
   "metadata": {},
   "outputs": [
    {
     "data": {
      "text/html": [
       "<div>\n",
       "<style scoped>\n",
       "    .dataframe tbody tr th:only-of-type {\n",
       "        vertical-align: middle;\n",
       "    }\n",
       "\n",
       "    .dataframe tbody tr th {\n",
       "        vertical-align: top;\n",
       "    }\n",
       "\n",
       "    .dataframe thead th {\n",
       "        text-align: right;\n",
       "    }\n",
       "</style>\n",
       "<table border=\"1\" class=\"dataframe\">\n",
       "  <thead>\n",
       "    <tr style=\"text-align: right;\">\n",
       "      <th></th>\n",
       "      <th>Unnamed: 0</th>\n",
       "      <th>ROW_ID</th>\n",
       "      <th>SUBJECT_ID</th>\n",
       "      <th>HADM_ID</th>\n",
       "      <th>TEXT</th>\n",
       "      <th>ICD9_codes</th>\n",
       "    </tr>\n",
       "  </thead>\n",
       "  <tbody>\n",
       "    <tr>\n",
       "      <th>0</th>\n",
       "      <td>0</td>\n",
       "      <td>174</td>\n",
       "      <td>22532</td>\n",
       "      <td>167853</td>\n",
       "      <td>Service: ADDENDUM: RADIOLOGIC STUDIES: Radiolo...</td>\n",
       "      <td>['01193', '4254', '42731', '2639', '2762', '50...</td>\n",
       "    </tr>\n",
       "    <tr>\n",
       "      <th>1</th>\n",
       "      <td>1</td>\n",
       "      <td>170</td>\n",
       "      <td>22532</td>\n",
       "      <td>167853</td>\n",
       "      <td>HISTORY OF PRESENT ILLNESS: The patient is an ...</td>\n",
       "      <td>['01193', '4254', '42731', '2639', '2762', '50...</td>\n",
       "    </tr>\n",
       "    <tr>\n",
       "      <th>2</th>\n",
       "      <td>2</td>\n",
       "      <td>175</td>\n",
       "      <td>13702</td>\n",
       "      <td>107527</td>\n",
       "      <td>Sex: F Service: MICU and then to Medicine HIST...</td>\n",
       "      <td>['5191', '49121', '51881', '486', '2761', '244...</td>\n",
       "    </tr>\n",
       "    <tr>\n",
       "      <th>3</th>\n",
       "      <td>3</td>\n",
       "      <td>176</td>\n",
       "      <td>13702</td>\n",
       "      <td>167118</td>\n",
       "      <td>Service: CARDIOTHORACIC Allergies: Amlodipine ...</td>\n",
       "      <td>['5191', '5185', '496', '2762', '45340', '5533']</td>\n",
       "    </tr>\n",
       "    <tr>\n",
       "      <th>4</th>\n",
       "      <td>4</td>\n",
       "      <td>177</td>\n",
       "      <td>13702</td>\n",
       "      <td>196489</td>\n",
       "      <td>Service: MEDICINE Allergies: Amlodipine Attend...</td>\n",
       "      <td>['51884', '5849', '34830', '49121', '2760', '4...</td>\n",
       "    </tr>\n",
       "  </tbody>\n",
       "</table>\n",
       "</div>"
      ],
      "text/plain": [
       "   Unnamed: 0  ROW_ID  SUBJECT_ID  HADM_ID  \\\n",
       "0           0     174       22532   167853   \n",
       "1           1     170       22532   167853   \n",
       "2           2     175       13702   107527   \n",
       "3           3     176       13702   167118   \n",
       "4           4     177       13702   196489   \n",
       "\n",
       "                                                TEXT  \\\n",
       "0  Service: ADDENDUM: RADIOLOGIC STUDIES: Radiolo...   \n",
       "1  HISTORY OF PRESENT ILLNESS: The patient is an ...   \n",
       "2  Sex: F Service: MICU and then to Medicine HIST...   \n",
       "3  Service: CARDIOTHORACIC Allergies: Amlodipine ...   \n",
       "4  Service: MEDICINE Allergies: Amlodipine Attend...   \n",
       "\n",
       "                                          ICD9_codes  \n",
       "0  ['01193', '4254', '42731', '2639', '2762', '50...  \n",
       "1  ['01193', '4254', '42731', '2639', '2762', '50...  \n",
       "2  ['5191', '49121', '51881', '486', '2761', '244...  \n",
       "3   ['5191', '5185', '496', '2762', '45340', '5533']  \n",
       "4  ['51884', '5849', '34830', '49121', '2760', '4...  "
      ]
     },
     "execution_count": 30,
     "metadata": {},
     "output_type": "execute_result"
    }
   ],
   "source": [
    "dat.head()"
   ]
  },
  {
   "cell_type": "code",
   "execution_count": 31,
   "metadata": {},
   "outputs": [
    {
     "name": "stdout",
     "output_type": "stream",
     "text": [
      "['01193', '4254', '42731', '2639', '2762', '5070', '5119', '2113']\n"
     ]
    }
   ],
   "source": [
    "print(dat.loc[0]['ICD9_codes'])"
   ]
  },
  {
   "cell_type": "code",
   "execution_count": 33,
   "metadata": {},
   "outputs": [],
   "source": [
    "# create list of lists for all ICD9_code vectors\n",
    "# blah = dat['ICD9_codes'].apply(lambda x: ast.literal_eval(x))\n",
    "import ast\n",
    "\n",
    "list_of_lists = []\n",
    "\n",
    "for row in dat['ICD9_codes']:\n",
    "    list_of_lists.append(ast.literal_eval(row))"
   ]
  },
  {
   "cell_type": "code",
   "execution_count": 34,
   "metadata": {},
   "outputs": [
    {
     "data": {
      "text/plain": [
       "55172"
      ]
     },
     "execution_count": 34,
     "metadata": {},
     "output_type": "execute_result"
    }
   ],
   "source": [
    "len(list_of_lists)"
   ]
  },
  {
   "cell_type": "code",
   "execution_count": 35,
   "metadata": {},
   "outputs": [
    {
     "data": {
      "text/plain": [
       "55172"
      ]
     },
     "execution_count": 35,
     "metadata": {},
     "output_type": "execute_result"
    }
   ],
   "source": [
    "len(dat)"
   ]
  },
  {
   "cell_type": "code",
   "execution_count": 72,
   "metadata": {},
   "outputs": [],
   "source": [
    "one_hots = mlb.fit_transform(list_of_lists)"
   ]
  },
  {
   "cell_type": "code",
   "execution_count": 74,
   "metadata": {},
   "outputs": [
    {
     "data": {
      "text/plain": [
       "641983"
      ]
     },
     "execution_count": 74,
     "metadata": {},
     "output_type": "execute_result"
    }
   ],
   "source": [
    "one_hots.sum()"
   ]
  },
  {
   "cell_type": "code",
   "execution_count": 75,
   "metadata": {},
   "outputs": [
    {
     "name": "stdout",
     "output_type": "stream",
     "text": [
      "['0030' '0031' '0038' ... 'V9081' 'V9089' 'V9103']\n"
     ]
    },
    {
     "data": {
      "text/plain": [
       "6918"
      ]
     },
     "execution_count": 75,
     "metadata": {},
     "output_type": "execute_result"
    }
   ],
   "source": [
    "print(mlb.classes_)\n",
    "len(mlb.classes_)"
   ]
  },
  {
   "cell_type": "code",
   "execution_count": 83,
   "metadata": {},
   "outputs": [
    {
     "name": "stdout",
     "output_type": "stream",
     "text": [
      "['01193', '4254', '42731', '2639', '2762', '5070', '5119', '2113']\n"
     ]
    },
    {
     "data": {
      "text/plain": [
       "array(['01193', '2113', '2639', '2762', '4254', '42731', '5070', '5119'],\n",
       "      dtype=object)"
      ]
     },
     "execution_count": 83,
     "metadata": {},
     "output_type": "execute_result"
    }
   ],
   "source": [
    "print(list_of_lists[0])\n",
    "mlb.classes_[np.where(one_hots[0]>0)]"
   ]
  },
  {
   "cell_type": "code",
   "execution_count": null,
   "metadata": {},
   "outputs": [],
   "source": []
  }
 ],
 "metadata": {
  "@webio": {
   "lastCommId": null,
   "lastKernelId": null
  },
  "kernelspec": {
   "display_name": "Python 3",
   "language": "python",
   "name": "python3"
  },
  "language_info": {
   "codemirror_mode": {
    "name": "ipython",
    "version": 3
   },
   "file_extension": ".py",
   "mimetype": "text/x-python",
   "name": "python",
   "nbconvert_exporter": "python",
   "pygments_lexer": "ipython3",
   "version": "3.7.4"
  }
 },
 "nbformat": 4,
 "nbformat_minor": 4
}
