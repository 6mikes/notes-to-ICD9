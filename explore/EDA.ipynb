{
 "cells": [
  {
   "cell_type": "code",
   "execution_count": 1,
   "metadata": {},
   "outputs": [
    {
     "name": "stderr",
     "output_type": "stream",
     "text": [
      "[nltk_data] Downloading package stopwords to\n",
      "[nltk_data]     /Users/austinmurphy/nltk_data...\n",
      "[nltk_data]   Package stopwords is already up-to-date!\n"
     ]
    }
   ],
   "source": [
    "import numpy as np\n",
    "import pandas as pd\n",
    "import matplotlib.pyplot as plt\n",
    "import time\n",
    "\n",
    "import nltk\n",
    "nltk.download(\"stopwords\")\n",
    "from nltk.corpus import stopwords\n",
    "from nltk.tokenize import word_tokenize "
   ]
  },
  {
   "cell_type": "markdown",
   "metadata": {},
   "source": [
    "## D_ICD"
   ]
  },
  {
   "cell_type": "code",
   "execution_count": 2,
   "metadata": {},
   "outputs": [
    {
     "name": "stdout",
     "output_type": "stream",
     "text": [
      "Number of unique ICD9 codes: 14567\n"
     ]
    },
    {
     "data": {
      "text/html": [
       "<div>\n",
       "<style scoped>\n",
       "    .dataframe tbody tr th:only-of-type {\n",
       "        vertical-align: middle;\n",
       "    }\n",
       "\n",
       "    .dataframe tbody tr th {\n",
       "        vertical-align: top;\n",
       "    }\n",
       "\n",
       "    .dataframe thead th {\n",
       "        text-align: right;\n",
       "    }\n",
       "</style>\n",
       "<table border=\"1\" class=\"dataframe\">\n",
       "  <thead>\n",
       "    <tr style=\"text-align: right;\">\n",
       "      <th></th>\n",
       "      <th>ROW_ID</th>\n",
       "      <th>ICD9_CODE</th>\n",
       "      <th>SHORT_TITLE</th>\n",
       "      <th>LONG_TITLE</th>\n",
       "    </tr>\n",
       "  </thead>\n",
       "  <tbody>\n",
       "    <tr>\n",
       "      <th>0</th>\n",
       "      <td>174</td>\n",
       "      <td>01166</td>\n",
       "      <td>TB pneumonia-oth test</td>\n",
       "      <td>Tuberculous pneumonia [any form], tubercle bac...</td>\n",
       "    </tr>\n",
       "    <tr>\n",
       "      <th>1</th>\n",
       "      <td>175</td>\n",
       "      <td>01170</td>\n",
       "      <td>TB pneumothorax-unspec</td>\n",
       "      <td>Tuberculous pneumothorax, unspecified</td>\n",
       "    </tr>\n",
       "    <tr>\n",
       "      <th>2</th>\n",
       "      <td>176</td>\n",
       "      <td>01171</td>\n",
       "      <td>TB pneumothorax-no exam</td>\n",
       "      <td>Tuberculous pneumothorax, bacteriological or h...</td>\n",
       "    </tr>\n",
       "    <tr>\n",
       "      <th>3</th>\n",
       "      <td>177</td>\n",
       "      <td>01172</td>\n",
       "      <td>TB pneumothorx-exam unkn</td>\n",
       "      <td>Tuberculous pneumothorax, bacteriological or h...</td>\n",
       "    </tr>\n",
       "    <tr>\n",
       "      <th>4</th>\n",
       "      <td>178</td>\n",
       "      <td>01173</td>\n",
       "      <td>TB pneumothorax-micro dx</td>\n",
       "      <td>Tuberculous pneumothorax, tubercle bacilli fou...</td>\n",
       "    </tr>\n",
       "  </tbody>\n",
       "</table>\n",
       "</div>"
      ],
      "text/plain": [
       "   ROW_ID ICD9_CODE               SHORT_TITLE  \\\n",
       "0     174     01166     TB pneumonia-oth test   \n",
       "1     175     01170    TB pneumothorax-unspec   \n",
       "2     176     01171   TB pneumothorax-no exam   \n",
       "3     177     01172  TB pneumothorx-exam unkn   \n",
       "4     178     01173  TB pneumothorax-micro dx   \n",
       "\n",
       "                                          LONG_TITLE  \n",
       "0  Tuberculous pneumonia [any form], tubercle bac...  \n",
       "1              Tuberculous pneumothorax, unspecified  \n",
       "2  Tuberculous pneumothorax, bacteriological or h...  \n",
       "3  Tuberculous pneumothorax, bacteriological or h...  \n",
       "4  Tuberculous pneumothorax, tubercle bacilli fou...  "
      ]
     },
     "execution_count": 2,
     "metadata": {},
     "output_type": "execute_result"
    }
   ],
   "source": [
    "d_icd = pd.read_csv(\"../data/D_ICD_DIAGNOSES.csv\")\n",
    "print(\"Number of unique ICD9 codes: {}\".format(len(d_icd.ICD9_CODE.unique())))\n",
    "d_icd.head()"
   ]
  },
  {
   "cell_type": "code",
   "execution_count": 3,
   "metadata": {},
   "outputs": [],
   "source": [
    "d_icd['first3'] = d_icd['ICD9_CODE'].apply(lambda x: x[:3])"
   ]
  },
  {
   "cell_type": "code",
   "execution_count": 4,
   "metadata": {},
   "outputs": [
    {
     "data": {
      "text/html": [
       "<div>\n",
       "<style scoped>\n",
       "    .dataframe tbody tr th:only-of-type {\n",
       "        vertical-align: middle;\n",
       "    }\n",
       "\n",
       "    .dataframe tbody tr th {\n",
       "        vertical-align: top;\n",
       "    }\n",
       "\n",
       "    .dataframe thead th {\n",
       "        text-align: right;\n",
       "    }\n",
       "</style>\n",
       "<table border=\"1\" class=\"dataframe\">\n",
       "  <thead>\n",
       "    <tr style=\"text-align: right;\">\n",
       "      <th></th>\n",
       "      <th>ROW_ID</th>\n",
       "      <th>ICD9_CODE</th>\n",
       "      <th>SHORT_TITLE</th>\n",
       "      <th>LONG_TITLE</th>\n",
       "      <th>first3</th>\n",
       "    </tr>\n",
       "  </thead>\n",
       "  <tbody>\n",
       "    <tr>\n",
       "      <th>0</th>\n",
       "      <td>174</td>\n",
       "      <td>01166</td>\n",
       "      <td>TB pneumonia-oth test</td>\n",
       "      <td>Tuberculous pneumonia [any form], tubercle bac...</td>\n",
       "      <td>011</td>\n",
       "    </tr>\n",
       "    <tr>\n",
       "      <th>1</th>\n",
       "      <td>175</td>\n",
       "      <td>01170</td>\n",
       "      <td>TB pneumothorax-unspec</td>\n",
       "      <td>Tuberculous pneumothorax, unspecified</td>\n",
       "      <td>011</td>\n",
       "    </tr>\n",
       "    <tr>\n",
       "      <th>2</th>\n",
       "      <td>176</td>\n",
       "      <td>01171</td>\n",
       "      <td>TB pneumothorax-no exam</td>\n",
       "      <td>Tuberculous pneumothorax, bacteriological or h...</td>\n",
       "      <td>011</td>\n",
       "    </tr>\n",
       "    <tr>\n",
       "      <th>3</th>\n",
       "      <td>177</td>\n",
       "      <td>01172</td>\n",
       "      <td>TB pneumothorx-exam unkn</td>\n",
       "      <td>Tuberculous pneumothorax, bacteriological or h...</td>\n",
       "      <td>011</td>\n",
       "    </tr>\n",
       "    <tr>\n",
       "      <th>4</th>\n",
       "      <td>178</td>\n",
       "      <td>01173</td>\n",
       "      <td>TB pneumothorax-micro dx</td>\n",
       "      <td>Tuberculous pneumothorax, tubercle bacilli fou...</td>\n",
       "      <td>011</td>\n",
       "    </tr>\n",
       "  </tbody>\n",
       "</table>\n",
       "</div>"
      ],
      "text/plain": [
       "   ROW_ID ICD9_CODE               SHORT_TITLE  \\\n",
       "0     174     01166     TB pneumonia-oth test   \n",
       "1     175     01170    TB pneumothorax-unspec   \n",
       "2     176     01171   TB pneumothorax-no exam   \n",
       "3     177     01172  TB pneumothorx-exam unkn   \n",
       "4     178     01173  TB pneumothorax-micro dx   \n",
       "\n",
       "                                          LONG_TITLE first3  \n",
       "0  Tuberculous pneumonia [any form], tubercle bac...    011  \n",
       "1              Tuberculous pneumothorax, unspecified    011  \n",
       "2  Tuberculous pneumothorax, bacteriological or h...    011  \n",
       "3  Tuberculous pneumothorax, bacteriological or h...    011  \n",
       "4  Tuberculous pneumothorax, tubercle bacilli fou...    011  "
      ]
     },
     "execution_count": 4,
     "metadata": {},
     "output_type": "execute_result"
    }
   ],
   "source": [
    "d_icd.head()"
   ]
  },
  {
   "cell_type": "code",
   "execution_count": 5,
   "metadata": {},
   "outputs": [],
   "source": [
    "# • 001-139 Infectious And Parasitic Diseases\n",
    "# • 140-239 Neoplasms\n",
    "# • 240-279 Endocrine, Nutritional And Metabolic Diseases, And Immunity Disorders\n",
    "# • 280-289 Diseases Of The Blood And Blood-Forming Organs\n",
    "# • 290-319 Mental Disorders\n",
    "# • 320-389 Diseases Of The Nervous System And Sense Organs\n",
    "# • 390-459 Diseases Of The Circulatory System\n",
    "# • 460-519 Diseases Of The Respiratory System\n",
    "# • 520-579 Diseases Of The Digestive System\n",
    "# • 580-629 Diseases Of The Genitourinary System\n",
    "# • 630-679 Complications Of Pregnancy, Childbirth, And The Puerperium\n",
    "# • 680-709 Diseases Of The Skin And Subcutaneous Tissue\n",
    "# • 710-739 Diseases Of The Musculoskeletal System And Connective Tissue\n",
    "# • 740-759 Congenital Anomalies\n",
    "# • 760-779 Certain Conditions Originating In The Perinatal Period\n",
    "# • 780-799 Symptoms, Signs, And Ill-Defined Conditions\n",
    "# • 800-999 Injury And Poisoning\n",
    "# • V01-V91 Supplementary Classification Of Factors Influencing Health Status And Contact\n",
    "# With Health Services\n",
    "# • E000-E999 Supplementary Classification Of External Causes Of Injury And Poisoning"
   ]
  },
  {
   "cell_type": "code",
   "execution_count": 6,
   "metadata": {},
   "outputs": [
    {
     "data": {
      "text/plain": [
       "True"
      ]
     },
     "execution_count": 6,
     "metadata": {},
     "output_type": "execute_result"
    }
   ],
   "source": [
    "d_icd_ve = d_icd.loc[d_icd.first3.str.contains('V|E')]\n",
    "d_icd_nove = d_icd.loc[~d_icd.first3.str.contains('V|E')]\n",
    "d_icd_ve.shape[0] + d_icd_nove.shape[0] == d_icd.shape[0] "
   ]
  },
  {
   "cell_type": "code",
   "execution_count": 7,
   "metadata": {},
   "outputs": [
    {
     "name": "stderr",
     "output_type": "stream",
     "text": [
      "/Users/austinmurphy/opt/anaconda3/envs/attentionxml/lib/python3.7/site-packages/ipykernel_launcher.py:4: SettingWithCopyWarning: \n",
      "A value is trying to be set on a copy of a slice from a DataFrame.\n",
      "Try using .loc[row_indexer,col_indexer] = value instead\n",
      "\n",
      "See the caveats in the documentation: https://pandas.pydata.org/pandas-docs/stable/user_guide/indexing.html#returning-a-view-versus-a-copy\n",
      "  after removing the cwd from sys.path.\n"
     ]
    }
   ],
   "source": [
    "d_icd_nove['high_level'] = pd.cut(d_icd_nove['first3'].astype(int), \n",
    "       bins=[0,139,239,279,289,319,389,459,519,579,629,679,709,739,759,779,799,999], \n",
    "       labels=range(17),\n",
    "       right=True)"
   ]
  },
  {
   "cell_type": "code",
   "execution_count": 8,
   "metadata": {},
   "outputs": [
    {
     "data": {
      "text/html": [
       "<div>\n",
       "<style scoped>\n",
       "    .dataframe tbody tr th:only-of-type {\n",
       "        vertical-align: middle;\n",
       "    }\n",
       "\n",
       "    .dataframe tbody tr th {\n",
       "        vertical-align: top;\n",
       "    }\n",
       "\n",
       "    .dataframe thead th {\n",
       "        text-align: right;\n",
       "    }\n",
       "</style>\n",
       "<table border=\"1\" class=\"dataframe\">\n",
       "  <thead>\n",
       "    <tr style=\"text-align: right;\">\n",
       "      <th></th>\n",
       "      <th>ROW_ID</th>\n",
       "      <th>ICD9_CODE</th>\n",
       "      <th>SHORT_TITLE</th>\n",
       "      <th>LONG_TITLE</th>\n",
       "      <th>first3</th>\n",
       "      <th>high_level</th>\n",
       "    </tr>\n",
       "  </thead>\n",
       "  <tbody>\n",
       "    <tr>\n",
       "      <th>0</th>\n",
       "      <td>174</td>\n",
       "      <td>01166</td>\n",
       "      <td>TB pneumonia-oth test</td>\n",
       "      <td>Tuberculous pneumonia [any form], tubercle bac...</td>\n",
       "      <td>011</td>\n",
       "      <td>0</td>\n",
       "    </tr>\n",
       "    <tr>\n",
       "      <th>1</th>\n",
       "      <td>175</td>\n",
       "      <td>01170</td>\n",
       "      <td>TB pneumothorax-unspec</td>\n",
       "      <td>Tuberculous pneumothorax, unspecified</td>\n",
       "      <td>011</td>\n",
       "      <td>0</td>\n",
       "    </tr>\n",
       "    <tr>\n",
       "      <th>2</th>\n",
       "      <td>176</td>\n",
       "      <td>01171</td>\n",
       "      <td>TB pneumothorax-no exam</td>\n",
       "      <td>Tuberculous pneumothorax, bacteriological or h...</td>\n",
       "      <td>011</td>\n",
       "      <td>0</td>\n",
       "    </tr>\n",
       "    <tr>\n",
       "      <th>3</th>\n",
       "      <td>177</td>\n",
       "      <td>01172</td>\n",
       "      <td>TB pneumothorx-exam unkn</td>\n",
       "      <td>Tuberculous pneumothorax, bacteriological or h...</td>\n",
       "      <td>011</td>\n",
       "      <td>0</td>\n",
       "    </tr>\n",
       "    <tr>\n",
       "      <th>4</th>\n",
       "      <td>178</td>\n",
       "      <td>01173</td>\n",
       "      <td>TB pneumothorax-micro dx</td>\n",
       "      <td>Tuberculous pneumothorax, tubercle bacilli fou...</td>\n",
       "      <td>011</td>\n",
       "      <td>0</td>\n",
       "    </tr>\n",
       "  </tbody>\n",
       "</table>\n",
       "</div>"
      ],
      "text/plain": [
       "   ROW_ID ICD9_CODE               SHORT_TITLE  \\\n",
       "0     174     01166     TB pneumonia-oth test   \n",
       "1     175     01170    TB pneumothorax-unspec   \n",
       "2     176     01171   TB pneumothorax-no exam   \n",
       "3     177     01172  TB pneumothorx-exam unkn   \n",
       "4     178     01173  TB pneumothorax-micro dx   \n",
       "\n",
       "                                          LONG_TITLE first3 high_level  \n",
       "0  Tuberculous pneumonia [any form], tubercle bac...    011          0  \n",
       "1              Tuberculous pneumothorax, unspecified    011          0  \n",
       "2  Tuberculous pneumothorax, bacteriological or h...    011          0  \n",
       "3  Tuberculous pneumothorax, bacteriological or h...    011          0  \n",
       "4  Tuberculous pneumothorax, tubercle bacilli fou...    011          0  "
      ]
     },
     "execution_count": 8,
     "metadata": {},
     "output_type": "execute_result"
    }
   ],
   "source": [
    "d_icd_nove.head()"
   ]
  },
  {
   "cell_type": "code",
   "execution_count": 9,
   "metadata": {},
   "outputs": [
    {
     "name": "stderr",
     "output_type": "stream",
     "text": [
      "/Users/austinmurphy/opt/anaconda3/envs/attentionxml/lib/python3.7/site-packages/ipykernel_launcher.py:1: SettingWithCopyWarning: \n",
      "A value is trying to be set on a copy of a slice from a DataFrame.\n",
      "Try using .loc[row_indexer,col_indexer] = value instead\n",
      "\n",
      "See the caveats in the documentation: https://pandas.pydata.org/pandas-docs/stable/user_guide/indexing.html#returning-a-view-versus-a-copy\n",
      "  \"\"\"Entry point for launching an IPython kernel.\n",
      "/Users/austinmurphy/opt/anaconda3/envs/attentionxml/lib/python3.7/site-packages/pandas/core/indexing.py:965: SettingWithCopyWarning: \n",
      "A value is trying to be set on a copy of a slice from a DataFrame.\n",
      "Try using .loc[row_indexer,col_indexer] = value instead\n",
      "\n",
      "See the caveats in the documentation: https://pandas.pydata.org/pandas-docs/stable/user_guide/indexing.html#returning-a-view-versus-a-copy\n",
      "  self.obj[item] = s\n"
     ]
    }
   ],
   "source": [
    "d_icd_ve['high_level'] = np.nan\n",
    "d_icd_ve.loc[d_icd_ve.first3.str.contains('V'),'high_level'] = 17\n",
    "d_icd_ve.loc[d_icd_ve.first3.str.contains('E'),'high_level'] = 18"
   ]
  },
  {
   "cell_type": "code",
   "execution_count": 10,
   "metadata": {},
   "outputs": [
    {
     "name": "stderr",
     "output_type": "stream",
     "text": [
      "/Users/austinmurphy/opt/anaconda3/envs/attentionxml/lib/python3.7/site-packages/ipykernel_launcher.py:1: SettingWithCopyWarning: \n",
      "A value is trying to be set on a copy of a slice from a DataFrame.\n",
      "Try using .loc[row_indexer,col_indexer] = value instead\n",
      "\n",
      "See the caveats in the documentation: https://pandas.pydata.org/pandas-docs/stable/user_guide/indexing.html#returning-a-view-versus-a-copy\n",
      "  \"\"\"Entry point for launching an IPython kernel.\n"
     ]
    }
   ],
   "source": [
    "d_icd_ve['high_level'] = d_icd_ve['high_level'].astype(int)"
   ]
  },
  {
   "cell_type": "code",
   "execution_count": 11,
   "metadata": {},
   "outputs": [],
   "source": [
    "d_icd = d_icd_nove.append(d_icd_ve)"
   ]
  },
  {
   "cell_type": "code",
   "execution_count": 12,
   "metadata": {},
   "outputs": [
    {
     "data": {
      "text/html": [
       "<div>\n",
       "<style scoped>\n",
       "    .dataframe tbody tr th:only-of-type {\n",
       "        vertical-align: middle;\n",
       "    }\n",
       "\n",
       "    .dataframe tbody tr th {\n",
       "        vertical-align: top;\n",
       "    }\n",
       "\n",
       "    .dataframe thead th {\n",
       "        text-align: right;\n",
       "    }\n",
       "</style>\n",
       "<table border=\"1\" class=\"dataframe\">\n",
       "  <thead>\n",
       "    <tr style=\"text-align: right;\">\n",
       "      <th></th>\n",
       "      <th>ROW_ID</th>\n",
       "      <th>ICD9_CODE</th>\n",
       "      <th>SHORT_TITLE</th>\n",
       "      <th>LONG_TITLE</th>\n",
       "      <th>first3</th>\n",
       "      <th>high_level</th>\n",
       "    </tr>\n",
       "  </thead>\n",
       "  <tbody>\n",
       "    <tr>\n",
       "      <th>0</th>\n",
       "      <td>174</td>\n",
       "      <td>01166</td>\n",
       "      <td>TB pneumonia-oth test</td>\n",
       "      <td>Tuberculous pneumonia [any form], tubercle bac...</td>\n",
       "      <td>011</td>\n",
       "      <td>0</td>\n",
       "    </tr>\n",
       "    <tr>\n",
       "      <th>1</th>\n",
       "      <td>175</td>\n",
       "      <td>01170</td>\n",
       "      <td>TB pneumothorax-unspec</td>\n",
       "      <td>Tuberculous pneumothorax, unspecified</td>\n",
       "      <td>011</td>\n",
       "      <td>0</td>\n",
       "    </tr>\n",
       "    <tr>\n",
       "      <th>2</th>\n",
       "      <td>176</td>\n",
       "      <td>01171</td>\n",
       "      <td>TB pneumothorax-no exam</td>\n",
       "      <td>Tuberculous pneumothorax, bacteriological or h...</td>\n",
       "      <td>011</td>\n",
       "      <td>0</td>\n",
       "    </tr>\n",
       "    <tr>\n",
       "      <th>3</th>\n",
       "      <td>177</td>\n",
       "      <td>01172</td>\n",
       "      <td>TB pneumothorx-exam unkn</td>\n",
       "      <td>Tuberculous pneumothorax, bacteriological or h...</td>\n",
       "      <td>011</td>\n",
       "      <td>0</td>\n",
       "    </tr>\n",
       "    <tr>\n",
       "      <th>4</th>\n",
       "      <td>178</td>\n",
       "      <td>01173</td>\n",
       "      <td>TB pneumothorax-micro dx</td>\n",
       "      <td>Tuberculous pneumothorax, tubercle bacilli fou...</td>\n",
       "      <td>011</td>\n",
       "      <td>0</td>\n",
       "    </tr>\n",
       "  </tbody>\n",
       "</table>\n",
       "</div>"
      ],
      "text/plain": [
       "   ROW_ID ICD9_CODE               SHORT_TITLE  \\\n",
       "0     174     01166     TB pneumonia-oth test   \n",
       "1     175     01170    TB pneumothorax-unspec   \n",
       "2     176     01171   TB pneumothorax-no exam   \n",
       "3     177     01172  TB pneumothorx-exam unkn   \n",
       "4     178     01173  TB pneumothorax-micro dx   \n",
       "\n",
       "                                          LONG_TITLE first3  high_level  \n",
       "0  Tuberculous pneumonia [any form], tubercle bac...    011           0  \n",
       "1              Tuberculous pneumothorax, unspecified    011           0  \n",
       "2  Tuberculous pneumothorax, bacteriological or h...    011           0  \n",
       "3  Tuberculous pneumothorax, bacteriological or h...    011           0  \n",
       "4  Tuberculous pneumothorax, tubercle bacilli fou...    011           0  "
      ]
     },
     "execution_count": 12,
     "metadata": {},
     "output_type": "execute_result"
    }
   ],
   "source": [
    "d_icd.head()"
   ]
  },
  {
   "cell_type": "code",
   "execution_count": null,
   "metadata": {},
   "outputs": [],
   "source": []
  },
  {
   "cell_type": "code",
   "execution_count": null,
   "metadata": {},
   "outputs": [],
   "source": []
  },
  {
   "cell_type": "markdown",
   "metadata": {},
   "source": [
    "## Diagnoses ICD"
   ]
  },
  {
   "cell_type": "code",
   "execution_count": 13,
   "metadata": {},
   "outputs": [],
   "source": [
    "diag = pd.read_csv(\"../data/DIAGNOSES_ICD.csv\")"
   ]
  },
  {
   "cell_type": "code",
   "execution_count": 14,
   "metadata": {},
   "outputs": [
    {
     "name": "stdout",
     "output_type": "stream",
     "text": [
      "(651000, 5)\n"
     ]
    },
    {
     "data": {
      "text/html": [
       "<div>\n",
       "<style scoped>\n",
       "    .dataframe tbody tr th:only-of-type {\n",
       "        vertical-align: middle;\n",
       "    }\n",
       "\n",
       "    .dataframe tbody tr th {\n",
       "        vertical-align: top;\n",
       "    }\n",
       "\n",
       "    .dataframe thead th {\n",
       "        text-align: right;\n",
       "    }\n",
       "</style>\n",
       "<table border=\"1\" class=\"dataframe\">\n",
       "  <thead>\n",
       "    <tr style=\"text-align: right;\">\n",
       "      <th></th>\n",
       "      <th>ROW_ID</th>\n",
       "      <th>SUBJECT_ID</th>\n",
       "      <th>HADM_ID</th>\n",
       "      <th>SEQ_NUM</th>\n",
       "      <th>ICD9_CODE</th>\n",
       "    </tr>\n",
       "  </thead>\n",
       "  <tbody>\n",
       "    <tr>\n",
       "      <th>0</th>\n",
       "      <td>1297</td>\n",
       "      <td>109</td>\n",
       "      <td>172335</td>\n",
       "      <td>1.0</td>\n",
       "      <td>40301</td>\n",
       "    </tr>\n",
       "    <tr>\n",
       "      <th>1</th>\n",
       "      <td>1298</td>\n",
       "      <td>109</td>\n",
       "      <td>172335</td>\n",
       "      <td>2.0</td>\n",
       "      <td>486</td>\n",
       "    </tr>\n",
       "    <tr>\n",
       "      <th>2</th>\n",
       "      <td>1299</td>\n",
       "      <td>109</td>\n",
       "      <td>172335</td>\n",
       "      <td>3.0</td>\n",
       "      <td>58281</td>\n",
       "    </tr>\n",
       "    <tr>\n",
       "      <th>3</th>\n",
       "      <td>1300</td>\n",
       "      <td>109</td>\n",
       "      <td>172335</td>\n",
       "      <td>4.0</td>\n",
       "      <td>5855</td>\n",
       "    </tr>\n",
       "    <tr>\n",
       "      <th>4</th>\n",
       "      <td>1301</td>\n",
       "      <td>109</td>\n",
       "      <td>172335</td>\n",
       "      <td>5.0</td>\n",
       "      <td>4254</td>\n",
       "    </tr>\n",
       "  </tbody>\n",
       "</table>\n",
       "</div>"
      ],
      "text/plain": [
       "   ROW_ID  SUBJECT_ID  HADM_ID  SEQ_NUM ICD9_CODE\n",
       "0    1297         109   172335      1.0     40301\n",
       "1    1298         109   172335      2.0       486\n",
       "2    1299         109   172335      3.0     58281\n",
       "3    1300         109   172335      4.0      5855\n",
       "4    1301         109   172335      5.0      4254"
      ]
     },
     "execution_count": 14,
     "metadata": {},
     "output_type": "execute_result"
    }
   ],
   "source": [
    "diag = diag[diag['ICD9_CODE'].notna()]\n",
    "print(diag.shape)\n",
    "diag.head()"
   ]
  },
  {
   "cell_type": "code",
   "execution_count": 15,
   "metadata": {},
   "outputs": [],
   "source": [
    "diag = diag.merge(d_icd[['ICD9_CODE','high_level']])"
   ]
  },
  {
   "cell_type": "code",
   "execution_count": 16,
   "metadata": {},
   "outputs": [
    {
     "name": "stdout",
     "output_type": "stream",
     "text": [
      "Number of rows:            634709\n",
      "Number of unique subjects: 46517\n",
      "Number of unique visits:   58925\n",
      "Ave # of ICD9_codes per visit:   10.771472210436997\n",
      "Number of unique ICD9 codes:   6841\n"
     ]
    }
   ],
   "source": [
    "print(\"Number of rows:            {}\".format(diag.shape[0]))\n",
    "print(\"Number of unique subjects: {}\".format(len(diag.SUBJECT_ID.unique())))\n",
    "print(\"Number of unique visits:   {}\".format(len(diag.HADM_ID.unique())))\n",
    "print(\"Ave # of ICD9_codes per visit:   {}\".format(diag.shape[0]/len(diag.HADM_ID.unique())))\n",
    "\n",
    "print(\"Number of unique ICD9 codes:   {}\".format(len(diag.ICD9_CODE.unique())))"
   ]
  },
  {
   "cell_type": "code",
   "execution_count": 37,
   "metadata": {},
   "outputs": [
    {
     "data": {
      "text/html": [
       "<div>\n",
       "<style scoped>\n",
       "    .dataframe tbody tr th:only-of-type {\n",
       "        vertical-align: middle;\n",
       "    }\n",
       "\n",
       "    .dataframe tbody tr th {\n",
       "        vertical-align: top;\n",
       "    }\n",
       "\n",
       "    .dataframe thead th {\n",
       "        text-align: right;\n",
       "    }\n",
       "</style>\n",
       "<table border=\"1\" class=\"dataframe\">\n",
       "  <thead>\n",
       "    <tr style=\"text-align: right;\">\n",
       "      <th></th>\n",
       "      <th>ROW_ID</th>\n",
       "      <th>SUBJECT_ID</th>\n",
       "      <th>HADM_ID</th>\n",
       "      <th>SEQ_NUM</th>\n",
       "      <th>ICD9_CODE</th>\n",
       "      <th>high_level</th>\n",
       "    </tr>\n",
       "  </thead>\n",
       "  <tbody>\n",
       "    <tr>\n",
       "      <th>0</th>\n",
       "      <td>1297</td>\n",
       "      <td>109</td>\n",
       "      <td>172335</td>\n",
       "      <td>1.0</td>\n",
       "      <td>40301</td>\n",
       "      <td>6</td>\n",
       "    </tr>\n",
       "    <tr>\n",
       "      <th>1</th>\n",
       "      <td>1311</td>\n",
       "      <td>109</td>\n",
       "      <td>173633</td>\n",
       "      <td>1.0</td>\n",
       "      <td>40301</td>\n",
       "      <td>6</td>\n",
       "    </tr>\n",
       "    <tr>\n",
       "      <th>2</th>\n",
       "      <td>1019</td>\n",
       "      <td>109</td>\n",
       "      <td>131345</td>\n",
       "      <td>1.0</td>\n",
       "      <td>40301</td>\n",
       "      <td>6</td>\n",
       "    </tr>\n",
       "    <tr>\n",
       "      <th>3</th>\n",
       "      <td>1039</td>\n",
       "      <td>109</td>\n",
       "      <td>131376</td>\n",
       "      <td>1.0</td>\n",
       "      <td>40301</td>\n",
       "      <td>6</td>\n",
       "    </tr>\n",
       "    <tr>\n",
       "      <th>4</th>\n",
       "      <td>1059</td>\n",
       "      <td>109</td>\n",
       "      <td>135923</td>\n",
       "      <td>1.0</td>\n",
       "      <td>40301</td>\n",
       "      <td>6</td>\n",
       "    </tr>\n",
       "  </tbody>\n",
       "</table>\n",
       "</div>"
      ],
      "text/plain": [
       "   ROW_ID  SUBJECT_ID  HADM_ID  SEQ_NUM ICD9_CODE  high_level\n",
       "0    1297         109   172335      1.0     40301           6\n",
       "1    1311         109   173633      1.0     40301           6\n",
       "2    1019         109   131345      1.0     40301           6\n",
       "3    1039         109   131376      1.0     40301           6\n",
       "4    1059         109   135923      1.0     40301           6"
      ]
     },
     "execution_count": 37,
     "metadata": {},
     "output_type": "execute_result"
    }
   ],
   "source": [
    "diag.to_csv(\"../data/diag.csv\", sep='\\t', index=False)\n",
    "diag.head()"
   ]
  },
  {
   "cell_type": "markdown",
   "metadata": {},
   "source": [
    "Only roughly half of the ICD9 codes were marked in this datset"
   ]
  },
  {
   "cell_type": "code",
   "execution_count": 18,
   "metadata": {},
   "outputs": [],
   "source": [
    "# Can I change the diag format to be subject_ID, hadm_ID, <ICD9_code> vector\n",
    "\n",
    "def visit_codes(diag_df, col='ICD9_CODE', rename='ICD9_codes'):\n",
    "    return diag_df.groupby(['HADM_ID','SUBJECT_ID'])[col].apply(list).reset_index(name=rename)\n",
    "\n",
    "# diag_by_visit = diag.groupby(['HADM_ID','SUBJECT_ID'])['ICD9_CODE'].apply(list).reset_index(name='ICD9_codes')\n",
    "diag_by_visit = visit_codes(diag, col='ICD9_CODE')"
   ]
  },
  {
   "cell_type": "code",
   "execution_count": 19,
   "metadata": {},
   "outputs": [
    {
     "data": {
      "text/html": [
       "<div>\n",
       "<style scoped>\n",
       "    .dataframe tbody tr th:only-of-type {\n",
       "        vertical-align: middle;\n",
       "    }\n",
       "\n",
       "    .dataframe tbody tr th {\n",
       "        vertical-align: top;\n",
       "    }\n",
       "\n",
       "    .dataframe thead th {\n",
       "        text-align: right;\n",
       "    }\n",
       "</style>\n",
       "<table border=\"1\" class=\"dataframe\">\n",
       "  <thead>\n",
       "    <tr style=\"text-align: right;\">\n",
       "      <th></th>\n",
       "      <th>HADM_ID</th>\n",
       "      <th>SUBJECT_ID</th>\n",
       "      <th>ICD9_codes</th>\n",
       "    </tr>\n",
       "  </thead>\n",
       "  <tbody>\n",
       "    <tr>\n",
       "      <th>0</th>\n",
       "      <td>100001</td>\n",
       "      <td>58526</td>\n",
       "      <td>[5849, 40390, 5853, V5867, 5780, 25063, 25043,...</td>\n",
       "    </tr>\n",
       "    <tr>\n",
       "      <th>1</th>\n",
       "      <td>100003</td>\n",
       "      <td>54610</td>\n",
       "      <td>[53100, 4019, 5715, 07054, 2851, 45621, 53789,...</td>\n",
       "    </tr>\n",
       "    <tr>\n",
       "      <th>2</th>\n",
       "      <td>100006</td>\n",
       "      <td>9895</td>\n",
       "      <td>[486, 2761, V1582, 51881, 20300, V1251, 49320,...</td>\n",
       "    </tr>\n",
       "    <tr>\n",
       "      <th>3</th>\n",
       "      <td>100007</td>\n",
       "      <td>23018</td>\n",
       "      <td>[486, 4019, 5570, 56081]</td>\n",
       "    </tr>\n",
       "    <tr>\n",
       "      <th>4</th>\n",
       "      <td>100009</td>\n",
       "      <td>533</td>\n",
       "      <td>[2859, 41401, 4111, 2720, 4019, 25000, 44021, ...</td>\n",
       "    </tr>\n",
       "  </tbody>\n",
       "</table>\n",
       "</div>"
      ],
      "text/plain": [
       "   HADM_ID  SUBJECT_ID                                         ICD9_codes\n",
       "0   100001       58526  [5849, 40390, 5853, V5867, 5780, 25063, 25043,...\n",
       "1   100003       54610  [53100, 4019, 5715, 07054, 2851, 45621, 53789,...\n",
       "2   100006        9895  [486, 2761, V1582, 51881, 20300, V1251, 49320,...\n",
       "3   100007       23018                           [486, 4019, 5570, 56081]\n",
       "4   100009         533  [2859, 41401, 4111, 2720, 4019, 25000, 44021, ..."
      ]
     },
     "execution_count": 19,
     "metadata": {},
     "output_type": "execute_result"
    }
   ],
   "source": [
    "diag_by_visit.head()"
   ]
  },
  {
   "cell_type": "code",
   "execution_count": 20,
   "metadata": {},
   "outputs": [],
   "source": [
    "high_level_by_visit = visit_codes(diag, col='high_level', rename='high_levels')\n",
    "high_level_by_visit['high_levels'] = high_level_by_visit['high_levels'].apply(lambda x: list(np.unique(x)))"
   ]
  },
  {
   "cell_type": "code",
   "execution_count": 21,
   "metadata": {},
   "outputs": [
    {
     "data": {
      "text/html": [
       "<div>\n",
       "<style scoped>\n",
       "    .dataframe tbody tr th:only-of-type {\n",
       "        vertical-align: middle;\n",
       "    }\n",
       "\n",
       "    .dataframe tbody tr th {\n",
       "        vertical-align: top;\n",
       "    }\n",
       "\n",
       "    .dataframe thead th {\n",
       "        text-align: right;\n",
       "    }\n",
       "</style>\n",
       "<table border=\"1\" class=\"dataframe\">\n",
       "  <thead>\n",
       "    <tr style=\"text-align: right;\">\n",
       "      <th></th>\n",
       "      <th>HADM_ID</th>\n",
       "      <th>SUBJECT_ID</th>\n",
       "      <th>high_levels</th>\n",
       "    </tr>\n",
       "  </thead>\n",
       "  <tbody>\n",
       "    <tr>\n",
       "      <th>0</th>\n",
       "      <td>100001</td>\n",
       "      <td>58526</td>\n",
       "      <td>[2, 5, 6, 8, 9, 11, 17]</td>\n",
       "    </tr>\n",
       "    <tr>\n",
       "      <th>1</th>\n",
       "      <td>100003</td>\n",
       "      <td>54610</td>\n",
       "      <td>[0, 3, 6, 8, 15]</td>\n",
       "    </tr>\n",
       "    <tr>\n",
       "      <th>2</th>\n",
       "      <td>100006</td>\n",
       "      <td>9895</td>\n",
       "      <td>[1, 2, 4, 7, 15, 17]</td>\n",
       "    </tr>\n",
       "    <tr>\n",
       "      <th>3</th>\n",
       "      <td>100007</td>\n",
       "      <td>23018</td>\n",
       "      <td>[6, 7, 8]</td>\n",
       "    </tr>\n",
       "    <tr>\n",
       "      <th>4</th>\n",
       "      <td>100009</td>\n",
       "      <td>533</td>\n",
       "      <td>[2, 3, 6, 16, 17]</td>\n",
       "    </tr>\n",
       "  </tbody>\n",
       "</table>\n",
       "</div>"
      ],
      "text/plain": [
       "   HADM_ID  SUBJECT_ID              high_levels\n",
       "0   100001       58526  [2, 5, 6, 8, 9, 11, 17]\n",
       "1   100003       54610         [0, 3, 6, 8, 15]\n",
       "2   100006        9895     [1, 2, 4, 7, 15, 17]\n",
       "3   100007       23018                [6, 7, 8]\n",
       "4   100009         533        [2, 3, 6, 16, 17]"
      ]
     },
     "execution_count": 21,
     "metadata": {},
     "output_type": "execute_result"
    }
   ],
   "source": [
    "high_level_by_visit.head()"
   ]
  },
  {
   "cell_type": "code",
   "execution_count": 22,
   "metadata": {},
   "outputs": [],
   "source": [
    "# merge ICD9_codes with high_levels\n",
    "diag_ = diag_by_visit.merge(high_level_by_visit,\n",
    "                   on=['HADM_ID','SUBJECT_ID'])"
   ]
  },
  {
   "cell_type": "code",
   "execution_count": 23,
   "metadata": {},
   "outputs": [
    {
     "name": "stdout",
     "output_type": "stream",
     "text": [
      "(58925, 4)\n"
     ]
    },
    {
     "data": {
      "text/html": [
       "<div>\n",
       "<style scoped>\n",
       "    .dataframe tbody tr th:only-of-type {\n",
       "        vertical-align: middle;\n",
       "    }\n",
       "\n",
       "    .dataframe tbody tr th {\n",
       "        vertical-align: top;\n",
       "    }\n",
       "\n",
       "    .dataframe thead th {\n",
       "        text-align: right;\n",
       "    }\n",
       "</style>\n",
       "<table border=\"1\" class=\"dataframe\">\n",
       "  <thead>\n",
       "    <tr style=\"text-align: right;\">\n",
       "      <th></th>\n",
       "      <th>HADM_ID</th>\n",
       "      <th>SUBJECT_ID</th>\n",
       "      <th>ICD9_codes</th>\n",
       "      <th>high_levels</th>\n",
       "    </tr>\n",
       "  </thead>\n",
       "  <tbody>\n",
       "    <tr>\n",
       "      <th>0</th>\n",
       "      <td>100001</td>\n",
       "      <td>58526</td>\n",
       "      <td>[5849, 40390, 5853, V5867, 5780, 25063, 25043,...</td>\n",
       "      <td>[2, 5, 6, 8, 9, 11, 17]</td>\n",
       "    </tr>\n",
       "    <tr>\n",
       "      <th>1</th>\n",
       "      <td>100003</td>\n",
       "      <td>54610</td>\n",
       "      <td>[53100, 4019, 5715, 07054, 2851, 45621, 53789,...</td>\n",
       "      <td>[0, 3, 6, 8, 15]</td>\n",
       "    </tr>\n",
       "    <tr>\n",
       "      <th>2</th>\n",
       "      <td>100006</td>\n",
       "      <td>9895</td>\n",
       "      <td>[486, 2761, V1582, 51881, 20300, V1251, 49320,...</td>\n",
       "      <td>[1, 2, 4, 7, 15, 17]</td>\n",
       "    </tr>\n",
       "    <tr>\n",
       "      <th>3</th>\n",
       "      <td>100007</td>\n",
       "      <td>23018</td>\n",
       "      <td>[486, 4019, 5570, 56081]</td>\n",
       "      <td>[6, 7, 8]</td>\n",
       "    </tr>\n",
       "    <tr>\n",
       "      <th>4</th>\n",
       "      <td>100009</td>\n",
       "      <td>533</td>\n",
       "      <td>[2859, 41401, 4111, 2720, 4019, 25000, 44021, ...</td>\n",
       "      <td>[2, 3, 6, 16, 17]</td>\n",
       "    </tr>\n",
       "  </tbody>\n",
       "</table>\n",
       "</div>"
      ],
      "text/plain": [
       "   HADM_ID  SUBJECT_ID                                         ICD9_codes  \\\n",
       "0   100001       58526  [5849, 40390, 5853, V5867, 5780, 25063, 25043,...   \n",
       "1   100003       54610  [53100, 4019, 5715, 07054, 2851, 45621, 53789,...   \n",
       "2   100006        9895  [486, 2761, V1582, 51881, 20300, V1251, 49320,...   \n",
       "3   100007       23018                           [486, 4019, 5570, 56081]   \n",
       "4   100009         533  [2859, 41401, 4111, 2720, 4019, 25000, 44021, ...   \n",
       "\n",
       "               high_levels  \n",
       "0  [2, 5, 6, 8, 9, 11, 17]  \n",
       "1         [0, 3, 6, 8, 15]  \n",
       "2     [1, 2, 4, 7, 15, 17]  \n",
       "3                [6, 7, 8]  \n",
       "4        [2, 3, 6, 16, 17]  "
      ]
     },
     "execution_count": 23,
     "metadata": {},
     "output_type": "execute_result"
    }
   ],
   "source": [
    "print(diag_.shape)\n",
    "diag_.head()"
   ]
  },
  {
   "cell_type": "code",
   "execution_count": 24,
   "metadata": {},
   "outputs": [
    {
     "data": {
      "text/plain": [
       "58925"
      ]
     },
     "execution_count": 24,
     "metadata": {},
     "output_type": "execute_result"
    }
   ],
   "source": [
    "len(diag_['HADM_ID'].unique())"
   ]
  },
  {
   "cell_type": "code",
   "execution_count": 25,
   "metadata": {},
   "outputs": [],
   "source": [
    "num_codes_per_visit = diag_['ICD9_codes'].apply(lambda x: len(x))\n",
    "num_hl_per_visit = diag_['high_levels'].apply(lambda x: len(x))"
   ]
  },
  {
   "cell_type": "code",
   "execution_count": 26,
   "metadata": {},
   "outputs": [
    {
     "name": "stdout",
     "output_type": "stream",
     "text": [
      "Number of ICD9 codes per visit:       10.77\n",
      "Number of high level codes per visit: 5.67\n"
     ]
    }
   ],
   "source": [
    "print(\"Number of ICD9 codes per visit:       {0:.{1}f}\".format(np.mean(num_codes_per_visit),2))\n",
    "print(\"Number of high level codes per visit: {0:.{1}f}\".format(np.mean(num_hl_per_visit),2))"
   ]
  },
  {
   "cell_type": "code",
   "execution_count": 27,
   "metadata": {},
   "outputs": [
    {
     "name": "stdout",
     "output_type": "stream",
     "text": [
      "1\n",
      "1\n"
     ]
    }
   ],
   "source": [
    "print(num_codes_per_visit.min())\n",
    "print(num_hl_per_visit.min())\n",
    "# Every visit has at least 1 code"
   ]
  },
  {
   "cell_type": "code",
   "execution_count": 32,
   "metadata": {},
   "outputs": [
    {
     "data": {
      "text/plain": [
       "(58925, 4)"
      ]
     },
     "execution_count": 32,
     "metadata": {},
     "output_type": "execute_result"
    }
   ],
   "source": [
    "diag_.shape"
   ]
  },
  {
   "cell_type": "code",
   "execution_count": 34,
   "metadata": {},
   "outputs": [],
   "source": [
    "diag_.to_csv(\"../data/diag_.csv\", sep='\\t', index=False)"
   ]
  },
  {
   "cell_type": "markdown",
   "metadata": {},
   "source": [
    "## Notes"
   ]
  },
  {
   "cell_type": "code",
   "execution_count": 28,
   "metadata": {},
   "outputs": [
    {
     "name": "stderr",
     "output_type": "stream",
     "text": [
      "/Users/austinmurphy/opt/anaconda3/envs/attentionxml/lib/python3.7/site-packages/IPython/core/interactiveshell.py:3063: DtypeWarning: Columns (4,5) have mixed types.Specify dtype option on import or set low_memory=False.\n",
      "  interactivity=interactivity, compiler=compiler, result=result)\n"
     ]
    }
   ],
   "source": [
    "notes = pd.read_csv(\"../data/NOTEEVENTS.csv\")"
   ]
  },
  {
   "cell_type": "code",
   "execution_count": 35,
   "metadata": {},
   "outputs": [
    {
     "data": {
      "text/html": [
       "<div>\n",
       "<style scoped>\n",
       "    .dataframe tbody tr th:only-of-type {\n",
       "        vertical-align: middle;\n",
       "    }\n",
       "\n",
       "    .dataframe tbody tr th {\n",
       "        vertical-align: top;\n",
       "    }\n",
       "\n",
       "    .dataframe thead th {\n",
       "        text-align: right;\n",
       "    }\n",
       "</style>\n",
       "<table border=\"1\" class=\"dataframe\">\n",
       "  <thead>\n",
       "    <tr style=\"text-align: right;\">\n",
       "      <th></th>\n",
       "      <th>ROW_ID</th>\n",
       "      <th>SUBJECT_ID</th>\n",
       "      <th>HADM_ID</th>\n",
       "      <th>CHARTDATE</th>\n",
       "      <th>CHARTTIME</th>\n",
       "      <th>STORETIME</th>\n",
       "      <th>CATEGORY</th>\n",
       "      <th>DESCRIPTION</th>\n",
       "      <th>CGID</th>\n",
       "      <th>ISERROR</th>\n",
       "      <th>TEXT</th>\n",
       "    </tr>\n",
       "  </thead>\n",
       "  <tbody>\n",
       "    <tr>\n",
       "      <th>0</th>\n",
       "      <td>174</td>\n",
       "      <td>22532</td>\n",
       "      <td>167853.0</td>\n",
       "      <td>2151-08-04</td>\n",
       "      <td>NaN</td>\n",
       "      <td>NaN</td>\n",
       "      <td>Discharge summary</td>\n",
       "      <td>Report</td>\n",
       "      <td>NaN</td>\n",
       "      <td>NaN</td>\n",
       "      <td>Admission Date:  [**2151-7-16**]       Dischar...</td>\n",
       "    </tr>\n",
       "    <tr>\n",
       "      <th>1</th>\n",
       "      <td>175</td>\n",
       "      <td>13702</td>\n",
       "      <td>107527.0</td>\n",
       "      <td>2118-06-14</td>\n",
       "      <td>NaN</td>\n",
       "      <td>NaN</td>\n",
       "      <td>Discharge summary</td>\n",
       "      <td>Report</td>\n",
       "      <td>NaN</td>\n",
       "      <td>NaN</td>\n",
       "      <td>Admission Date:  [**2118-6-2**]       Discharg...</td>\n",
       "    </tr>\n",
       "    <tr>\n",
       "      <th>2</th>\n",
       "      <td>176</td>\n",
       "      <td>13702</td>\n",
       "      <td>167118.0</td>\n",
       "      <td>2119-05-25</td>\n",
       "      <td>NaN</td>\n",
       "      <td>NaN</td>\n",
       "      <td>Discharge summary</td>\n",
       "      <td>Report</td>\n",
       "      <td>NaN</td>\n",
       "      <td>NaN</td>\n",
       "      <td>Admission Date:  [**2119-5-4**]              D...</td>\n",
       "    </tr>\n",
       "    <tr>\n",
       "      <th>3</th>\n",
       "      <td>177</td>\n",
       "      <td>13702</td>\n",
       "      <td>196489.0</td>\n",
       "      <td>2124-08-18</td>\n",
       "      <td>NaN</td>\n",
       "      <td>NaN</td>\n",
       "      <td>Discharge summary</td>\n",
       "      <td>Report</td>\n",
       "      <td>NaN</td>\n",
       "      <td>NaN</td>\n",
       "      <td>Admission Date:  [**2124-7-21**]              ...</td>\n",
       "    </tr>\n",
       "    <tr>\n",
       "      <th>4</th>\n",
       "      <td>178</td>\n",
       "      <td>26880</td>\n",
       "      <td>135453.0</td>\n",
       "      <td>2162-03-25</td>\n",
       "      <td>NaN</td>\n",
       "      <td>NaN</td>\n",
       "      <td>Discharge summary</td>\n",
       "      <td>Report</td>\n",
       "      <td>NaN</td>\n",
       "      <td>NaN</td>\n",
       "      <td>Admission Date:  [**2162-3-3**]              D...</td>\n",
       "    </tr>\n",
       "  </tbody>\n",
       "</table>\n",
       "</div>"
      ],
      "text/plain": [
       "   ROW_ID  SUBJECT_ID   HADM_ID   CHARTDATE CHARTTIME STORETIME  \\\n",
       "0     174       22532  167853.0  2151-08-04       NaN       NaN   \n",
       "1     175       13702  107527.0  2118-06-14       NaN       NaN   \n",
       "2     176       13702  167118.0  2119-05-25       NaN       NaN   \n",
       "3     177       13702  196489.0  2124-08-18       NaN       NaN   \n",
       "4     178       26880  135453.0  2162-03-25       NaN       NaN   \n",
       "\n",
       "            CATEGORY DESCRIPTION  CGID  ISERROR  \\\n",
       "0  Discharge summary      Report   NaN      NaN   \n",
       "1  Discharge summary      Report   NaN      NaN   \n",
       "2  Discharge summary      Report   NaN      NaN   \n",
       "3  Discharge summary      Report   NaN      NaN   \n",
       "4  Discharge summary      Report   NaN      NaN   \n",
       "\n",
       "                                                TEXT  \n",
       "0  Admission Date:  [**2151-7-16**]       Dischar...  \n",
       "1  Admission Date:  [**2118-6-2**]       Discharg...  \n",
       "2  Admission Date:  [**2119-5-4**]              D...  \n",
       "3  Admission Date:  [**2124-7-21**]              ...  \n",
       "4  Admission Date:  [**2162-3-3**]              D...  "
      ]
     },
     "execution_count": 35,
     "metadata": {},
     "output_type": "execute_result"
    }
   ],
   "source": [
    "notes.head()"
   ]
  },
  {
   "cell_type": "code",
   "execution_count": 36,
   "metadata": {},
   "outputs": [
    {
     "name": "stdout",
     "output_type": "stream",
     "text": [
      "Number of rows:            2083180\n",
      "Number of unique subjects: 46146\n",
      "Number of unique visits:   58362\n",
      "Unique Category values:\n",
      "['Discharge summary' 'Echo' 'ECG' 'Nursing' 'Physician ' 'Rehab Services'\n",
      " 'Case Management ' 'Respiratory ' 'Nutrition' 'General' 'Social Work'\n",
      " 'Pharmacy' 'Consult' 'Radiology' 'Nursing/other']\n",
      "(59652, 11)\n"
     ]
    }
   ],
   "source": [
    "print(\"Number of rows:            {}\".format(notes.shape[0]))\n",
    "print(\"Number of unique subjects: {}\".format(len(notes.SUBJECT_ID.unique())))\n",
    "print(\"Number of unique visits:   {}\".format(len(notes.HADM_ID.unique())))\n",
    "\n",
    "print(\"Unique Category values:\")\n",
    "print(notes.CATEGORY.unique())\n",
    "print(notes.loc[notes.CATEGORY=='Discharge summary'].shape)"
   ]
  },
  {
   "cell_type": "code",
   "execution_count": 37,
   "metadata": {},
   "outputs": [],
   "source": [
    "def preprocess_notes(notes_df):\n",
    "    \"\"\"\n",
    "    Preprocessing functin of the notes dataframe. Only return discharge summaries, reports,\n",
    "       and drop unused columns\n",
    "    @param notes_df:     notes dataframe\n",
    "    \n",
    "    \"\"\"\n",
    "    notes_ = notes_df.loc[notes.CATEGORY=='Discharge summary']#.drop(['CHARTDATE', 'CHARTTIME','STORETIME'])\n",
    "    notes_['HADM_ID'] = notes_['HADM_ID'].apply(lambda x: int(x))\n",
    "    \n",
    "    notes_ = notes_.loc[notes_.DESCRIPTION == 'Report'] # removes 4475 records\n",
    "    notes_ = notes_.drop(['CGID','ISERROR','STORETIME','CHARTTIME','CHARTDATE','CATEGORY','DESCRIPTION'],axis=1)\n",
    "    return notes_\n",
    "\n",
    "\n",
    "\n",
    "    "
   ]
  },
  {
   "cell_type": "code",
   "execution_count": 38,
   "metadata": {},
   "outputs": [
    {
     "name": "stderr",
     "output_type": "stream",
     "text": [
      "/Users/austinmurphy/opt/anaconda3/envs/attentionxml/lib/python3.7/site-packages/ipykernel_launcher.py:9: SettingWithCopyWarning: \n",
      "A value is trying to be set on a copy of a slice from a DataFrame.\n",
      "Try using .loc[row_indexer,col_indexer] = value instead\n",
      "\n",
      "See the caveats in the documentation: https://pandas.pydata.org/pandas-docs/stable/user_guide/indexing.html#returning-a-view-versus-a-copy\n",
      "  if __name__ == '__main__':\n"
     ]
    }
   ],
   "source": [
    "notes_ = preprocess_notes(notes)"
   ]
  },
  {
   "cell_type": "code",
   "execution_count": 204,
   "metadata": {},
   "outputs": [
    {
     "data": {
      "text/plain": [
       "'Admission Date:  [**2151-7-16**]       Discharge Date:  [**2151-8-4**]\\n\\n\\nService:\\nADDENDUM:\\n\\nRADIOLOGIC STUDIES:  Radiologic studies also included a chest\\nCT, which confirmed cavitary lesions in the left lung apex\\nconsistent with infectious process/tuberculosis.  This also\\nmoderate-sized left pleural effusion.\\n\\nHEAD CT:  Head CT showed no intracranial hemorrhage or mass\\neffect, but old infarction consistent with past medical\\nhistory.\\n\\nABDOMINAL CT:  Abdominal CT showed lesions of\\nT10 and sacrum most likely secondary to osteoporosis. These can\\nbe followed by repeat imaging as an outpatient.\\n\\n\\n\\n                            [**First Name8 (NamePattern2) **] [**First Name4 (NamePattern1) 1775**] [**Last Name (NamePattern1) **], M.D.  [**MD Number(1) 1776**]\\n\\nDictated By:[**Hospital 1807**]\\nMEDQUIST36\\n\\nD:  [**2151-8-5**]  12:11\\nT:  [**2151-8-5**]  12:21\\nJOB#:  [**Job Number 1808**]\\n'"
      ]
     },
     "execution_count": 204,
     "metadata": {},
     "output_type": "execute_result"
    }
   ],
   "source": [
    "notes_.TEXT[0]"
   ]
  },
  {
   "cell_type": "code",
   "execution_count": 39,
   "metadata": {},
   "outputs": [
    {
     "data": {
      "text/html": [
       "<div>\n",
       "<style scoped>\n",
       "    .dataframe tbody tr th:only-of-type {\n",
       "        vertical-align: middle;\n",
       "    }\n",
       "\n",
       "    .dataframe tbody tr th {\n",
       "        vertical-align: top;\n",
       "    }\n",
       "\n",
       "    .dataframe thead th {\n",
       "        text-align: right;\n",
       "    }\n",
       "</style>\n",
       "<table border=\"1\" class=\"dataframe\">\n",
       "  <thead>\n",
       "    <tr style=\"text-align: right;\">\n",
       "      <th></th>\n",
       "      <th>ROW_ID</th>\n",
       "      <th>SUBJECT_ID</th>\n",
       "      <th>HADM_ID</th>\n",
       "      <th>TEXT</th>\n",
       "    </tr>\n",
       "  </thead>\n",
       "  <tbody>\n",
       "    <tr>\n",
       "      <th>0</th>\n",
       "      <td>174</td>\n",
       "      <td>22532</td>\n",
       "      <td>167853</td>\n",
       "      <td>Admission Date:  [**2151-7-16**]       Dischar...</td>\n",
       "    </tr>\n",
       "    <tr>\n",
       "      <th>1</th>\n",
       "      <td>175</td>\n",
       "      <td>13702</td>\n",
       "      <td>107527</td>\n",
       "      <td>Admission Date:  [**2118-6-2**]       Discharg...</td>\n",
       "    </tr>\n",
       "    <tr>\n",
       "      <th>2</th>\n",
       "      <td>176</td>\n",
       "      <td>13702</td>\n",
       "      <td>167118</td>\n",
       "      <td>Admission Date:  [**2119-5-4**]              D...</td>\n",
       "    </tr>\n",
       "    <tr>\n",
       "      <th>3</th>\n",
       "      <td>177</td>\n",
       "      <td>13702</td>\n",
       "      <td>196489</td>\n",
       "      <td>Admission Date:  [**2124-7-21**]              ...</td>\n",
       "    </tr>\n",
       "    <tr>\n",
       "      <th>4</th>\n",
       "      <td>178</td>\n",
       "      <td>26880</td>\n",
       "      <td>135453</td>\n",
       "      <td>Admission Date:  [**2162-3-3**]              D...</td>\n",
       "    </tr>\n",
       "  </tbody>\n",
       "</table>\n",
       "</div>"
      ],
      "text/plain": [
       "   ROW_ID  SUBJECT_ID  HADM_ID  \\\n",
       "0     174       22532   167853   \n",
       "1     175       13702   107527   \n",
       "2     176       13702   167118   \n",
       "3     177       13702   196489   \n",
       "4     178       26880   135453   \n",
       "\n",
       "                                                TEXT  \n",
       "0  Admission Date:  [**2151-7-16**]       Dischar...  \n",
       "1  Admission Date:  [**2118-6-2**]       Discharg...  \n",
       "2  Admission Date:  [**2119-5-4**]              D...  \n",
       "3  Admission Date:  [**2124-7-21**]              ...  \n",
       "4  Admission Date:  [**2162-3-3**]              D...  "
      ]
     },
     "execution_count": 39,
     "metadata": {},
     "output_type": "execute_result"
    }
   ],
   "source": [
    "notes_.head()"
   ]
  },
  {
   "cell_type": "code",
   "execution_count": 40,
   "metadata": {},
   "outputs": [
    {
     "data": {
      "text/plain": [
       "'Admission Date:  [**2151-7-16**]       Discharge Date:  [**2151-8-4**]\\n\\n\\nService:\\nADDENDUM:\\n\\nRADIOLOGIC STUDIES:  Radiologic studies also included a chest\\nCT, which confirmed cavitary lesions in the left lung apex\\nconsistent with infectious process/tuberculosis.  This also\\nmoderate-sized left pleural effusion.\\n\\nHEAD CT:  Head CT showed no intracranial hemorrhage or mass\\neffect, but old infarction consistent with past medical\\nhistory.\\n\\nABDOMINAL CT:  Abdominal CT showed lesions of\\nT10 and sacrum most likely secondary to osteoporosis. These can\\nbe followed by repeat imaging as an outpatient.\\n\\n\\n\\n                            [**First Name8 (NamePattern2) **] [**First Name4 (NamePattern1) 1775**] [**Last Name (NamePattern1) **], M.D.  [**MD Number(1) 1776**]\\n\\nDictated By:[**Hospital 1807**]\\nMEDQUIST36\\n\\nD:  [**2151-8-5**]  12:11\\nT:  [**2151-8-5**]  12:21\\nJOB#:  [**Job Number 1808**]\\n'"
      ]
     },
     "execution_count": 40,
     "metadata": {},
     "output_type": "execute_result"
    }
   ],
   "source": [
    "notes_.head()['TEXT'][0]"
   ]
  },
  {
   "cell_type": "code",
   "execution_count": 41,
   "metadata": {},
   "outputs": [
    {
     "name": "stdout",
     "output_type": "stream",
     "text": [
      "59\n",
      "325\n",
      "1\n"
     ]
    }
   ],
   "source": [
    "print(np.sum(~notes_['TEXT'].str.contains(\"Admission\")))\n",
    "print(np.sum(~notes_['TEXT'].str.contains(\"Discharge Date\")))\n",
    "print(np.sum(~notes_['TEXT'].str.contains(\"\\[\\*\\*\")))"
   ]
  },
  {
   "cell_type": "code",
   "execution_count": 42,
   "metadata": {},
   "outputs": [
    {
     "data": {
      "text/plain": [
       "55114"
      ]
     },
     "execution_count": 42,
     "metadata": {},
     "output_type": "execute_result"
    }
   ],
   "source": [
    "np.sum(notes_['TEXT'].str.contains(\"Admission Date:\"))"
   ]
  },
  {
   "cell_type": "code",
   "execution_count": 43,
   "metadata": {},
   "outputs": [
    {
     "name": "stdout",
     "output_type": "stream",
     "text": [
      "Num rows:            55177\n",
      "Num unique HADM_IDs: 52691\n"
     ]
    }
   ],
   "source": [
    "print(\"Num rows:            {}\".format(notes_.shape[0]))\n",
    "print(\"Num unique HADM_IDs: {}\".format(len(notes_['HADM_ID'].unique())))"
   ]
  },
  {
   "cell_type": "markdown",
   "metadata": {},
   "source": [
    "## To do: \n",
    "\n",
    "- clean up text column\n",
    "    - remove \"Addmission Date\", etc. notes\n",
    "    - Remove new line characters\n",
    "- Take out unknown ICD9 codes?\n",
    "\n",
    "\n",
    "\n",
    "\n",
    "Text column: \n",
    "- Remove new line characters, replace with a space\n",
    "- Remove tab characters, replace with a space\n",
    "- Remove all double spaces\n",
    "- Remove headers, tails\n",
    "- Remove trailing white space\n",
    "\n",
    "\n",
    "Tokenize using spaCy library"
   ]
  },
  {
   "cell_type": "code",
   "execution_count": 89,
   "metadata": {},
   "outputs": [],
   "source": [
    "blah = notes_.copy(deep=True).head(30)"
   ]
  },
  {
   "cell_type": "code",
   "execution_count": 90,
   "metadata": {},
   "outputs": [
    {
     "data": {
      "text/html": [
       "<div>\n",
       "<style scoped>\n",
       "    .dataframe tbody tr th:only-of-type {\n",
       "        vertical-align: middle;\n",
       "    }\n",
       "\n",
       "    .dataframe tbody tr th {\n",
       "        vertical-align: top;\n",
       "    }\n",
       "\n",
       "    .dataframe thead th {\n",
       "        text-align: right;\n",
       "    }\n",
       "</style>\n",
       "<table border=\"1\" class=\"dataframe\">\n",
       "  <thead>\n",
       "    <tr style=\"text-align: right;\">\n",
       "      <th></th>\n",
       "      <th>ROW_ID</th>\n",
       "      <th>SUBJECT_ID</th>\n",
       "      <th>HADM_ID</th>\n",
       "      <th>TEXT</th>\n",
       "    </tr>\n",
       "  </thead>\n",
       "  <tbody>\n",
       "    <tr>\n",
       "      <th>0</th>\n",
       "      <td>174</td>\n",
       "      <td>22532</td>\n",
       "      <td>167853</td>\n",
       "      <td>Admission Date:  [**2151-7-16**]       Dischar...</td>\n",
       "    </tr>\n",
       "    <tr>\n",
       "      <th>1</th>\n",
       "      <td>175</td>\n",
       "      <td>13702</td>\n",
       "      <td>107527</td>\n",
       "      <td>Admission Date:  [**2118-6-2**]       Discharg...</td>\n",
       "    </tr>\n",
       "    <tr>\n",
       "      <th>2</th>\n",
       "      <td>176</td>\n",
       "      <td>13702</td>\n",
       "      <td>167118</td>\n",
       "      <td>Admission Date:  [**2119-5-4**]              D...</td>\n",
       "    </tr>\n",
       "    <tr>\n",
       "      <th>3</th>\n",
       "      <td>177</td>\n",
       "      <td>13702</td>\n",
       "      <td>196489</td>\n",
       "      <td>Admission Date:  [**2124-7-21**]              ...</td>\n",
       "    </tr>\n",
       "    <tr>\n",
       "      <th>4</th>\n",
       "      <td>178</td>\n",
       "      <td>26880</td>\n",
       "      <td>135453</td>\n",
       "      <td>Admission Date:  [**2162-3-3**]              D...</td>\n",
       "    </tr>\n",
       "  </tbody>\n",
       "</table>\n",
       "</div>"
      ],
      "text/plain": [
       "   ROW_ID  SUBJECT_ID  HADM_ID  \\\n",
       "0     174       22532   167853   \n",
       "1     175       13702   107527   \n",
       "2     176       13702   167118   \n",
       "3     177       13702   196489   \n",
       "4     178       26880   135453   \n",
       "\n",
       "                                                TEXT  \n",
       "0  Admission Date:  [**2151-7-16**]       Dischar...  \n",
       "1  Admission Date:  [**2118-6-2**]       Discharg...  \n",
       "2  Admission Date:  [**2119-5-4**]              D...  \n",
       "3  Admission Date:  [**2124-7-21**]              ...  \n",
       "4  Admission Date:  [**2162-3-3**]              D...  "
      ]
     },
     "execution_count": 90,
     "metadata": {},
     "output_type": "execute_result"
    }
   ],
   "source": [
    "blah.head()"
   ]
  },
  {
   "cell_type": "code",
   "execution_count": 91,
   "metadata": {},
   "outputs": [],
   "source": [
    "def clean_text(series):\n",
    "    series = series.str.lower()\n",
    "    series = series.str.replace('\\n',' ',regex=False)\n",
    "    series = series.str.replace('\\t',' ',regex=False)\n",
    "    series = series.str.replace('\\s+', ' ', regex=True)\n",
    "    series = series.str.replace(\"admission date: \\[\\*\\*.*?\\*\\*\\]\",' ', regex=True)\n",
    "    series = series.str.replace(\"discharge date: \\[\\*\\*.*?\\*\\*\\]\", ' ', regex=True)\n",
    "    series = series.str.replace(\"\\[\\*\\*.*?\\*\\*\\]\", ' ', regex=True)\n",
    "    series = series.str.replace('date of birth: ', ' ', regex=True)\n",
    "    series = series.str.strip()\n",
    "    series = series.str.replace('medquist.*', ' ', regex=True)\n",
    "    series = series.str.replace('dictated by:', ' ', regex=True)\n",
    "    series = series.str.replace('completed by:', ' ', regex=True)\n",
    "    series = series.str.replace('\\s+', ' ', regex=True)\n",
    "    series = series.str.replace(\"[^a-zA-Z :.,/-]\",'d',regex=True)\n",
    "    series = series.str.replace(\":\",'',regex=False)\n",
    "    series = series.str.replace(\"d{3,}\", \"\", regex=True)\n",
    "    series = series.str.strip()\n",
    "    return series"
   ]
  },
  {
   "cell_type": "code",
   "execution_count": 92,
   "metadata": {},
   "outputs": [],
   "source": [
    "blah.TEXT = clean_text(blah.TEXT)"
   ]
  },
  {
   "cell_type": "code",
   "execution_count": 93,
   "metadata": {},
   "outputs": [
    {
     "data": {
      "text/html": [
       "<div>\n",
       "<style scoped>\n",
       "    .dataframe tbody tr th:only-of-type {\n",
       "        vertical-align: middle;\n",
       "    }\n",
       "\n",
       "    .dataframe tbody tr th {\n",
       "        vertical-align: top;\n",
       "    }\n",
       "\n",
       "    .dataframe thead th {\n",
       "        text-align: right;\n",
       "    }\n",
       "</style>\n",
       "<table border=\"1\" class=\"dataframe\">\n",
       "  <thead>\n",
       "    <tr style=\"text-align: right;\">\n",
       "      <th></th>\n",
       "      <th>ROW_ID</th>\n",
       "      <th>SUBJECT_ID</th>\n",
       "      <th>HADM_ID</th>\n",
       "      <th>TEXT</th>\n",
       "    </tr>\n",
       "  </thead>\n",
       "  <tbody>\n",
       "    <tr>\n",
       "      <th>0</th>\n",
       "      <td>174</td>\n",
       "      <td>22532</td>\n",
       "      <td>167853</td>\n",
       "      <td>service addendum radiologic studies radiologic...</td>\n",
       "    </tr>\n",
       "    <tr>\n",
       "      <th>1</th>\n",
       "      <td>175</td>\n",
       "      <td>13702</td>\n",
       "      <td>107527</td>\n",
       "      <td>sex f service micu and then to medicine histor...</td>\n",
       "    </tr>\n",
       "    <tr>\n",
       "      <th>2</th>\n",
       "      <td>176</td>\n",
       "      <td>13702</td>\n",
       "      <td>167118</td>\n",
       "      <td>service cardiothoracic allergies amlodipine at...</td>\n",
       "    </tr>\n",
       "    <tr>\n",
       "      <th>3</th>\n",
       "      <td>177</td>\n",
       "      <td>13702</td>\n",
       "      <td>196489</td>\n",
       "      <td>service medicine allergies amlodipine attendin...</td>\n",
       "    </tr>\n",
       "    <tr>\n",
       "      <th>4</th>\n",
       "      <td>178</td>\n",
       "      <td>26880</td>\n",
       "      <td>135453</td>\n",
       "      <td>sex m service medicine allergies patient recor...</td>\n",
       "    </tr>\n",
       "  </tbody>\n",
       "</table>\n",
       "</div>"
      ],
      "text/plain": [
       "   ROW_ID  SUBJECT_ID  HADM_ID  \\\n",
       "0     174       22532   167853   \n",
       "1     175       13702   107527   \n",
       "2     176       13702   167118   \n",
       "3     177       13702   196489   \n",
       "4     178       26880   135453   \n",
       "\n",
       "                                                TEXT  \n",
       "0  service addendum radiologic studies radiologic...  \n",
       "1  sex f service micu and then to medicine histor...  \n",
       "2  service cardiothoracic allergies amlodipine at...  \n",
       "3  service medicine allergies amlodipine attendin...  \n",
       "4  sex m service medicine allergies patient recor...  "
      ]
     },
     "execution_count": 93,
     "metadata": {},
     "output_type": "execute_result"
    }
   ],
   "source": [
    "blah.head()"
   ]
  },
  {
   "cell_type": "code",
   "execution_count": 94,
   "metadata": {},
   "outputs": [
    {
     "data": {
      "text/plain": [
       "'service med allergies bactrim / amiodarone / quinine / codeine / zithromax attending chief complaint abdominal discomfort major surgical or invasive procedure ercp x d endotracheal intubation history of present illness the patient is an dd year old woman with pmh of esrd on hd, htn, and dm, who presented to the ed on with complaint of nausea, vomiting, abdominal pain, and diarrhea x d days. the patient also reported recent fever and chills. in the ed, patient had a low grade temperature of .d degrees. her abdomen was slightly distended, with no rigidity or rebound. admission laboratory data were notable for wbc d.d, elevated transaminases, and inr d.d. right upper quadrant ultrasound disclosed a d mm gallstone in the neck of the gallbladder. there was also a dmm gallstone in the common bile duct, without ductal dilatation. the patient was evaluated by surgery for her choledocholithiasis. the patient was also seen by the ercp fellow. the patient was not acutely ill last night, so she was admitted to the medicine team, with plan for ercp today. she was kept npo and was administered ivf overnight. this morning, she was administered d u ffp to reverse her inr. after receiving d u ffp, she became hypoxic, with od sats dropping to the dds. she was placed on  nrb with improvement in her od sats to the dds. prior to dialysis, she was given  mg iv lasix, with urine output dnon measuredd. at  pm, she was transferred to the hemodialysis unit for initiation of hemodialysis. approximately d l was removed, yet the patient remained in respiratory distress, with od sats in the low dds on nrb. at  pm, a respiratory code was called since patientds od sats dropped to dds on the nrb. the patient was emergently intubated. abg prior to intubation was d.dd/dd/dd. ekg disclosed new st segment depressions in the inferior and lateral leads. following intubation, the patientds sbp dropped to dds. she was administered approximately  cc ns bolus, and required dopamine transiently. the patient was transferred to the micu for further management. past medical history d. end stage renal disease, on hemodialysis via rij tunnelled portacath. h/o failed left arm fistula. d. history of crescente glomerulonephritis by renal biopsy, likely related to underlying vasculitis. d. vasculitis, anca positive, treated with chronic steroids. currently on steroid taper. d. chronic obstructive pulmonary disease. d. steroid induced diabetes mellitus. d. chronic anemia related to end stage renal disease. d. history of hemorrhoids. d. atrial fibrillation, status post transesophageal echocardiography and cardioversion, currently on atenolol and coumadin with an ejection fraction of over dd percent on echocardiogram in . d. gastroesophageal reflux disease with a normal egd . dd. hypothyroidism. dd. hypertension. social history prior tobacco history over twenty years ago. she denies any alcohol use. she lives with her daughter, , who is her health care proxy. the patient is full code. primary care physician is . . family history non-contributory physical exam general elderly female lying in bed, ett in place. vs t .d bp /dd initially, dd/dd at d pm hr  resp ac xdd//d odsat  heent sclerae anicteric. perrl. mmm. op clear. neck obese. supple. difficult to assess jvp. cvs rrr. sd, sd. no m/r/g. lungs crackles in bases bilaterally. abd slightly distended. dbs. ext cold. no clubbing, cyanosis, or edema. l avf. neuro intubated, sedated. moving all extremities. pertinent results am wbc-d.d rbc-d.dd hgb-dd.d hct-dd.d mcv-dd mch-dd.d mchc-dd.d rdw-dd.dd am neuts-dd.dd lymphs-dd.dd monos-d.d eos-d.d basos-d.d am plt count- am blood wbc-d.dd rbc-d. hgb-dd.dd hct-dd.dd mcv-dd mch-dd.d mchc-dd.d rdw-dd.dd plt ct- am blood pt-dd.dd ptt-dd.dd inrdptd-d.d pm blood pt-dd.d ptt-dd.d inrdptd-d.d am blood glucose- urean-dd creat-d.dd na- k-d.d cl- hcod-dd angap-dd am blood glucose- urean-d creat-d.dd na- k-d.d cl- hcod-dd angap-dd am blood alt- ast-dd alkphos- amylase-dd totbili-d.d am blood alt- ast-dd alkphos- amylase-dd totbili-d.d am blood lipase-dd ggt- am blood lipase-dd am blood albumin-d.dd calcium-d.dd phos-d.d mg-d.d pm blood type-art pod- pcod- ph-d. calhcod-dd base xs--d pm blood pod- pcod- ph-d. calhcod-dd base xs--d pm blood lactate-d.dd ekg  pmd sinus tachycardia  bpm. nl intervals, nl axis. st segment depressions in ii, iii, avf, vd-vd. poor r wave progression. these changes are new compared to previous ekg d d.  pmd radiology radiology final report ddabnormald liver or gallbladder us dsingle organd  pm liver or gallbladder us dsingl reason ruq pain and nausea, ro cholecystitis medical condition dd year old woman with hx diabetes, renal failure, on tapering prednisone for anca-positive vasculitis with known gallstone by abd ct last month, and intermittent vomiting but no abd pain. r/o acute cholecystitis or abscess. reason for this examination acute cholecystitis or abscess indication intermittent vomiting without abdominal pain. known gallstone by abdominal ct last month. comparison ct scan, , is not available on line for comparison. findings there is a d-mm gallstone within the gallbladder neck, but there is no evidence of gallbladder wall edema or pericholecystic fluid to suggest acute cholecystitis. additionally, a d-mm flat stone is seen within the common duct, but there is no evidence of ductal dilatation. the common duct measures d-d mm proximally. there is no intrahepatic ductal dilatation. the portal vein is open, and flow is hepatopetal. the pancreas appears echogenic, consistent with fatty infiltration. there is no free fluid. impression cholelithiasis and choledocholithiasis without evidence of acute cholecystitis. the study and the report were reviewed by the staff radiologist. dr. dr. approved mon  pm radiology preliminary report chest dportable apd  pm chest dportable apd reason dvolume overload medical condition dd year old woman with chf and decreasing sats after ffp infusion reason for this examination dvolume overload indication decreasing oxygen saturation after ffp administration. comparison . chest, ap portable radiograph there is stable cardiac enlargement. the mediastinal and hilar contours are unremarkable. there is bilateral pulmonary vascular redistribution, perihilar haziness and interstitial opacities. there is unchanged small left pleural effusion. the right internal jugular central venous catheter is again noted with tip in the proximal right atrium. the osseous structures are unremarkable. impression new pulmonary edema. dr. dr. brief hospital course d. respiratory failure on h, the patient developed acute respiratory distress. the patient had recieved ivf in the ed the nigtht before and that monring had recieved d units of ffp for planned ercp, the last two within one hour of respiratory distress. cxr demonstrated acute developement of bilateral pulmonary infiltrates. ddx included cardiogenic pulmonary edema versus trali. the patient was taken for emergent hdd however, depspite succesful diuresis, the patient required intubation for respiratory failure. trali work-up is pending at the time of discharge. the patient remained intubated in the micu and succesfully extubated on the second attempt. d. hypotension after intubation, the patient became hypotensive in the micu requiring initiation of pressors. she was found to be adrenally insufficent by cortisyn stimulation test and started on stress-dose hydrocortisone and fludircortisone. in addition, she required pressors and continued iv unasyn for possible sepsis, though blood cultures were negative. the patientds blood pressure improved and stablized. d. choledocholithasis demonstrated on admission ruq us on admission without transaminitis but with low-grade fever and left-shift. the patient was evaluted by surgery and ercp service. she was started on iv unasyn. patient underwent ercp in micu while intubated, which demonstrated dilated cbd but no stones. patient had spinchterotomy. the patient completed a dd day course of iv unsyn and will be discharged on two days. consideration should be given to possible outpatient cholecystetomy. d. gi bleed post-ercp, the patient dropped hct and was foudn to be guiac postitive. patient underwent repeat ercp which demonstrated spincterotomy bleed. this required epiniephrine injection. hct remained relatively stable, though she had a possible rebleed several days later which stablized without repeat scope. asa and coumadin were held bleed and may be safely restarted on . the patientds hct remained stable for the rest of her hospital course. the patient will continue on her ppi. d. coronary artery disease during the patientds micu stay, ekg was noted to have poor r wave progression. an echocardiogram was obtained which demonstrated regional lv dysfunction suggesting cad. cardiac enzymes demonstrated non-diagnostic elevated tropnin t, felt either secondary to demand or esrd. asa was held gi bleed and the patientds beta-blocker was continued. the patient will need an outpatient evaluation of her coronaries, likely with ett mibi when she is stable. again, asa will be started . d. esrd the patient did well on her hemodilyasis schedule. the patientds prednisone was continued for her history of renal vascultitis. d. hypothryoidism patient stable on levothyroxine. discharge medications d. levothyroxine sodium  mcg tablet sig one  tablet po qd donce a dayd. d. prednisone d mg tablet sig as directed tablet po once a day take four tablets on day dd, two tablets on day dd, one tablet on day dd, then resume d mg per day. dispdd tabletdsdd refills d. pantoprazole sodium dd mg tablet, delayed release de.c.d sig one  tablet, delayed release de.c.d po twice a day. d. toprol xl dd mg tablet sustained release ddhr sig one  tablet sustained release ddhr po once a day. d. lidocaine d d adhesive patch, medicated sig one  adhesive patch, medicated topical qd donce a dayd. d. albuterol-ipratropium -dd mcg/actuation aerosol sig puffs inhalation qdh devery d hoursd as needed. d. nephrocaps d mg capsule sig one  capsule po once a day. d. miconazole nitrate d d cream sig one  appl topical dd times a dayd. dispdd tubed refills d. augmentin - mg tablet sig one  tablet po once a day for d days. dispdd tabletdsdd refills dd. prednisone d mg tablet sig one  tablet po once a day start after higher-dose prednisone complete. discharge disposition home discharge diagnosis choledocholithasis spinchterotomy upper gi bleed esrd coronary artery disease diarrhea anemia hypothryoidism respiratory failure diabetes mellitus discharge condition good discharge instructions d. please follow-up with your pcp d. your primary doctor will obtain a medical alert braclet for you, indicating that you have adrenal insufficency. d. you will restart your coumadin and start aspirin on after seeing your pcp. followup instructions please follow-up with dr. on , at'"
      ]
     },
     "execution_count": 94,
     "metadata": {},
     "output_type": "execute_result"
    }
   ],
   "source": [
    "blah.TEXT[25]"
   ]
  },
  {
   "cell_type": "code",
   "execution_count": 95,
   "metadata": {},
   "outputs": [
    {
     "data": {
      "text/plain": [
       "'service medicine allergies amlodipine attending chief complaint copd exacerbation/shortness of breath major surgical or invasive procedure intubation arterial line placement picc line placement esophagogastroduodenoscopy history of present illness dd yo f with h/o chf, copd on d l oxygen at baseline, tracheobronchomalacia s/p stent, presents with acute dyspnea over several days, and lethargy. this morning patient developed an acute worsening in dyspnea, and called ems. ems found patient tachypnic at saturating  on dl. patient was noted to be tripoding. she was given a nebulizer and brought to the er. . according the patientds husband, she was experiencing symptoms consistent with prior copd flares. apparently patient was without cough, chest pain, fevers, chills, orthopnea, pnd, dysuria, diarrhea, confusion and neck pain. her husband is a physician and gave her a dose of levaquin this morning. . in the ed, patient was saturating  on nrb. cxr did not reveal any consolidation. per report ekg was unremarkable. laboratory evaluation revealed a leukocytosis if dd and lactate of d.d. patient received combivent nebs, solumedrol  mg iv xd, aspirin  mg po xd. mg sulfate d g iv xd, azithromycin  mg ivxd, levofloxacin  mg ivxd, and cefrtiaxone dg ivxd. patient became tachpnic so was trialed on non-invasive ventilation but became hypotensive to systolics of dd, so noninvasive was removed and patient did well on nrb and nebulizers for about d hours. at that time patient became agitated, hypoxic to  and tachypnic to the dds, so patient was intubated. post intubation abg was d.d/dd/dd/dd. propafol was switched to fentanyl/midazolam for hypotension to the dds. received dl of ns. on transfer, patient vs were , dd/dd,  on   x dd peep d. patient has peripheral access xd. . in the icu, patient appeared comfortable. review of sytems limited due to patient sedation past medical history d copd flare fevd  in , on dl oxygen, s/p intubation , s/p distal tracheal to left main stem stents placed . stents d/cdd . tracheobronchoplasty performed , d cad w/ atypical angina dcath - lad , rca , ef  d dyslipidemia d hypothyroidism, d hypertension d hiatal hernia, d lacunar cva, d s/p ped struck -d head injury d rib fx, d depression social history the patient is married and worked as a clinical psychologist. her husband is a pediatric neurologist at . they have several children, one of which is a nurse. with dd pack years, quit d years ago. social ethanol user. no history of ivdu, but remote history of marijuana use. family history  fhx cadd father with an mi in his s, died of a cva at age dd physical exam on admission vitals t bp /dd p dd od  tv   x dd peep d general intubated, sedated, no apparent discomfort heent sclera anicteric, mmm, oropharynx clear neck supple, jvp not elevated, no lad lungs crackles bases bilaterally cv regular rate and rhythm, normal sd d sd, no murmurs, rubs, gallops abdomen soft, non-tender, non-distended, bowel sounds present, no rebound tenderness or guarding, no organomegaly gu no foley ext warm, well perfused, dd pulses, no clubbing, cyanosis or edema pertinent results initial labs am blood wbc-dd. rbc-d. hgb-dd.dd hct-dd.dd mcv-dd mch-dd.d mchc-dd.d rdw-dd.d plt ct- am blood neuts-dd.dd lymphs-d.dd monos-d.dd eos-d.d baso-d.d am blood pt-dd.d ptt-dd.d inrdptd-d.d am blood glucose- urean-dd creat-d.d na- k-d.d cl- hcod- angap-dd am blood calcium-d.d phos-d.d mg-d.d cardiac biomarkers am blood ckdcpkd- ctropnt-d. pm blood ckdcpkd- ck-mb- mb indx-d.d ctropnt-d.dd am blood ckdcpkd- ck-mb- mb indx-d.d ctropnt-d.dd pm blood ckdcpkd- ck-mb- mb indx-d.d ctropnt-d.dd am blood ckdcpkd- ck-mb-d ctropnt-d.dd probnp- cxr d d - impression hiatal hernia, otherwise unremarkable. limited exam. echo d d - there is mild symmetric left ventricular hypertrophy with normal cavity size and regional/global systolic function dlvef. the estimated cardiac index is normal .dl/min/mdd. tissue doppler imaging suggests an increased left ventricular filling pressure dpcwpmmhgd. right ventricular chamber size is normal. with normal free wall contractility. the aortic valve leaflets  are mildly thickened but aortic stenosis is not present. no aortic regurgitation is seen. the mitral valve leaflets are mildly thickened. there is no mitral valve prolapse. mild  mitral regurgitation is seen. the tricuspid valve leaflets are mildly thickened. there is moderate pulmonary artery systolic hypertension. there is an anterior space which most likely represents a prominent fat pad. impression normal biventricular systolic function. moderate pulmonary artery systolic hypertension. cxr d d - kyphotic positioning. compared with one day earlier and allowing for technical differences, the right-sided effusion may be slightly larger. otherwise, no significant change is detected. again seen is retrocardiac opacity consistent with left lower lobe collapse and/or consolidation and a small left effusion. as noted, a right effusion is again seen, possibly slightly larger on the current examination, with underlying collapse and/or consolidation. doubt chf. degenerative changes of the thoracic spine are noted. cardiac enzymes  tropdd.dd  trop d.dd  trop d.dd labs at discharge am blood wbc-d.d rbc-d. hgb-d.dd hct-dd.dd mcv-dd mch-dd.d mchc-dd.d rdw-dd.d plt ct- am blood pt-dd.d ptt-dd.d inrdptd-d.dd am blood glucose- urean-dd creat-d.d na- k-d.d cl- hcod- angap-d am blood calcium-d.d phos-d.d mg-d.d am blood tsh-d.dd brief hospital course dd yo f with h/o chf, copd on d l oxygen at baseline, tracheobronchomalacia s/p stent, presents with acute dyspnea over several days, no s/p intubation for hypercarbic respiratory failure. d hypercarbic respiratory failure presents with dyspnea, but no clear cough or fevers. per report, patient felt like this with prior copd exacerbations. leukocytosis supports possible pneumonia, but history and cxr not entirely consistent with this. ekg with signs of demand, but romi negative. sputum gram stain unremarkable, but respitatory viral culture grew parainfluenze type d on . patient was initially managed on solumedrol dd mg iv qdh, and was eventually tapered. with no evidence of pneumonia on cxr and sputum gram stain, antibiotics were stopped . beta-agonists and anticholinergics were continued around the clock. tte revealed mild symmetric lvh with normal ef, increased pcwp mmhgd, normal rv, and moderate pulmonary artery systolic hypertension. on , bronchoscopy revealed collapsible, unremarkable airways. patient had difficulty weaning from the vent, and would become interimittenty hypertensive to sbp s and tachypnic to the dds. patient was extubatied on after passing sbt d/d, but required re-intubation dd minutes later for worsening secretions, lack of gag reflex, and tachypnea to the dds. of note, on , the patient was found to have mrsa growing in sputum samples. although it was felt that this likely represented colonization as opposed to true infection, the patient was started on a course of vancomycin dwhich was stopped after d daysd. after multiple discussions between the patientds family and the icu team, the patientds pcp, the palliative care service, the patientds family ultimately decided that she would not want a tracheostomy. on , extubation was pursued again and was successful. after extubation, her respiratory status improved and she was ultimately called out to the medical floor. on the floor she was progressively weaned to dlnc with nebs dbetter than her baseline dl dhomed. because of clinical exams revealing mild volume overload, she was intermittently diuresed. she also experienced intermittent shortness of breath with tachypnea but this was thought to be the result of attacks of anxiety with tachypnea. after receiving prn morphine, her breathing status would typically improve. a steroid taper was begun. the patient should continue prednisone dd mg daily for d more days, then dd mg daily for d days, then dd mg daily for d days, then d mg daily for d days, then stop. . d upper gi bleeding on , patient had coffee grounds from og tube. lavage for approx ccs with clearance. gi perfomred egd which revealed esophagitis, ulcers and blood in the stomach body, dd diverticulum and large hiatal hernia. h pylori was negative. patient was continued on iv ppi, with plan for repeat egd in d weeks, and upper gi series once clinically improved given abnormal anatomy on egd. her hematocrit remained stable with no further episodes of upper gi bleeding throughout the patientds hospitalization. on the floor she was switched to po pantoprazole twice daily. aspirin was held. . d weakness the patient was found to have generalized weakness at the end of her hospitalization. neurology was consulted and they felt it was likely due to a combination of steroid myopathy and deconditioning from her prolonged bedbound status. a tsh was checked which was normal. they recommended pulmonary and physical rehab. . d cad history of lad and rca stenosis on cath, but no stents. continued statin and beta blocker, but held aspirin for gi bleeding dsee aboved . d nutrition unable to pass ng without direct visualization due to hiatal hernia. ir guided post pyloric ng tube was placed on for tfs and po medications. ng tube was pulled when patient was extubated on . speech and swallow were consulted following the patientds extubation and she was eventually moved to soft solids and thin liquids with dd supervision. d goals of care pcp . was very involved in discussions regarding patientds code status. palliative care also followed along with the patient. ultimately, at the time of the patientds extubation on , it was decided that the patient would be dnr/dni dalthough this was later changed. the patientds family felt that she would not want a tracheostomy. it was decided that she would not be reintubated and that, if her respiratory status were to worsen after intubation, care would be focused on comfort. however, her status improved in the micu and on the floor and it was then decided that she would remain dnr with intubation dbut no tracheostomyd if her breathing deteriorated. after several days with stable or improved overall clinical status, she was deemed suitable for rehabilitation. at the timem of discharge, the patientds code status was do not resuscitate, okay to intubate. medications on admission d omeprazole dd mg daily d furosemide dd mg daily d toprol xl dd mg daily d lipitor dd mg daily d folic acid d mg daily d centrum daily d diovan dd mg daily d trazodone dd- mg qhs d melatonin d mg qhs d aspirin  mg daily d albuterol neb prn d duoneb prn d advair /dd d zolpidem d.d mg qhs prn d synthroid  mcg daily d lexapro dd mg daily discharge medications d. metoprolol succinate dd mg tablet sustained release dd hr sig one  tablet sustained release dd hr po once a day. d. atorvastatin dd mg tablet sig one  tablet po daily ddailyd. d. folic acid d mg tablet sig one  tablet po daily ddailyd. d. multivitamin tablet sig one  tablet po daily ddailyd. d. trazodone dd mg tablet sig one  tablet po at bedtime as needed for insomnia. d. melatonin d mg tablet sig one  tablet po at bedtime. d. valsartan  mg tablet sig d.d tablets po once a day. d. albuterol sulfate d.d mg /d ml dd. dd solution for nebulization sig one  neb inhalation every d-d hours as needed for shortness of breath or wheezing. d. duoneb d.d mg-d mgdd.d mg based/d ml solution for nebulization sig one  neb inhalation every six  hours as needed for shortness of breath or wheezing. dd. fluticasone-salmeterol -dd mcg/dose disk with device sig one  puff inhalation twice a day. dd. escitalopram dd mg tablet sig two  tablet po daily ddailyd. dd. levothyroxine  mcg tablet sig one  tablet po daily ddailyd. dd. prednisone dd mg tablet sig one  tablet po daily dd for d days start after d days of dd mg daily. dd. prednisone dd mg tablet sig one  tablet po daily dd for d days start after d days of dd mg daily. dd. prednisone d mg tablet sig one  tablet po daily dd for d days start after d days of dd mg daily. dd. hydrochlorothiazide dd.d mg capsule sig one  capsule po daily ddailyd. dd. pantoprazole dd mg tablet, delayed release de.c.d sig one  tablet, delayed release de.c.d po twice a day. dd. morphine dd mg/d ml solution sig five  mg po every four  hours as needed for respiratory discomfort hold for oversedation or rr. dd. prednisone dd mg tablet sig three  tablet po once a day for d days. dd. colace  mg capsule sig one  capsule po twice a day. dd. senna d.d mg tablet sig one  tablet po twice a day as needed for constipation. dd. humalog insulin sliding scale please use attached humalog insulin sliding scale while on steroids. discharge disposition extended care facility center at discharge diagnosis primary d. chronic obstructive pulmonary disease exacerbation d. respiratory failure with intubation d. upper gastrointestinal bleed/peptic ulcer disease d. hypertension d. anxiety secondary d. coronary artery disease d. hypothyroidism discharge condition mental status confused - sometimes. level of consciousness alert and interactive. activity status out of bed with assistance to chair or wheelchair. discharge instructions you were admitted to the hospital with shortness of breath and respiratory failure and lethargy. in the emergency department, you were breathing very fast and a breathing tube was inserted into your airway to help you breathe. you were admitted to the intensive care unit. there, you were managed with steroids and antibiotics and the tube was eventually removed from your airway, allowing you to breathe on your own. you also underwent bronchoscopy which looked at the inside of your airways. . during your time in the intensive care unit, you developed a gastrointestinal bleed. a tube was placed into your stomach and you underwent an endoscopic procedure to look at your esophagus and stomach. this showed inflammation in your esophagusand ulcers in your stomach. . you should continue to use nasal oxygen by nasal cannula as needed. you should continue the steroid taper as instructed. you should call your doctor or return to the emergency room if you have increasing difficulty breathing or shortness of breath, wheezing, chest pain, blood in your stool or vomiting blood. . there are some changes in your medications. start pantoprazole dd mg twice daily and stop omeprazole start hydrochlorothiazide start prednisone, taking dd mg for d days, then dd mg for d days, then dd mg for d days, then d mg for d days, then stop. start colace and senna as needed for constipation can use morphine to alleviate symptoms of respiratory discomfort stop furosemide stop zolpidem stop aspirin increase diovan to  mg daily decrease trazodone to dd mg daily . follow up as indicated below. followup instructions you have an appointment to follow up with dr. , your primary care physician, at dpm. his address is , , , . the phone is . you have an appointment to follow up with dr. in the clinic on at dpm in the at on the . their phone number is . department div. of gastroenterology when wednesday at  pm with , md building ra d / complexd campus east best parking main garage'"
      ]
     },
     "execution_count": 95,
     "metadata": {},
     "output_type": "execute_result"
    }
   ],
   "source": [
    "blah.TEXT[3]"
   ]
  },
  {
   "cell_type": "markdown",
   "metadata": {},
   "source": [
    "## Merge\n",
    "\n",
    "Can I merge notes_ and temp?"
   ]
  },
  {
   "cell_type": "code",
   "execution_count": 96,
   "metadata": {},
   "outputs": [],
   "source": [
    "# How many HADM_IDs in notes_ are not in temp? (don't have ICD9 codes)\n",
    "no_response = np.setdiff1d(notes_.HADM_ID, diag_by_visit.HADM_ID, assume_unique=False)\n",
    "\n",
    "# how many HADM_IDs in temp are not in notes_? (don't have discharge notes)\n",
    "no_notes = np.setdiff1d(diag_by_visit.HADM_ID, notes_.HADM_ID, assume_unique=False)\n"
   ]
  },
  {
   "cell_type": "code",
   "execution_count": 97,
   "metadata": {},
   "outputs": [
    {
     "name": "stdout",
     "output_type": "stream",
     "text": [
      "6\n",
      "[109963 110220 141620 142890 148985]\n",
      "6240\n",
      "[100014 100017 100023 100033 100047]\n"
     ]
    }
   ],
   "source": [
    "print(len(no_response))\n",
    "print(no_response[:5])\n",
    "\n",
    "print(len(no_notes))\n",
    "print(no_notes[:5])"
   ]
  },
  {
   "cell_type": "code",
   "execution_count": 98,
   "metadata": {},
   "outputs": [],
   "source": [
    "dat = notes_.merge(right=diag_,\n",
    "             how='inner',\n",
    "             on=['HADM_ID', 'SUBJECT_ID'])"
   ]
  },
  {
   "cell_type": "code",
   "execution_count": 99,
   "metadata": {},
   "outputs": [
    {
     "name": "stdout",
     "output_type": "stream",
     "text": [
      "(55170, 6)\n"
     ]
    },
    {
     "data": {
      "text/html": [
       "<div>\n",
       "<style scoped>\n",
       "    .dataframe tbody tr th:only-of-type {\n",
       "        vertical-align: middle;\n",
       "    }\n",
       "\n",
       "    .dataframe tbody tr th {\n",
       "        vertical-align: top;\n",
       "    }\n",
       "\n",
       "    .dataframe thead th {\n",
       "        text-align: right;\n",
       "    }\n",
       "</style>\n",
       "<table border=\"1\" class=\"dataframe\">\n",
       "  <thead>\n",
       "    <tr style=\"text-align: right;\">\n",
       "      <th></th>\n",
       "      <th>ROW_ID</th>\n",
       "      <th>SUBJECT_ID</th>\n",
       "      <th>HADM_ID</th>\n",
       "      <th>TEXT</th>\n",
       "      <th>ICD9_codes</th>\n",
       "      <th>high_levels</th>\n",
       "    </tr>\n",
       "  </thead>\n",
       "  <tbody>\n",
       "    <tr>\n",
       "      <th>0</th>\n",
       "      <td>174</td>\n",
       "      <td>22532</td>\n",
       "      <td>167853</td>\n",
       "      <td>Admission Date:  [**2151-7-16**]       Dischar...</td>\n",
       "      <td>[4254, 2762, 5119, 2639, 42731, 5070, 2113, 01...</td>\n",
       "      <td>[0, 1, 2, 6, 7]</td>\n",
       "    </tr>\n",
       "    <tr>\n",
       "      <th>1</th>\n",
       "      <td>170</td>\n",
       "      <td>22532</td>\n",
       "      <td>167853</td>\n",
       "      <td>Admission Date:  [**2151-7-16**]       Dischar...</td>\n",
       "      <td>[4254, 2762, 5119, 2639, 42731, 5070, 2113, 01...</td>\n",
       "      <td>[0, 1, 2, 6, 7]</td>\n",
       "    </tr>\n",
       "    <tr>\n",
       "      <th>2</th>\n",
       "      <td>175</td>\n",
       "      <td>13702</td>\n",
       "      <td>107527</td>\n",
       "      <td>Admission Date:  [**2118-6-2**]       Discharg...</td>\n",
       "      <td>[486, 2761, 2449, 49121, 311, 51881]</td>\n",
       "      <td>[2, 4, 7]</td>\n",
       "    </tr>\n",
       "    <tr>\n",
       "      <th>3</th>\n",
       "      <td>176</td>\n",
       "      <td>13702</td>\n",
       "      <td>167118</td>\n",
       "      <td>Admission Date:  [**2119-5-4**]              D...</td>\n",
       "      <td>[2762, 496, 5533, 45340]</td>\n",
       "      <td>[2, 6, 7, 8]</td>\n",
       "    </tr>\n",
       "    <tr>\n",
       "      <th>4</th>\n",
       "      <td>177</td>\n",
       "      <td>13702</td>\n",
       "      <td>196489</td>\n",
       "      <td>Admission Date:  [**2124-7-21**]              ...</td>\n",
       "      <td>[2762, 45829, 41401, 4019, E9320, 5849, 2449, ...</td>\n",
       "      <td>[2, 5, 6, 7, 8, 9, 17, 18]</td>\n",
       "    </tr>\n",
       "  </tbody>\n",
       "</table>\n",
       "</div>"
      ],
      "text/plain": [
       "   ROW_ID  SUBJECT_ID  HADM_ID  \\\n",
       "0     174       22532   167853   \n",
       "1     170       22532   167853   \n",
       "2     175       13702   107527   \n",
       "3     176       13702   167118   \n",
       "4     177       13702   196489   \n",
       "\n",
       "                                                TEXT  \\\n",
       "0  Admission Date:  [**2151-7-16**]       Dischar...   \n",
       "1  Admission Date:  [**2151-7-16**]       Dischar...   \n",
       "2  Admission Date:  [**2118-6-2**]       Discharg...   \n",
       "3  Admission Date:  [**2119-5-4**]              D...   \n",
       "4  Admission Date:  [**2124-7-21**]              ...   \n",
       "\n",
       "                                          ICD9_codes  \\\n",
       "0  [4254, 2762, 5119, 2639, 42731, 5070, 2113, 01...   \n",
       "1  [4254, 2762, 5119, 2639, 42731, 5070, 2113, 01...   \n",
       "2               [486, 2761, 2449, 49121, 311, 51881]   \n",
       "3                           [2762, 496, 5533, 45340]   \n",
       "4  [2762, 45829, 41401, 4019, E9320, 5849, 2449, ...   \n",
       "\n",
       "                  high_levels  \n",
       "0             [0, 1, 2, 6, 7]  \n",
       "1             [0, 1, 2, 6, 7]  \n",
       "2                   [2, 4, 7]  \n",
       "3                [2, 6, 7, 8]  \n",
       "4  [2, 5, 6, 7, 8, 9, 17, 18]  "
      ]
     },
     "execution_count": 99,
     "metadata": {},
     "output_type": "execute_result"
    }
   ],
   "source": [
    "print(dat.shape)\n",
    "dat.head()"
   ]
  },
  {
   "cell_type": "code",
   "execution_count": 206,
   "metadata": {},
   "outputs": [
    {
     "data": {
      "text/html": [
       "<div>\n",
       "<style scoped>\n",
       "    .dataframe tbody tr th:only-of-type {\n",
       "        vertical-align: middle;\n",
       "    }\n",
       "\n",
       "    .dataframe tbody tr th {\n",
       "        vertical-align: top;\n",
       "    }\n",
       "\n",
       "    .dataframe thead th {\n",
       "        text-align: right;\n",
       "    }\n",
       "</style>\n",
       "<table border=\"1\" class=\"dataframe\">\n",
       "  <thead>\n",
       "    <tr style=\"text-align: right;\">\n",
       "      <th></th>\n",
       "      <th>ROW_ID</th>\n",
       "      <th>SUBJECT_ID</th>\n",
       "      <th>HADM_ID</th>\n",
       "      <th>TEXT</th>\n",
       "      <th>ICD9_codes</th>\n",
       "      <th>high_levels</th>\n",
       "      <th>text_tok</th>\n",
       "      <th>text_tok_in</th>\n",
       "      <th>text_ready</th>\n",
       "    </tr>\n",
       "  </thead>\n",
       "  <tbody>\n",
       "    <tr>\n",
       "      <th>55165</th>\n",
       "      <td>53613</td>\n",
       "      <td>43691</td>\n",
       "      <td>147266</td>\n",
       "      <td>sex f service neurology allergies no known all...</td>\n",
       "      <td>[7455, 43820, 78001, 43301, 44324]</td>\n",
       "      <td>[6, 13, 15]</td>\n",
       "      <td>[sex, f, service, neurology, allergies, no, kn...</td>\n",
       "      <td>[sex, f, service, neurology, allergies, no, kn...</td>\n",
       "      <td>sex f service neurology allergies no known all...</td>\n",
       "    </tr>\n",
       "    <tr>\n",
       "      <th>55166</th>\n",
       "      <td>53614</td>\n",
       "      <td>80847</td>\n",
       "      <td>129802</td>\n",
       "      <td>sex f service neurosurgery allergies no known ...</td>\n",
       "      <td>[3314, 53081, 2720, 5119, 4019, 2639, 49390, 4...</td>\n",
       "      <td>[0, 2, 5, 6, 7, 8, 12, 16]</td>\n",
       "      <td>[sex, f, service, neurosurgery, allergies, no,...</td>\n",
       "      <td>[sex, f, service, neurosurgery, allergies, no,...</td>\n",
       "      <td>sex f service neurosurgery allergies no known ...</td>\n",
       "    </tr>\n",
       "    <tr>\n",
       "      <th>55167</th>\n",
       "      <td>53615</td>\n",
       "      <td>41074</td>\n",
       "      <td>182558</td>\n",
       "      <td>sex m service medicine allergies no allergies/...</td>\n",
       "      <td>[3314, 53081, 4019, 25000, 430, 431, V1083, 34...</td>\n",
       "      <td>[2, 5, 6, 8, 17]</td>\n",
       "      <td>[sex, m, service, medicine, allergies, no, all...</td>\n",
       "      <td>[sex, m, service, medicine, allergies, no, all...</td>\n",
       "      <td>sex m service medicine allergies no allergies/...</td>\n",
       "    </tr>\n",
       "    <tr>\n",
       "      <th>55168</th>\n",
       "      <td>53616</td>\n",
       "      <td>76397</td>\n",
       "      <td>184741</td>\n",
       "      <td>sex m service surgery allergies no known aller...</td>\n",
       "      <td>[3051, 8052, E8150, 8600, 30550, 80703, 86500,...</td>\n",
       "      <td>[4, 16, 18]</td>\n",
       "      <td>[sex, m, service, surgery, allergies, no, know...</td>\n",
       "      <td>[sex, m, service, surgery, allergies, no, know...</td>\n",
       "      <td>sex m service surgery allergies no known aller...</td>\n",
       "    </tr>\n",
       "    <tr>\n",
       "      <th>55169</th>\n",
       "      <td>53617</td>\n",
       "      <td>87196</td>\n",
       "      <td>121964</td>\n",
       "      <td>sex m service surgery allergies no allergies/a...</td>\n",
       "      <td>[2762, 4275, 9584, 80709, 8910, 86803, E8160, ...</td>\n",
       "      <td>[2, 6, 16, 18]</td>\n",
       "      <td>[sex, m, service, surgery, allergies, no, alle...</td>\n",
       "      <td>[sex, m, service, surgery, allergies, no, alle...</td>\n",
       "      <td>sex m service surgery allergies no allergies/a...</td>\n",
       "    </tr>\n",
       "  </tbody>\n",
       "</table>\n",
       "</div>"
      ],
      "text/plain": [
       "       ROW_ID  SUBJECT_ID  HADM_ID  \\\n",
       "55165   53613       43691   147266   \n",
       "55166   53614       80847   129802   \n",
       "55167   53615       41074   182558   \n",
       "55168   53616       76397   184741   \n",
       "55169   53617       87196   121964   \n",
       "\n",
       "                                                    TEXT  \\\n",
       "55165  sex f service neurology allergies no known all...   \n",
       "55166  sex f service neurosurgery allergies no known ...   \n",
       "55167  sex m service medicine allergies no allergies/...   \n",
       "55168  sex m service surgery allergies no known aller...   \n",
       "55169  sex m service surgery allergies no allergies/a...   \n",
       "\n",
       "                                              ICD9_codes  \\\n",
       "55165                 [7455, 43820, 78001, 43301, 44324]   \n",
       "55166  [3314, 53081, 2720, 5119, 4019, 2639, 49390, 4...   \n",
       "55167  [3314, 53081, 4019, 25000, 430, 431, V1083, 34...   \n",
       "55168  [3051, 8052, E8150, 8600, 30550, 80703, 86500,...   \n",
       "55169  [2762, 4275, 9584, 80709, 8910, 86803, E8160, ...   \n",
       "\n",
       "                      high_levels  \\\n",
       "55165                 [6, 13, 15]   \n",
       "55166  [0, 2, 5, 6, 7, 8, 12, 16]   \n",
       "55167            [2, 5, 6, 8, 17]   \n",
       "55168                 [4, 16, 18]   \n",
       "55169              [2, 6, 16, 18]   \n",
       "\n",
       "                                                text_tok  \\\n",
       "55165  [sex, f, service, neurology, allergies, no, kn...   \n",
       "55166  [sex, f, service, neurosurgery, allergies, no,...   \n",
       "55167  [sex, m, service, medicine, allergies, no, all...   \n",
       "55168  [sex, m, service, surgery, allergies, no, know...   \n",
       "55169  [sex, m, service, surgery, allergies, no, alle...   \n",
       "\n",
       "                                             text_tok_in  \\\n",
       "55165  [sex, f, service, neurology, allergies, no, kn...   \n",
       "55166  [sex, f, service, neurosurgery, allergies, no,...   \n",
       "55167  [sex, m, service, medicine, allergies, no, all...   \n",
       "55168  [sex, m, service, surgery, allergies, no, know...   \n",
       "55169  [sex, m, service, surgery, allergies, no, alle...   \n",
       "\n",
       "                                              text_ready  \n",
       "55165  sex f service neurology allergies no known all...  \n",
       "55166  sex f service neurosurgery allergies no known ...  \n",
       "55167  sex m service medicine allergies no allergies/...  \n",
       "55168  sex m service surgery allergies no known aller...  \n",
       "55169  sex m service surgery allergies no allergies/a...  "
      ]
     },
     "execution_count": 206,
     "metadata": {},
     "output_type": "execute_result"
    }
   ],
   "source": [
    "dat.tail()"
   ]
  },
  {
   "cell_type": "code",
   "execution_count": 211,
   "metadata": {},
   "outputs": [
    {
     "data": {
      "text/plain": [
       "array([\"Admission Date:  [**2182-4-19**]              Discharge Date:   [**2182-4-22**]\\n\\nDate of Birth:  [**2163-1-18**]             Sex:   M\\n\\nService: SURGERY\\n\\nAllergies:\\nNo Known Allergies / Adverse Drug Reactions\\n\\nAttending:[**First Name3 (LF) 4691**]\\nChief Complaint:\\ntrauma\\n\\nMajor Surgical or Invasive Procedure:\\nnone\\n\\nHistory of Present Illness:\\n19 M unrestrained driver in moderate speed rollover mva (car vs.\\npole).  Pt found in back seat of upside down car which has slide\\npast several poles. Pt states he recalls driving and likely fell\\nasleep at the wheel.  He does not recall the accident or the\\nscene (+LOC).\\n\\nIn the ED a CT scan of the head and neck were performed as well\\nas a CT torso. FAST exam was positive. Pts injuries included\\ngrade 3 splenic laceration and a L T8 transveres process\\nfracture.\\n\\nPt was admitted to the TSICU in stable condition.\\n\\nPast Medical History:\\nPMH: depression, anxiety, psychiatric admission age 15\\nPSH: Lap appy, nephrolithiasis\\n\\n\\nSocial History:\\n1-2ppd smoker, no ilicits\\n\\n\\nFamily History:\\nNC\\n\\nPhysical Exam:\\nOn admission:\\nAF 82 140/palp 18 95 RA\\nHEENT: midface stable, PERRLA\\nCV: palpable fem, [**Doctor Last Name **] and pedal pulses bilaterally\\nChest: left chest wall tenderness\\nGI: abdomen soft, tender to palpation in LUQ\\nPelvis: stable\\nRectal: normal rectal tone, no gross blood\\n\\n\\nPertinent Results:\\nIMAGING:\\n[**2182-4-19**]:\\nCT C-SPINE W/O CONTRAST:\\nIMPRESSION: No evidence for acute cervical spine fracture\\n\\nCT HEAD W/O CONTRAST:\\nIMPRESSION:\\n1. No CT evidence for acute intracranial process.\\n2. Aerosolized secretions in a left anterior ethmoid air cell,\\nwhich can be indicative of acute sinusitis.\\n\\nCT ABD & PELVIS WITH CONTRAST;\\nIMPRESSION:\\n1. Grade [**1-18**] splenic laceration with small amount of hemorrhagic\\nascites\\naround the spleen and liver and layering in the pelvis.\\n2. Fracture through the right transverse process of T8.\\n3. Tiny lingular pulmonary contusion. This finding was reported\\nto Dr.\\n[**Last Name (STitle) 49784**] by phone by Dr. [**Last Name (STitle) 7867**] at approximately 6:30 a.m. on\\n[**2182-4-19**].\\n\\nCT CHEST W/CONTRAST\\nIMPRESSION:\\n1. Grade [**1-18**] splenic laceration with small amount of hemorrhagic\\nascites\\naround the spleen and liver and layering in the pelvis.\\n2. Fracture through the right transverse process of T8.\\n3. Tiny lingular pulmonary contusion. This finding was reported\\nto Dr.\\n[**Last Name (STitle) 49784**] by phone by Dr. [**Last Name (STitle) 7867**] at approximately 6:30 a.m. on\\n[**2182-4-19**].\\n\\nCHEST (PORTABLE AP):\\nIMPRESSION: Possible small right apical pneumothorax. Suggest\\nfollowup PA\\nand lateral films in several hours.\\n\\nCHEST (PORTABLE AP):\\nFINDINGS: Lung volumes are low. There is no definite\\npneumothorax. This\\nwould be better assessed with the lateral decubitus radiograph\\nif there is\\ncontinued concern.\\n\\n[**2182-4-20**]:\\nCHEST (PORTABLE AP):\\nFINDINGS: There is no pneumothorax. There is bibasilar volume\\nloss/consolidation which is increased compared to prior studies.\\nThe thoracic bony fracture at T8 is better visualized on the CT\\nscan. The upper lungs are clear. There is no pneumothorax.\\n\\nLABS:\\n[**2182-4-22**] 06:02AM BLOOD WBC-7.5 RBC-4.77 Hgb-13.6* Hct-41.8\\nMCV-88 MCH-28.5 MCHC-32.6 RDW-12.5 Plt Ct-184\\n\\n[**2182-4-21**] 07:55AM BLOOD WBC-9.7 RBC-4.61 Hgb-13.1* Hct-40.6\\nMCV-88 MCH-28.3 MCHC-32.2 RDW-12.4 Plt Ct-177\\n\\n[**2182-4-20**] 06:12PM BLOOD Hct-41.3 09:45AM BLOOD Hct-40.7 12:45AM\\nBLOOD WBC-10.2 RBC-4.77 Hgb-13.6* Hct-42.5 MCV-89 MCH-28.5\\nMCHC-32.0 RDW-12.8 Plt Ct-200 [**2182-4-20**] 12:45AM BLOOD PT-13.0*\\nPTT-29.0 INR(PT)-1.2* [**2182-4-20**] 12:45AM BLOOD Glucose-105*\\nUreaN-9 Creat-0.8 Na-141 K-4.0 Cl-108 HCO3-27 AnGap-10\\nGlucose-152* UreaN-10 Creat-0.8 Na-139 K-3.8 Cl-108 HCO3-23\\nAnGap-12 ALT-45* AST-35 LD(LDH)-204 AlkPhos-42 TotBili-1.5\\nAlbumin-4.3 Calcium-9.2 Phos-3.0 Mg-2.1\\n\\n[**2182-4-19**] 12:05PM BLOOD Hct-43.6 07:00AM BLOOD WBC-13.9* RBC-4.98\\nHgb-14.0 Hct-44.3 MCV-89 MCH-28.2 MCHC-31.6 RDW-12.9 Plt Ct-231\\nBLOOD Neuts-91.8* Lymphs-5.0* Monos-2.5 Eos-0.6 Baso-0.1 PT-11.7\\nPTT-27.1 INR(PT)-1.1 Calcium-8.7 Phos-3.0 Mg-2.0 03:00AM BLOOD\\nWBC-10.3 RBC-5.05 Hgb-14.3 Hct-44.2 MCV-88 MCH-28.3 MCHC-32.3\\nRDW-12.4 Plt Ct-270 [**2182-4-19**] 03:00AM BLOOD PT-11.6 PTT-25.5\\nINR(PT)-1.1 Fibrino-185 Creat-1.1 UreaN-11 Creat-1.0\\n03:12AM BLOOD Glucose-110* Lactate-1.1 Na-144 K-3.4 Cl-99\\ncalHCO3-29 03:12AM BLOOD O2 Sat-74\\n\\nBrief Hospital Course:\\nGiven splenic laceration Mr. [**Known lastname 96228**] was admitted to the SICU\\nfor close monitoring. Pain was well controlled with PCA, he was\\nstarted on clear liquids and serial hematocrits remained stable\\nwithout need for transfusion. CXR did reveal a small\\npneumothorax which remained stable on follow-up imaging.\\n\\nThe patient was transferred to the general surgical [**Hospital1 **] on HD2.\\n He remained stable from a neurological standpoint; pain was\\ninitially managed with a hydromorphone PCA, which was\\ntransitioned to oral oxycodone and acetaminophen with adequate\\npain control.  The patient remained stable from a cardiovascular\\nstandpoint; serial hematocrit levels remained stable throughout\\nadmission.  Additionally, he remained stable from a pulmonary\\nstandpoint; deep breathing, incentive spirometry and ambulation\\nwere encouraged throughout the patient's hospitalization. The\\npatient's diet was gradually advanced to regular and well\\ntolerated; he was voiding adequately.  The patient was evaluated\\nby physical therapy on HD2 with recommendations for ambulation\\nmultiple times daily with supervision for safety; please see\\neval for details.  Pt was subsequently able to ambulate without\\ndifficulty.  Additionally, the patient was evaluated by Social\\nWork in the Emergency Department and again on the general\\nsurgical [**Hospital1 **] due to trauma, positive opiates on toxicology\\nscreen and marijuana use; please see evaluation for details.\\nAdditionally, Social work provided resources for ongoing\\nfollow-up.\\n\\nOn HD4, the patient was discharged to home.  He will follow-up\\nin the Acute Care Surgical service clinic in 2 weeks and his\\nprimary care provider [**Last Name (NamePattern4) **] 2 weeks.\\n\\nMedications on Admission:\\nNone\\n\\nDischarge Medications:\\n1. acetaminophen 500 mg Tablet Sig: Two (2) Tablet PO Q 8H\\n(Every 8 Hours): Do not exceed 4000 mg per 24 hour period.\\n2. oxycodone 5 mg Tablet Sig: 1-2 Tablets PO every four (4)\\nhours as needed for pain.\\nDisp:*40 Tablet(s)* Refills:*0*\\n3. docusate sodium 100 mg Capsule Sig: One (1) Capsule PO BID (2\\ntimes a day): Please take while requiring pain medication;\\ndiscontinue if you develop loose stools.\\nDisp:*30 Capsule(s)* Refills:*0*\\n\\n\\nDischarge Disposition:\\nHome\\n\\nDischarge Diagnosis:\\nMulti-trauma:\\nGrade [**1-18**] splenic lacerations\\nLeft T8 transverse process fracture\\n\\n\\nDischarge Condition:\\nMental Status: Clear and coherent.\\nLevel of Consciousness: Alert and interactive.\\nActivity Status: Ambulatory - Independent.\\n\\n\\nDischarge Instructions:\\nYou were admitted to the hospital following a motor vehicle\\ncollision during which you sustained mulitple injuries.  You\\nrecovered in the hospital and are now preparing for discharge to\\nhome with the following instructions:\\n\\n*AVOID contact sports and/or any activity that may cause injury\\nto your abdominal area for the next 6-8 weeks.\\n\\n*If you suddenly become dizzy, lightheaded, feeling as if you\\nare going to pass out go to the nearest Emergency Room as this\\ncould be a sign that you are having inernal bleeding from your\\nliver or spleen injury.\\n\\n*AVOID any blood thinners such as Motrin, Naprosyn, Indocin,\\nAspirin, Coumadin or Plavix for at least 3-5 days unless\\notherwise instructed by the MD/NP/PA.\\n\\nAdditionally:\\nPlease call your doctor or nurse practitioner or return to the\\nEmergency Department for any of the following:\\n*You experience new chest pain, pressure, squeezing or\\ntightness.\\n*New or worsening cough, shortness of breath, or wheeze.\\n*If you are vomiting and cannot keep down fluids or your\\nmedications.\\n*You are getting dehydrated due to continued vomiting, diarrhea,\\nor other reasons. Signs of dehydration include dry mouth, rapid\\nheartbeat, or feeling dizzy or faint when standing.\\n*You see blood or dark/black material when you vomit or have a\\nbowel movement.\\n*You experience burning when you urinate, have blood in your\\nurine, or experience a discharge.\\n*Your pain in not improving within 8-12 hours or is not gone\\nwithin 24 hours. Call or return immediately if your pain is\\ngetting worse or changes location or moving to your chest or\\nback.\\n*You have shaking chills, or fever greater than 101.5 degrees\\nFahrenheit or 38 degrees Celsius.\\n*Any change in your symptoms, or any new symptoms that concern\\nyou.\\nPlease resume all regular home medications , unless specifically\\nadvised not to take a particular medication. Also, please take\\nany new medications as prescribed.\\nPlease get plenty of rest, continue to ambulate several times\\nper day, and drink adequate amounts of fluids. Avoid lifting\\nweights greater than [**4-25**] lbs until you follow-up with your\\nsurgeon.\\nAvoid driving or operating heavy machinery while taking pain\\nmedications.\\n\\n\\n\\n\\n\\nFollowup Instructions:\\nDepartment: GENERAL SURGERY/[**Hospital Unit Name 2193**]\\nWhen: TUESDAY [**2182-5-7**] at 3:00 PM\\nWith: ACUTE CARE CLINIC [**Telephone/Fax (1) 600**]\\nBuilding: LM [**Hospital Ward Name **] Bldg ([**Last Name (NamePattern1) **]) [**Location (un) **]\\nCampus: WEST     Best Parking: [**Hospital Ward Name **] Garage\\n\\n\\n\\nCompleted by:[**2182-4-22**]\"],\n",
       "      dtype=object)"
      ]
     },
     "execution_count": 211,
     "metadata": {},
     "output_type": "execute_result"
    }
   ],
   "source": [
    "notes_.loc[notes_.HADM_ID==184741,].TEXT.values"
   ]
  },
  {
   "cell_type": "markdown",
   "metadata": {},
   "source": [
    "# Make changes to dat"
   ]
  },
  {
   "cell_type": "code",
   "execution_count": 100,
   "metadata": {},
   "outputs": [],
   "source": [
    "dat.TEXT = clean_text(dat.TEXT)"
   ]
  },
  {
   "cell_type": "code",
   "execution_count": 101,
   "metadata": {},
   "outputs": [
    {
     "name": "stdout",
     "output_type": "stream",
     "text": [
      "(55170, 6)\n"
     ]
    },
    {
     "data": {
      "text/html": [
       "<div>\n",
       "<style scoped>\n",
       "    .dataframe tbody tr th:only-of-type {\n",
       "        vertical-align: middle;\n",
       "    }\n",
       "\n",
       "    .dataframe tbody tr th {\n",
       "        vertical-align: top;\n",
       "    }\n",
       "\n",
       "    .dataframe thead th {\n",
       "        text-align: right;\n",
       "    }\n",
       "</style>\n",
       "<table border=\"1\" class=\"dataframe\">\n",
       "  <thead>\n",
       "    <tr style=\"text-align: right;\">\n",
       "      <th></th>\n",
       "      <th>ROW_ID</th>\n",
       "      <th>SUBJECT_ID</th>\n",
       "      <th>HADM_ID</th>\n",
       "      <th>TEXT</th>\n",
       "      <th>ICD9_codes</th>\n",
       "      <th>high_levels</th>\n",
       "    </tr>\n",
       "  </thead>\n",
       "  <tbody>\n",
       "    <tr>\n",
       "      <th>0</th>\n",
       "      <td>174</td>\n",
       "      <td>22532</td>\n",
       "      <td>167853</td>\n",
       "      <td>service addendum radiologic studies radiologic...</td>\n",
       "      <td>[4254, 2762, 5119, 2639, 42731, 5070, 2113, 01...</td>\n",
       "      <td>[0, 1, 2, 6, 7]</td>\n",
       "    </tr>\n",
       "    <tr>\n",
       "      <th>1</th>\n",
       "      <td>170</td>\n",
       "      <td>22532</td>\n",
       "      <td>167853</td>\n",
       "      <td>history of present illness the patient is an d...</td>\n",
       "      <td>[4254, 2762, 5119, 2639, 42731, 5070, 2113, 01...</td>\n",
       "      <td>[0, 1, 2, 6, 7]</td>\n",
       "    </tr>\n",
       "    <tr>\n",
       "      <th>2</th>\n",
       "      <td>175</td>\n",
       "      <td>13702</td>\n",
       "      <td>107527</td>\n",
       "      <td>sex f service micu and then to medicine histor...</td>\n",
       "      <td>[486, 2761, 2449, 49121, 311, 51881]</td>\n",
       "      <td>[2, 4, 7]</td>\n",
       "    </tr>\n",
       "    <tr>\n",
       "      <th>3</th>\n",
       "      <td>176</td>\n",
       "      <td>13702</td>\n",
       "      <td>167118</td>\n",
       "      <td>service cardiothoracic allergies amlodipine at...</td>\n",
       "      <td>[2762, 496, 5533, 45340]</td>\n",
       "      <td>[2, 6, 7, 8]</td>\n",
       "    </tr>\n",
       "    <tr>\n",
       "      <th>4</th>\n",
       "      <td>177</td>\n",
       "      <td>13702</td>\n",
       "      <td>196489</td>\n",
       "      <td>service medicine allergies amlodipine attendin...</td>\n",
       "      <td>[2762, 45829, 41401, 4019, E9320, 5849, 2449, ...</td>\n",
       "      <td>[2, 5, 6, 7, 8, 9, 17, 18]</td>\n",
       "    </tr>\n",
       "  </tbody>\n",
       "</table>\n",
       "</div>"
      ],
      "text/plain": [
       "   ROW_ID  SUBJECT_ID  HADM_ID  \\\n",
       "0     174       22532   167853   \n",
       "1     170       22532   167853   \n",
       "2     175       13702   107527   \n",
       "3     176       13702   167118   \n",
       "4     177       13702   196489   \n",
       "\n",
       "                                                TEXT  \\\n",
       "0  service addendum radiologic studies radiologic...   \n",
       "1  history of present illness the patient is an d...   \n",
       "2  sex f service micu and then to medicine histor...   \n",
       "3  service cardiothoracic allergies amlodipine at...   \n",
       "4  service medicine allergies amlodipine attendin...   \n",
       "\n",
       "                                          ICD9_codes  \\\n",
       "0  [4254, 2762, 5119, 2639, 42731, 5070, 2113, 01...   \n",
       "1  [4254, 2762, 5119, 2639, 42731, 5070, 2113, 01...   \n",
       "2               [486, 2761, 2449, 49121, 311, 51881]   \n",
       "3                           [2762, 496, 5533, 45340]   \n",
       "4  [2762, 45829, 41401, 4019, E9320, 5849, 2449, ...   \n",
       "\n",
       "                  high_levels  \n",
       "0             [0, 1, 2, 6, 7]  \n",
       "1             [0, 1, 2, 6, 7]  \n",
       "2                   [2, 4, 7]  \n",
       "3                [2, 6, 7, 8]  \n",
       "4  [2, 5, 6, 7, 8, 9, 17, 18]  "
      ]
     },
     "execution_count": 101,
     "metadata": {},
     "output_type": "execute_result"
    }
   ],
   "source": [
    "print(dat.shape)\n",
    "dat.head()"
   ]
  },
  {
   "cell_type": "code",
   "execution_count": 102,
   "metadata": {},
   "outputs": [],
   "source": [
    "dat.to_csv(\"../data/clean_data.csv\", index=False, sep='\\n')"
   ]
  },
  {
   "cell_type": "markdown",
   "metadata": {},
   "source": [
    "## Exploring dat"
   ]
  },
  {
   "cell_type": "code",
   "execution_count": 103,
   "metadata": {},
   "outputs": [
    {
     "data": {
      "image/png": "[encoded data removed]",
      "text/plain": [
       "<Figure size 432x288 with 1 Axes>"
      ]
     },
     "metadata": {
      "needs_background": "light"
     },
     "output_type": "display_data"
    }
   ],
   "source": [
    "text_lengths = dat.TEXT.apply(lambda x: len(x))\n",
    "plt.hist(text_lengths)\n",
    "plt.title(\"Raw Clean Text Lengths\")\n",
    "plt.show()"
   ]
  },
  {
   "cell_type": "code",
   "execution_count": 104,
   "metadata": {},
   "outputs": [
    {
     "data": {
      "text/plain": [
       "8880.745459488853"
      ]
     },
     "execution_count": 104,
     "metadata": {},
     "output_type": "execute_result"
    }
   ],
   "source": [
    "np.mean(text_lengths)"
   ]
  },
  {
   "cell_type": "markdown",
   "metadata": {},
   "source": [
    "#### How many unique words?"
   ]
  },
  {
   "cell_type": "code",
   "execution_count": null,
   "metadata": {},
   "outputs": [],
   "source": []
  },
  {
   "cell_type": "code",
   "execution_count": null,
   "metadata": {},
   "outputs": [],
   "source": []
  },
  {
   "cell_type": "code",
   "execution_count": 105,
   "metadata": {},
   "outputs": [
    {
     "data": {
      "text/plain": [
       "0    service addendum radiologic studies radiologic...\n",
       "1    history of present illness the patient is an d...\n",
       "2    sex f service micu and then to medicine histor...\n",
       "3    service cardiothoracic allergies amlodipine at...\n",
       "4    service medicine allergies amlodipine attendin...\n",
       "Name: TEXT, dtype: object"
      ]
     },
     "execution_count": 105,
     "metadata": {},
     "output_type": "execute_result"
    }
   ],
   "source": [
    "dat.TEXT.head()"
   ]
  },
  {
   "cell_type": "code",
   "execution_count": 107,
   "metadata": {},
   "outputs": [
    {
     "data": {
      "text/plain": [
       "{'a',\n",
       " 'about',\n",
       " 'above',\n",
       " 'after',\n",
       " 'again',\n",
       " 'against',\n",
       " 'ain',\n",
       " 'all',\n",
       " 'am',\n",
       " 'an',\n",
       " 'and',\n",
       " 'any',\n",
       " 'are',\n",
       " 'aren',\n",
       " \"aren't\",\n",
       " 'as',\n",
       " 'at',\n",
       " 'be',\n",
       " 'because',\n",
       " 'been',\n",
       " 'before',\n",
       " 'being',\n",
       " 'below',\n",
       " 'between',\n",
       " 'both',\n",
       " 'but',\n",
       " 'by',\n",
       " 'can',\n",
       " 'couldn',\n",
       " \"couldn't\",\n",
       " 'd',\n",
       " 'did',\n",
       " 'didn',\n",
       " \"didn't\",\n",
       " 'do',\n",
       " 'does',\n",
       " 'doesn',\n",
       " \"doesn't\",\n",
       " 'doing',\n",
       " 'don',\n",
       " \"don't\",\n",
       " 'down',\n",
       " 'during',\n",
       " 'each',\n",
       " 'few',\n",
       " 'for',\n",
       " 'from',\n",
       " 'further',\n",
       " 'had',\n",
       " 'hadn',\n",
       " \"hadn't\",\n",
       " 'has',\n",
       " 'hasn',\n",
       " \"hasn't\",\n",
       " 'have',\n",
       " 'haven',\n",
       " \"haven't\",\n",
       " 'having',\n",
       " 'he',\n",
       " 'her',\n",
       " 'here',\n",
       " 'hers',\n",
       " 'herself',\n",
       " 'him',\n",
       " 'himself',\n",
       " 'his',\n",
       " 'how',\n",
       " 'i',\n",
       " 'if',\n",
       " 'in',\n",
       " 'into',\n",
       " 'is',\n",
       " 'isn',\n",
       " \"isn't\",\n",
       " 'it',\n",
       " \"it's\",\n",
       " 'its',\n",
       " 'itself',\n",
       " 'just',\n",
       " 'll',\n",
       " 'm',\n",
       " 'ma',\n",
       " 'me',\n",
       " 'mightn',\n",
       " \"mightn't\",\n",
       " 'more',\n",
       " 'most',\n",
       " 'mustn',\n",
       " \"mustn't\",\n",
       " 'my',\n",
       " 'myself',\n",
       " 'needn',\n",
       " \"needn't\",\n",
       " 'no',\n",
       " 'nor',\n",
       " 'not',\n",
       " 'now',\n",
       " 'o',\n",
       " 'of',\n",
       " 'off',\n",
       " 'on',\n",
       " 'once',\n",
       " 'only',\n",
       " 'or',\n",
       " 'other',\n",
       " 'our',\n",
       " 'ours',\n",
       " 'ourselves',\n",
       " 'out',\n",
       " 'over',\n",
       " 'own',\n",
       " 're',\n",
       " 's',\n",
       " 'same',\n",
       " 'shan',\n",
       " \"shan't\",\n",
       " 'she',\n",
       " \"she's\",\n",
       " 'should',\n",
       " \"should've\",\n",
       " 'shouldn',\n",
       " \"shouldn't\",\n",
       " 'so',\n",
       " 'some',\n",
       " 'such',\n",
       " 't',\n",
       " 'than',\n",
       " 'that',\n",
       " \"that'll\",\n",
       " 'the',\n",
       " 'their',\n",
       " 'theirs',\n",
       " 'them',\n",
       " 'themselves',\n",
       " 'then',\n",
       " 'there',\n",
       " 'these',\n",
       " 'they',\n",
       " 'this',\n",
       " 'those',\n",
       " 'through',\n",
       " 'to',\n",
       " 'too',\n",
       " 'under',\n",
       " 'until',\n",
       " 'up',\n",
       " 've',\n",
       " 'very',\n",
       " 'was',\n",
       " 'wasn',\n",
       " \"wasn't\",\n",
       " 'we',\n",
       " 'were',\n",
       " 'weren',\n",
       " \"weren't\",\n",
       " 'what',\n",
       " 'when',\n",
       " 'where',\n",
       " 'which',\n",
       " 'while',\n",
       " 'who',\n",
       " 'whom',\n",
       " 'why',\n",
       " 'will',\n",
       " 'with',\n",
       " 'won',\n",
       " \"won't\",\n",
       " 'wouldn',\n",
       " \"wouldn't\",\n",
       " 'y',\n",
       " 'you',\n",
       " \"you'd\",\n",
       " \"you'll\",\n",
       " \"you're\",\n",
       " \"you've\",\n",
       " 'your',\n",
       " 'yours',\n",
       " 'yourself',\n",
       " 'yourselves'}"
      ]
     },
     "execution_count": 107,
     "metadata": {},
     "output_type": "execute_result"
    }
   ],
   "source": [
    "stop_words = set(stopwords.words('english'))\n",
    "stop_words"
   ]
  },
  {
   "cell_type": "code",
   "execution_count": 101,
   "metadata": {},
   "outputs": [],
   "source": [
    "# from nltk.corpus import stopwords \n",
    "# from nltk.tokenize import word_tokenize \n",
    "  \n",
    "# example_sent = \"This is a sample sentence, showing off the stop words filtration.\"\n",
    "  \n",
    "# stop_words = set(stopwords.words('english')) \n",
    "  \n",
    "# word_tokens = word_tokenize(example_sent) \n",
    "  \n",
    "# filtered_sentence = [w for w in word_tokens if not w in stop_words] \n",
    "  \n",
    "# print(word_tokens) \n",
    "# print(filtered_sentence) "
   ]
  },
  {
   "cell_type": "code",
   "execution_count": 110,
   "metadata": {},
   "outputs": [
    {
     "ename": "KeyboardInterrupt",
     "evalue": "",
     "output_type": "error",
     "traceback": [
      "\u001b[0;31m---------------------------------------------------------------------------\u001b[0m",
      "\u001b[0;31mKeyboardInterrupt\u001b[0m                         Traceback (most recent call last)",
      "\u001b[0;32m<ipython-input-110-7bd299ceb547>\u001b[0m in \u001b[0;36m<module>\u001b[0;34m\u001b[0m\n\u001b[0;32m----> 1\u001b[0;31m \u001b[0mtokenized_notes\u001b[0m \u001b[0;34m=\u001b[0m \u001b[0mdat\u001b[0m\u001b[0;34m[\u001b[0m\u001b[0;34m'TEXT'\u001b[0m\u001b[0;34m]\u001b[0m\u001b[0;34m.\u001b[0m\u001b[0mapply\u001b[0m\u001b[0;34m(\u001b[0m\u001b[0;32mlambda\u001b[0m \u001b[0mx\u001b[0m\u001b[0;34m:\u001b[0m \u001b[0mword_tokenize\u001b[0m\u001b[0;34m(\u001b[0m\u001b[0mx\u001b[0m\u001b[0;34m.\u001b[0m\u001b[0mlower\u001b[0m\u001b[0;34m(\u001b[0m\u001b[0;34m)\u001b[0m\u001b[0;34m)\u001b[0m\u001b[0;34m)\u001b[0m\u001b[0;34m\u001b[0m\u001b[0;34m\u001b[0m\u001b[0m\n\u001b[0m",
      "\u001b[0;32m~/opt/anaconda3/envs/attentionxml/lib/python3.7/site-packages/pandas/core/series.py\u001b[0m in \u001b[0;36mapply\u001b[0;34m(self, func, convert_dtype, args, **kwds)\u001b[0m\n\u001b[1;32m   3846\u001b[0m             \u001b[0;32melse\u001b[0m\u001b[0;34m:\u001b[0m\u001b[0;34m\u001b[0m\u001b[0;34m\u001b[0m\u001b[0m\n\u001b[1;32m   3847\u001b[0m                 \u001b[0mvalues\u001b[0m \u001b[0;34m=\u001b[0m \u001b[0mself\u001b[0m\u001b[0;34m.\u001b[0m\u001b[0mastype\u001b[0m\u001b[0;34m(\u001b[0m\u001b[0mobject\u001b[0m\u001b[0;34m)\u001b[0m\u001b[0;34m.\u001b[0m\u001b[0mvalues\u001b[0m\u001b[0;34m\u001b[0m\u001b[0;34m\u001b[0m\u001b[0m\n\u001b[0;32m-> 3848\u001b[0;31m                 \u001b[0mmapped\u001b[0m \u001b[0;34m=\u001b[0m \u001b[0mlib\u001b[0m\u001b[0;34m.\u001b[0m\u001b[0mmap_infer\u001b[0m\u001b[0;34m(\u001b[0m\u001b[0mvalues\u001b[0m\u001b[0;34m,\u001b[0m \u001b[0mf\u001b[0m\u001b[0;34m,\u001b[0m \u001b[0mconvert\u001b[0m\u001b[0;34m=\u001b[0m\u001b[0mconvert_dtype\u001b[0m\u001b[0;34m)\u001b[0m\u001b[0;34m\u001b[0m\u001b[0;34m\u001b[0m\u001b[0m\n\u001b[0m\u001b[1;32m   3849\u001b[0m \u001b[0;34m\u001b[0m\u001b[0m\n\u001b[1;32m   3850\u001b[0m         \u001b[0;32mif\u001b[0m \u001b[0mlen\u001b[0m\u001b[0;34m(\u001b[0m\u001b[0mmapped\u001b[0m\u001b[0;34m)\u001b[0m \u001b[0;32mand\u001b[0m \u001b[0misinstance\u001b[0m\u001b[0;34m(\u001b[0m\u001b[0mmapped\u001b[0m\u001b[0;34m[\u001b[0m\u001b[0;36m0\u001b[0m\u001b[0;34m]\u001b[0m\u001b[0;34m,\u001b[0m \u001b[0mSeries\u001b[0m\u001b[0;34m)\u001b[0m\u001b[0;34m:\u001b[0m\u001b[0;34m\u001b[0m\u001b[0;34m\u001b[0m\u001b[0m\n",
      "\u001b[0;32mpandas/_libs/lib.pyx\u001b[0m in \u001b[0;36mpandas._libs.lib.map_infer\u001b[0;34m()\u001b[0m\n",
      "\u001b[0;32m<ipython-input-110-7bd299ceb547>\u001b[0m in \u001b[0;36m<lambda>\u001b[0;34m(x)\u001b[0m\n\u001b[0;32m----> 1\u001b[0;31m \u001b[0mtokenized_notes\u001b[0m \u001b[0;34m=\u001b[0m \u001b[0mdat\u001b[0m\u001b[0;34m[\u001b[0m\u001b[0;34m'TEXT'\u001b[0m\u001b[0;34m]\u001b[0m\u001b[0;34m.\u001b[0m\u001b[0mapply\u001b[0m\u001b[0;34m(\u001b[0m\u001b[0;32mlambda\u001b[0m \u001b[0mx\u001b[0m\u001b[0;34m:\u001b[0m \u001b[0mword_tokenize\u001b[0m\u001b[0;34m(\u001b[0m\u001b[0mx\u001b[0m\u001b[0;34m.\u001b[0m\u001b[0mlower\u001b[0m\u001b[0;34m(\u001b[0m\u001b[0;34m)\u001b[0m\u001b[0;34m)\u001b[0m\u001b[0;34m)\u001b[0m\u001b[0;34m\u001b[0m\u001b[0;34m\u001b[0m\u001b[0m\n\u001b[0m",
      "\u001b[0;32m~/opt/anaconda3/envs/attentionxml/lib/python3.7/site-packages/nltk/tokenize/__init__.py\u001b[0m in \u001b[0;36mword_tokenize\u001b[0;34m(text, language, preserve_line)\u001b[0m\n\u001b[1;32m    143\u001b[0m     \u001b[0msentences\u001b[0m \u001b[0;34m=\u001b[0m \u001b[0;34m[\u001b[0m\u001b[0mtext\u001b[0m\u001b[0;34m]\u001b[0m \u001b[0;32mif\u001b[0m \u001b[0mpreserve_line\u001b[0m \u001b[0;32melse\u001b[0m \u001b[0msent_tokenize\u001b[0m\u001b[0;34m(\u001b[0m\u001b[0mtext\u001b[0m\u001b[0;34m,\u001b[0m \u001b[0mlanguage\u001b[0m\u001b[0;34m)\u001b[0m\u001b[0;34m\u001b[0m\u001b[0;34m\u001b[0m\u001b[0m\n\u001b[1;32m    144\u001b[0m     return [\n\u001b[0;32m--> 145\u001b[0;31m         \u001b[0mtoken\u001b[0m \u001b[0;32mfor\u001b[0m \u001b[0msent\u001b[0m \u001b[0;32min\u001b[0m \u001b[0msentences\u001b[0m \u001b[0;32mfor\u001b[0m \u001b[0mtoken\u001b[0m \u001b[0;32min\u001b[0m \u001b[0m_treebank_word_tokenizer\u001b[0m\u001b[0;34m.\u001b[0m\u001b[0mtokenize\u001b[0m\u001b[0;34m(\u001b[0m\u001b[0msent\u001b[0m\u001b[0;34m)\u001b[0m\u001b[0;34m\u001b[0m\u001b[0;34m\u001b[0m\u001b[0m\n\u001b[0m\u001b[1;32m    146\u001b[0m     ]\n",
      "\u001b[0;32m~/opt/anaconda3/envs/attentionxml/lib/python3.7/site-packages/nltk/tokenize/__init__.py\u001b[0m in \u001b[0;36m<listcomp>\u001b[0;34m(.0)\u001b[0m\n\u001b[1;32m    143\u001b[0m     \u001b[0msentences\u001b[0m \u001b[0;34m=\u001b[0m \u001b[0;34m[\u001b[0m\u001b[0mtext\u001b[0m\u001b[0;34m]\u001b[0m \u001b[0;32mif\u001b[0m \u001b[0mpreserve_line\u001b[0m \u001b[0;32melse\u001b[0m \u001b[0msent_tokenize\u001b[0m\u001b[0;34m(\u001b[0m\u001b[0mtext\u001b[0m\u001b[0;34m,\u001b[0m \u001b[0mlanguage\u001b[0m\u001b[0;34m)\u001b[0m\u001b[0;34m\u001b[0m\u001b[0;34m\u001b[0m\u001b[0m\n\u001b[1;32m    144\u001b[0m     return [\n\u001b[0;32m--> 145\u001b[0;31m         \u001b[0mtoken\u001b[0m \u001b[0;32mfor\u001b[0m \u001b[0msent\u001b[0m \u001b[0;32min\u001b[0m \u001b[0msentences\u001b[0m \u001b[0;32mfor\u001b[0m \u001b[0mtoken\u001b[0m \u001b[0;32min\u001b[0m \u001b[0m_treebank_word_tokenizer\u001b[0m\u001b[0;34m.\u001b[0m\u001b[0mtokenize\u001b[0m\u001b[0;34m(\u001b[0m\u001b[0msent\u001b[0m\u001b[0;34m)\u001b[0m\u001b[0;34m\u001b[0m\u001b[0;34m\u001b[0m\u001b[0m\n\u001b[0m\u001b[1;32m    146\u001b[0m     ]\n",
      "\u001b[0;32m~/opt/anaconda3/envs/attentionxml/lib/python3.7/site-packages/nltk/tokenize/treebank.py\u001b[0m in \u001b[0;36mtokenize\u001b[0;34m(self, text, convert_parentheses, return_str)\u001b[0m\n\u001b[1;32m    120\u001b[0m \u001b[0;34m\u001b[0m\u001b[0m\n\u001b[1;32m    121\u001b[0m         \u001b[0;32mfor\u001b[0m \u001b[0mregexp\u001b[0m\u001b[0;34m,\u001b[0m \u001b[0msubstitution\u001b[0m \u001b[0;32min\u001b[0m \u001b[0mself\u001b[0m\u001b[0;34m.\u001b[0m\u001b[0mPUNCTUATION\u001b[0m\u001b[0;34m:\u001b[0m\u001b[0;34m\u001b[0m\u001b[0;34m\u001b[0m\u001b[0m\n\u001b[0;32m--> 122\u001b[0;31m             \u001b[0mtext\u001b[0m \u001b[0;34m=\u001b[0m \u001b[0mregexp\u001b[0m\u001b[0;34m.\u001b[0m\u001b[0msub\u001b[0m\u001b[0;34m(\u001b[0m\u001b[0msubstitution\u001b[0m\u001b[0;34m,\u001b[0m \u001b[0mtext\u001b[0m\u001b[0;34m)\u001b[0m\u001b[0;34m\u001b[0m\u001b[0;34m\u001b[0m\u001b[0m\n\u001b[0m\u001b[1;32m    123\u001b[0m \u001b[0;34m\u001b[0m\u001b[0m\n\u001b[1;32m    124\u001b[0m         \u001b[0;31m# Handles parentheses.\u001b[0m\u001b[0;34m\u001b[0m\u001b[0;34m\u001b[0m\u001b[0;34m\u001b[0m\u001b[0m\n",
      "\u001b[0;32m~/opt/anaconda3/envs/attentionxml/lib/python3.7/re.py\u001b[0m in \u001b[0;36m_subx\u001b[0;34m(pattern, template)\u001b[0m\n\u001b[1;32m    307\u001b[0m \u001b[0;32mdef\u001b[0m \u001b[0m_subx\u001b[0m\u001b[0;34m(\u001b[0m\u001b[0mpattern\u001b[0m\u001b[0;34m,\u001b[0m \u001b[0mtemplate\u001b[0m\u001b[0;34m)\u001b[0m\u001b[0;34m:\u001b[0m\u001b[0;34m\u001b[0m\u001b[0;34m\u001b[0m\u001b[0m\n\u001b[1;32m    308\u001b[0m     \u001b[0;31m# internal: Pattern.sub/subn implementation helper\u001b[0m\u001b[0;34m\u001b[0m\u001b[0;34m\u001b[0m\u001b[0;34m\u001b[0m\u001b[0m\n\u001b[0;32m--> 309\u001b[0;31m     \u001b[0mtemplate\u001b[0m \u001b[0;34m=\u001b[0m \u001b[0m_compile_repl\u001b[0m\u001b[0;34m(\u001b[0m\u001b[0mtemplate\u001b[0m\u001b[0;34m,\u001b[0m \u001b[0mpattern\u001b[0m\u001b[0;34m)\u001b[0m\u001b[0;34m\u001b[0m\u001b[0;34m\u001b[0m\u001b[0m\n\u001b[0m\u001b[1;32m    310\u001b[0m     \u001b[0;32mif\u001b[0m \u001b[0;32mnot\u001b[0m \u001b[0mtemplate\u001b[0m\u001b[0;34m[\u001b[0m\u001b[0;36m0\u001b[0m\u001b[0;34m]\u001b[0m \u001b[0;32mand\u001b[0m \u001b[0mlen\u001b[0m\u001b[0;34m(\u001b[0m\u001b[0mtemplate\u001b[0m\u001b[0;34m[\u001b[0m\u001b[0;36m1\u001b[0m\u001b[0;34m]\u001b[0m\u001b[0;34m)\u001b[0m \u001b[0;34m==\u001b[0m \u001b[0;36m1\u001b[0m\u001b[0;34m:\u001b[0m\u001b[0;34m\u001b[0m\u001b[0;34m\u001b[0m\u001b[0m\n\u001b[1;32m    311\u001b[0m         \u001b[0;31m# literal replacement\u001b[0m\u001b[0;34m\u001b[0m\u001b[0;34m\u001b[0m\u001b[0;34m\u001b[0m\u001b[0m\n",
      "\u001b[0;31mKeyboardInterrupt\u001b[0m: "
     ]
    }
   ],
   "source": [
    "tokenized_notes = dat['TEXT'].apply(lambda x: word_tokenize(x.lower())) # taking forever (3+ minutes)"
   ]
  },
  {
   "cell_type": "code",
   "execution_count": null,
   "metadata": {},
   "outputs": [],
   "source": [
    "print(tokenized_notes.shape)\n",
    "tokenized_notes.head()"
   ]
  },
  {
   "cell_type": "code",
   "execution_count": 157,
   "metadata": {},
   "outputs": [],
   "source": [
    "## How will distribution look when I take out stop words? \n",
    "# flatten = lambda l: [item for sublist in l for item in sublist]\n",
    "# small['text_'] = small['text_tok'].apply(lambda x: [word for word in x if word not in stop_words])"
   ]
  },
  {
   "cell_type": "markdown",
   "metadata": {},
   "source": [
    "## Overfit on small dataset:"
   ]
  },
  {
   "cell_type": "code",
   "execution_count": 174,
   "metadata": {},
   "outputs": [],
   "source": [
    "small = dat.copy(deep=True)[:5500]\n",
    "tiny = dat.copy(deep=True)[:150]"
   ]
  },
  {
   "cell_type": "code",
   "execution_count": 153,
   "metadata": {},
   "outputs": [],
   "source": [
    "import editdistance\n",
    "import enchant\n",
    "\n",
    "d = enchant.Dict(\"en_US\")\n",
    "\n",
    "def tokenize(series):\n",
    "    return series.apply(lambda x: word_tokenize(x))\n",
    "\n",
    "def all_vocab_flat(series):\n",
    "    return [item for sublist in series for item in sublist]\n",
    "\n",
    "def unique_vocab(vocab):\n",
    "    \"\"\"\n",
    "    Returns unique array of words from list of vocab words\n",
    "    \"\"\"\n",
    "    return np.unique(vocab)\n",
    "\n",
    "# Count word occurance\n",
    "def CountFrequency(my_list): \n",
    "    # Creating an empty dictionary  \n",
    "    freq = {} \n",
    "    for item in my_list: \n",
    "        if (item in freq): \n",
    "            freq[item] += 1\n",
    "        else: \n",
    "            freq[item] = 1\n",
    "    return freq\n",
    "\n",
    "def sep_freq_nonfreq(word_counts, thresh=5):\n",
    "    \"\"\"\n",
    "    Separate frequent words from non-frequent words\n",
    "    \"\"\"\n",
    "    frequent_words = {}\n",
    "    out_of_vocab_words = {}\n",
    "    for i in word_counts:\n",
    "        if word_counts[i] >= thresh:\n",
    "            frequent_words[i] = word_counts[i]\n",
    "        else:\n",
    "            out_of_vocab_words[i] = word_counts[i]\n",
    "    \n",
    "    print(\"Number of frequent words:     {}\".format(len(frequent_words)))\n",
    "    print(\"Number of out of vocab words: {}\".format(len(out_of_vocab_words)))\n",
    "    return frequent_words, out_of_vocab_words\n",
    "\n",
    "\n",
    "def map_to_vocab(out_of_vocab_words, frequent_words, print_every=100):\n",
    "    \"\"\"\n",
    "    Take out of vocab words and returns a map of their closest word\n",
    "    \n",
    "    First looks to find if that word exists already as a proper english word\n",
    "    If it doesn't, find the closest word in the vocab already based on edit distance\n",
    "    \n",
    "    Returns: map of out_of_vocab words to their in_vocab word\n",
    "    \"\"\"\n",
    "    i = 0\n",
    "    new_word_map = {}\n",
    "    for out_of_vocab_word in out_of_vocab_words:\n",
    "        if i % print_every==0:\n",
    "            perc=100*(i/len(out_of_vocab_words))\n",
    "            print(int(perc),\"%\")\n",
    "        min_dist = 10000\n",
    "        closest_word = 'filler_word'\n",
    "        if d.check(out_of_vocab_word):\n",
    "            new_word_map[out_of_vocab_word] = out_of_vocab_word\n",
    "            i += 1\n",
    "            continue\n",
    "        for word in frequent_words:\n",
    "            dist = editdistance.distance(out_of_vocab_word, word)\n",
    "            if dist < min_dist:\n",
    "                min_dist = dist\n",
    "                closest_word = word\n",
    "        new_word_map[out_of_vocab_word] = closest_word\n",
    "        i += 1\n",
    "    return new_word_map\n",
    "\n",
    "def replace_out_of_vocab_words(word_list, d):\n",
    "    \"\"\"\n",
    "    Takes a list of tokens and returns a list of tokens with `out of vocab` words\n",
    "       changed to their closest word in the dictionary \n",
    "       \n",
    "    @param word_list: List[str]\n",
    "    @param d:         Dictionary of word and their closest word\n",
    "    \"\"\"\n",
    "    doc = []\n",
    "    for word in word_list:\n",
    "        if word in d:\n",
    "            word = d[word]\n",
    "        doc.append(word)\n",
    "    return doc"
   ]
  },
  {
   "cell_type": "code",
   "execution_count": 168,
   "metadata": {},
   "outputs": [],
   "source": [
    "def clean_the_text(df, print_every=1000):\n",
    "    begin_time = time.time()\n",
    "    df['text_tok'] = tokenize(df['TEXT'])\n",
    "    vocab = all_vocab_flat(df['text_tok'])\n",
    "    unique_vocab_ = unique_vocab(vocab)\n",
    "    \n",
    "    # Before masking non-alphabetical characters\n",
    "    print(\"Number of total words:  \", len(vocab))\n",
    "    print(\"Number of unique words: \", len(unique_vocab_))\n",
    "    \n",
    "    word_freq = CountFrequency(vocab)\n",
    "    frequent_words, out_of_vocab_words = sep_freq_nonfreq(word_freq)\n",
    "    \n",
    "    print(\"Took %.2f sec\" % (time.time() - begin_time))\n",
    "    print()\n",
    "    \n",
    "    print(\"Mapping words to words in vocabulary / in English\")\n",
    "    \n",
    "    out_to_vocab_dict = map_to_vocab(out_of_vocab_words, frequent_words, print_every=print_every)\n",
    "    \n",
    "    print(\"Total time: %.2f\" % (time.time() - begin_time))\n",
    "    \n",
    "    df['text_tok_in'] = df['text_tok'].apply(lambda x: replace_out_of_vocab_words(x, out_to_vocab_dict))\n",
    "    \n",
    "    df['text_ready'] = df['text_tok_in'].apply(lambda x: \" \".join(x))\n",
    "    \n",
    "    print(\"Total time: %.2f\" % (time.time() - begin_time))\n",
    "    \n",
    "    return df, out_to_vocab_dict, word_freq"
   ]
  },
  {
   "cell_type": "code",
   "execution_count": 161,
   "metadata": {},
   "outputs": [],
   "source": [
    "from sklearn.model_selection import train_test_split\n",
    "def save_files(df, folder=None):\n",
    "    df.to_csv(\"../data/\"+folder+\"/\"+folder+\"_data.csv\", index=False, sep='\\n')\n",
    "    print(\"Saved file to disc. Now creating splits and saving:\")\n",
    "    \n",
    "    train, test = train_test_split(df, test_size=0.2, random_state=0, shuffle=True)\n",
    "    train, dev = train_test_split(train, test_size=0.25, random_state=0, shuffle=True)\n",
    "    \n",
    "    print(\"train.shape: \", train.shape)\n",
    "    print(\"dev.shape: \", dev.shape)\n",
    "    print(\"test.shape: \", test.shape)\n",
    "    \n",
    "    train['text_ready'].to_csv(\"../data/\"+folder+\"/train_text.csv\", index=False, sep='\\n')\n",
    "    train['high_levels'].to_csv(\"../data/\"+folder+\"/train_labels.csv\", index=False, sep='\\n')\n",
    "    dev['text_ready'].to_csv(\"../data/\"+folder+\"/dev_text.csv\", index=False, sep='\\n')\n",
    "    dev['high_levels'].to_csv(\"../data/\"+folder+\"/dev_labels.csv\", index=False, sep='\\n')\n",
    "    test['text_ready'].to_csv(\"../data/\"+folder+\"/test_text.csv\", index=False, sep='\\n')\n",
    "    test['high_levels'].to_csv(\"../data/\"+folder+\"/test_labels.csv\", index=False, sep='\\n')"
   ]
  },
  {
   "cell_type": "markdown",
   "metadata": {},
   "source": [
    "## On 'tiny' dataset with 100 rows"
   ]
  },
  {
   "cell_type": "code",
   "execution_count": 175,
   "metadata": {},
   "outputs": [
    {
     "name": "stdout",
     "output_type": "stream",
     "text": [
      "Number of total words:   246287\n",
      "Number of unique words:  12283\n",
      "Number of frequent words:     3929\n",
      "Number of out of vocab words: 8354\n",
      "Took 1.94 sec\n",
      "\n",
      "Mapping words to words in vocabulary / in English\n",
      "0 %\n",
      "11 %\n",
      "23 %\n",
      "35 %\n",
      "47 %\n",
      "59 %\n",
      "71 %\n",
      "83 %\n",
      "95 %\n",
      "Total time: 58.32\n",
      "Total time: 58.35\n"
     ]
    }
   ],
   "source": [
    "tiny, out_to_vocab_dict, word_freq = clean_the_text(tiny) # with 100 rows it took 35 seconds"
   ]
  },
  {
   "cell_type": "code",
   "execution_count": 176,
   "metadata": {},
   "outputs": [
    {
     "data": {
      "text/html": [
       "<div>\n",
       "<style scoped>\n",
       "    .dataframe tbody tr th:only-of-type {\n",
       "        vertical-align: middle;\n",
       "    }\n",
       "\n",
       "    .dataframe tbody tr th {\n",
       "        vertical-align: top;\n",
       "    }\n",
       "\n",
       "    .dataframe thead th {\n",
       "        text-align: right;\n",
       "    }\n",
       "</style>\n",
       "<table border=\"1\" class=\"dataframe\">\n",
       "  <thead>\n",
       "    <tr style=\"text-align: right;\">\n",
       "      <th></th>\n",
       "      <th>ROW_ID</th>\n",
       "      <th>SUBJECT_ID</th>\n",
       "      <th>HADM_ID</th>\n",
       "      <th>TEXT</th>\n",
       "      <th>ICD9_codes</th>\n",
       "      <th>high_levels</th>\n",
       "      <th>text_tok</th>\n",
       "      <th>text_tok_in</th>\n",
       "      <th>text_ready</th>\n",
       "    </tr>\n",
       "  </thead>\n",
       "  <tbody>\n",
       "    <tr>\n",
       "      <th>0</th>\n",
       "      <td>174</td>\n",
       "      <td>22532</td>\n",
       "      <td>167853</td>\n",
       "      <td>service addendum radiologic studies radiologic...</td>\n",
       "      <td>[4254, 2762, 5119, 2639, 42731, 5070, 2113, 01...</td>\n",
       "      <td>[0, 1, 2, 6, 7]</td>\n",
       "      <td>[service, addendum, radiologic, studies, radio...</td>\n",
       "      <td>[service, addendum, radiologic, studies, radio...</td>\n",
       "      <td>service addendum radiologic studies radiologic...</td>\n",
       "    </tr>\n",
       "    <tr>\n",
       "      <th>1</th>\n",
       "      <td>170</td>\n",
       "      <td>22532</td>\n",
       "      <td>167853</td>\n",
       "      <td>history of present illness the patient is an d...</td>\n",
       "      <td>[4254, 2762, 5119, 2639, 42731, 5070, 2113, 01...</td>\n",
       "      <td>[0, 1, 2, 6, 7]</td>\n",
       "      <td>[history, of, present, illness, the, patient, ...</td>\n",
       "      <td>[history, of, present, illness, the, patient, ...</td>\n",
       "      <td>history of present illness the patient is an d...</td>\n",
       "    </tr>\n",
       "    <tr>\n",
       "      <th>2</th>\n",
       "      <td>175</td>\n",
       "      <td>13702</td>\n",
       "      <td>107527</td>\n",
       "      <td>sex f service micu and then to medicine histor...</td>\n",
       "      <td>[486, 2761, 2449, 49121, 311, 51881]</td>\n",
       "      <td>[2, 4, 7]</td>\n",
       "      <td>[sex, f, service, micu, and, then, to, medicin...</td>\n",
       "      <td>[sex, f, service, micu, and, then, to, medicin...</td>\n",
       "      <td>sex f service micu and then to medicine histor...</td>\n",
       "    </tr>\n",
       "    <tr>\n",
       "      <th>3</th>\n",
       "      <td>176</td>\n",
       "      <td>13702</td>\n",
       "      <td>167118</td>\n",
       "      <td>service cardiothoracic allergies amlodipine at...</td>\n",
       "      <td>[2762, 496, 5533, 45340]</td>\n",
       "      <td>[2, 6, 7, 8]</td>\n",
       "      <td>[service, cardiothoracic, allergies, amlodipin...</td>\n",
       "      <td>[service, cardiothoracic, allergies, amlodipin...</td>\n",
       "      <td>service cardiothoracic allergies amlodipine at...</td>\n",
       "    </tr>\n",
       "    <tr>\n",
       "      <th>4</th>\n",
       "      <td>177</td>\n",
       "      <td>13702</td>\n",
       "      <td>196489</td>\n",
       "      <td>service medicine allergies amlodipine attendin...</td>\n",
       "      <td>[2762, 45829, 41401, 4019, E9320, 5849, 2449, ...</td>\n",
       "      <td>[2, 5, 6, 7, 8, 9, 17, 18]</td>\n",
       "      <td>[service, medicine, allergies, amlodipine, att...</td>\n",
       "      <td>[service, medicine, allergies, amlodipine, att...</td>\n",
       "      <td>service medicine allergies amlodipine attendin...</td>\n",
       "    </tr>\n",
       "  </tbody>\n",
       "</table>\n",
       "</div>"
      ],
      "text/plain": [
       "   ROW_ID  SUBJECT_ID  HADM_ID  \\\n",
       "0     174       22532   167853   \n",
       "1     170       22532   167853   \n",
       "2     175       13702   107527   \n",
       "3     176       13702   167118   \n",
       "4     177       13702   196489   \n",
       "\n",
       "                                                TEXT  \\\n",
       "0  service addendum radiologic studies radiologic...   \n",
       "1  history of present illness the patient is an d...   \n",
       "2  sex f service micu and then to medicine histor...   \n",
       "3  service cardiothoracic allergies amlodipine at...   \n",
       "4  service medicine allergies amlodipine attendin...   \n",
       "\n",
       "                                          ICD9_codes  \\\n",
       "0  [4254, 2762, 5119, 2639, 42731, 5070, 2113, 01...   \n",
       "1  [4254, 2762, 5119, 2639, 42731, 5070, 2113, 01...   \n",
       "2               [486, 2761, 2449, 49121, 311, 51881]   \n",
       "3                           [2762, 496, 5533, 45340]   \n",
       "4  [2762, 45829, 41401, 4019, E9320, 5849, 2449, ...   \n",
       "\n",
       "                  high_levels  \\\n",
       "0             [0, 1, 2, 6, 7]   \n",
       "1             [0, 1, 2, 6, 7]   \n",
       "2                   [2, 4, 7]   \n",
       "3                [2, 6, 7, 8]   \n",
       "4  [2, 5, 6, 7, 8, 9, 17, 18]   \n",
       "\n",
       "                                            text_tok  \\\n",
       "0  [service, addendum, radiologic, studies, radio...   \n",
       "1  [history, of, present, illness, the, patient, ...   \n",
       "2  [sex, f, service, micu, and, then, to, medicin...   \n",
       "3  [service, cardiothoracic, allergies, amlodipin...   \n",
       "4  [service, medicine, allergies, amlodipine, att...   \n",
       "\n",
       "                                         text_tok_in  \\\n",
       "0  [service, addendum, radiologic, studies, radio...   \n",
       "1  [history, of, present, illness, the, patient, ...   \n",
       "2  [sex, f, service, micu, and, then, to, medicin...   \n",
       "3  [service, cardiothoracic, allergies, amlodipin...   \n",
       "4  [service, medicine, allergies, amlodipine, att...   \n",
       "\n",
       "                                          text_ready  \n",
       "0  service addendum radiologic studies radiologic...  \n",
       "1  history of present illness the patient is an d...  \n",
       "2  sex f service micu and then to medicine histor...  \n",
       "3  service cardiothoracic allergies amlodipine at...  \n",
       "4  service medicine allergies amlodipine attendin...  "
      ]
     },
     "execution_count": 176,
     "metadata": {},
     "output_type": "execute_result"
    }
   ],
   "source": [
    "tiny.head()"
   ]
  },
  {
   "cell_type": "code",
   "execution_count": 177,
   "metadata": {},
   "outputs": [
    {
     "name": "stdout",
     "output_type": "stream",
     "text": [
      "Saved file to disc. Now creating splits and saving:\n",
      "train.shape:  (90, 9)\n",
      "dev.shape:  (30, 9)\n",
      "test.shape:  (30, 9)\n"
     ]
    }
   ],
   "source": [
    "save_files(tiny, folder=\"tiny\")"
   ]
  },
  {
   "cell_type": "markdown",
   "metadata": {},
   "source": [
    "## On 'small' dataset with 5400 rows"
   ]
  },
  {
   "cell_type": "code",
   "execution_count": 120,
   "metadata": {
    "scrolled": true
   },
   "outputs": [
    {
     "name": "stdout",
     "output_type": "stream",
     "text": [
      "Number of total words:   9125375\n",
      "Number of unique words:  81174\n",
      "Number of frequent words:     22135\n",
      "Number of out of vocab words: 59039\n",
      "Took 75.79 sec\n",
      "\n",
      "Mapping words to words in vocabulary / in English\n",
      "0 %\n",
      "1 %\n",
      "3 %\n",
      "5 %\n",
      "6 %\n",
      "8 %\n",
      "10 %\n",
      "11 %\n",
      "13 %\n",
      "15 %\n",
      "16 %\n",
      "18 %\n",
      "20 %\n",
      "22 %\n",
      "23 %\n",
      "25 %\n",
      "27 %\n",
      "28 %\n",
      "30 %\n",
      "32 %\n",
      "33 %\n",
      "35 %\n",
      "37 %\n",
      "38 %\n",
      "40 %\n",
      "42 %\n",
      "44 %\n",
      "45 %\n",
      "47 %\n",
      "49 %\n",
      "50 %\n",
      "52 %\n",
      "54 %\n",
      "55 %\n",
      "57 %\n",
      "59 %\n",
      "60 %\n",
      "62 %\n",
      "64 %\n",
      "66 %\n",
      "67 %\n",
      "69 %\n",
      "71 %\n",
      "72 %\n",
      "74 %\n",
      "76 %\n",
      "77 %\n",
      "79 %\n",
      "81 %\n",
      "82 %\n",
      "84 %\n",
      "86 %\n",
      "88 %\n",
      "89 %\n",
      "91 %\n",
      "93 %\n",
      "94 %\n",
      "96 %\n",
      "98 %\n",
      "99 %\n",
      "Total time: 12855.11\n",
      "Total time: 12857.28\n"
     ]
    }
   ],
   "source": [
    "small4, out_to_vocab_dict4, word_freq4 = clean_the_text(small) # df with 5400 rows took ~ 1 hour"
   ]
  },
  {
   "cell_type": "code",
   "execution_count": 122,
   "metadata": {},
   "outputs": [
    {
     "data": {
      "text/html": [
       "<div>\n",
       "<style scoped>\n",
       "    .dataframe tbody tr th:only-of-type {\n",
       "        vertical-align: middle;\n",
       "    }\n",
       "\n",
       "    .dataframe tbody tr th {\n",
       "        vertical-align: top;\n",
       "    }\n",
       "\n",
       "    .dataframe thead th {\n",
       "        text-align: right;\n",
       "    }\n",
       "</style>\n",
       "<table border=\"1\" class=\"dataframe\">\n",
       "  <thead>\n",
       "    <tr style=\"text-align: right;\">\n",
       "      <th></th>\n",
       "      <th>ROW_ID</th>\n",
       "      <th>SUBJECT_ID</th>\n",
       "      <th>HADM_ID</th>\n",
       "      <th>TEXT</th>\n",
       "      <th>ICD9_codes</th>\n",
       "      <th>high_levels</th>\n",
       "      <th>text_tok</th>\n",
       "      <th>text_tok_in</th>\n",
       "      <th>text_ready</th>\n",
       "    </tr>\n",
       "  </thead>\n",
       "  <tbody>\n",
       "    <tr>\n",
       "      <th>0</th>\n",
       "      <td>174</td>\n",
       "      <td>22532</td>\n",
       "      <td>167853</td>\n",
       "      <td>service addendum radiologic studies radiologic...</td>\n",
       "      <td>[4254, 2762, 5119, 2639, 42731, 5070, 2113, 01...</td>\n",
       "      <td>[0, 1, 2, 6, 7]</td>\n",
       "      <td>[service, addendum, radiologic, studies, radio...</td>\n",
       "      <td>[service, addendum, radiologic, studies, radio...</td>\n",
       "      <td>service addendum radiologic studies radiologic...</td>\n",
       "    </tr>\n",
       "    <tr>\n",
       "      <th>1</th>\n",
       "      <td>170</td>\n",
       "      <td>22532</td>\n",
       "      <td>167853</td>\n",
       "      <td>history of present illness the patient is an d...</td>\n",
       "      <td>[4254, 2762, 5119, 2639, 42731, 5070, 2113, 01...</td>\n",
       "      <td>[0, 1, 2, 6, 7]</td>\n",
       "      <td>[history, of, present, illness, the, patient, ...</td>\n",
       "      <td>[history, of, present, illness, the, patient, ...</td>\n",
       "      <td>history of present illness the patient is an d...</td>\n",
       "    </tr>\n",
       "    <tr>\n",
       "      <th>2</th>\n",
       "      <td>175</td>\n",
       "      <td>13702</td>\n",
       "      <td>107527</td>\n",
       "      <td>sex f service micu and then to medicine histor...</td>\n",
       "      <td>[486, 2761, 2449, 49121, 311, 51881]</td>\n",
       "      <td>[2, 4, 7]</td>\n",
       "      <td>[sex, f, service, micu, and, then, to, medicin...</td>\n",
       "      <td>[sex, f, service, micu, and, then, to, medicin...</td>\n",
       "      <td>sex f service micu and then to medicine histor...</td>\n",
       "    </tr>\n",
       "    <tr>\n",
       "      <th>3</th>\n",
       "      <td>176</td>\n",
       "      <td>13702</td>\n",
       "      <td>167118</td>\n",
       "      <td>service cardiothoracic allergies amlodipine at...</td>\n",
       "      <td>[2762, 496, 5533, 45340]</td>\n",
       "      <td>[2, 6, 7, 8]</td>\n",
       "      <td>[service, cardiothoracic, allergies, amlodipin...</td>\n",
       "      <td>[service, cardiothoracic, allergies, amlodipin...</td>\n",
       "      <td>service cardiothoracic allergies amlodipine at...</td>\n",
       "    </tr>\n",
       "    <tr>\n",
       "      <th>4</th>\n",
       "      <td>177</td>\n",
       "      <td>13702</td>\n",
       "      <td>196489</td>\n",
       "      <td>service medicine allergies amlodipine attendin...</td>\n",
       "      <td>[2762, 45829, 41401, 4019, E9320, 5849, 2449, ...</td>\n",
       "      <td>[2, 5, 6, 7, 8, 9, 17, 18]</td>\n",
       "      <td>[service, medicine, allergies, amlodipine, att...</td>\n",
       "      <td>[service, medicine, allergies, amlodipine, att...</td>\n",
       "      <td>service medicine allergies amlodipine attendin...</td>\n",
       "    </tr>\n",
       "  </tbody>\n",
       "</table>\n",
       "</div>"
      ],
      "text/plain": [
       "   ROW_ID  SUBJECT_ID  HADM_ID  \\\n",
       "0     174       22532   167853   \n",
       "1     170       22532   167853   \n",
       "2     175       13702   107527   \n",
       "3     176       13702   167118   \n",
       "4     177       13702   196489   \n",
       "\n",
       "                                                TEXT  \\\n",
       "0  service addendum radiologic studies radiologic...   \n",
       "1  history of present illness the patient is an d...   \n",
       "2  sex f service micu and then to medicine histor...   \n",
       "3  service cardiothoracic allergies amlodipine at...   \n",
       "4  service medicine allergies amlodipine attendin...   \n",
       "\n",
       "                                          ICD9_codes  \\\n",
       "0  [4254, 2762, 5119, 2639, 42731, 5070, 2113, 01...   \n",
       "1  [4254, 2762, 5119, 2639, 42731, 5070, 2113, 01...   \n",
       "2               [486, 2761, 2449, 49121, 311, 51881]   \n",
       "3                           [2762, 496, 5533, 45340]   \n",
       "4  [2762, 45829, 41401, 4019, E9320, 5849, 2449, ...   \n",
       "\n",
       "                  high_levels  \\\n",
       "0             [0, 1, 2, 6, 7]   \n",
       "1             [0, 1, 2, 6, 7]   \n",
       "2                   [2, 4, 7]   \n",
       "3                [2, 6, 7, 8]   \n",
       "4  [2, 5, 6, 7, 8, 9, 17, 18]   \n",
       "\n",
       "                                            text_tok  \\\n",
       "0  [service, addendum, radiologic, studies, radio...   \n",
       "1  [history, of, present, illness, the, patient, ...   \n",
       "2  [sex, f, service, micu, and, then, to, medicin...   \n",
       "3  [service, cardiothoracic, allergies, amlodipin...   \n",
       "4  [service, medicine, allergies, amlodipine, att...   \n",
       "\n",
       "                                         text_tok_in  \\\n",
       "0  [service, addendum, radiologic, studies, radio...   \n",
       "1  [history, of, present, illness, the, patient, ...   \n",
       "2  [sex, f, service, micu, and, then, to, medicin...   \n",
       "3  [service, cardiothoracic, allergies, amlodipin...   \n",
       "4  [service, medicine, allergies, amlodipine, att...   \n",
       "\n",
       "                                          text_ready  \n",
       "0  service addendum radiologic studies radiologic...  \n",
       "1  history of present illness the patient is an d...  \n",
       "2  sex f service micu and then to medicine histor...  \n",
       "3  service cardiothoracic allergies amlodipine at...  \n",
       "4  service medicine allergies amlodipine attendin...  "
      ]
     },
     "execution_count": 122,
     "metadata": {},
     "output_type": "execute_result"
    }
   ],
   "source": [
    "small4.head()"
   ]
  },
  {
   "cell_type": "code",
   "execution_count": 162,
   "metadata": {},
   "outputs": [
    {
     "name": "stdout",
     "output_type": "stream",
     "text": [
      "Saved file to disc. Now creating splits and saving:\n",
      "train.shape:  (3300, 9)\n",
      "dev.shape:  (1100, 9)\n",
      "test.shape:  (1100, 9)\n"
     ]
    }
   ],
   "source": [
    "save_files(small4, folder=\"small\")"
   ]
  },
  {
   "cell_type": "code",
   "execution_count": null,
   "metadata": {},
   "outputs": [],
   "source": []
  },
  {
   "cell_type": "markdown",
   "metadata": {},
   "source": [
    "## On 'full' dataset with 54000 rows"
   ]
  },
  {
   "cell_type": "code",
   "execution_count": 182,
   "metadata": {
    "scrolled": false
   },
   "outputs": [
    {
     "name": "stdout",
     "output_type": "stream",
     "text": [
      "Number of total words:   86726728\n",
      "Number of unique words:  301335\n",
      "Number of frequent words:     66907\n",
      "Number of out of vocab words: 234428\n",
      "Took 934.38 sec\n",
      "\n",
      "Mapping words to words in vocabulary / in English\n",
      "0 %\n",
      "2 %\n",
      "4 %\n",
      "6 %\n",
      "8 %\n",
      "10 %\n",
      "12 %\n",
      "14 %\n",
      "17 %\n",
      "19 %\n",
      "21 %\n",
      "23 %\n",
      "25 %\n",
      "27 %\n",
      "29 %\n",
      "31 %\n",
      "34 %\n",
      "36 %\n",
      "38 %\n",
      "40 %\n",
      "42 %\n",
      "44 %\n",
      "46 %\n",
      "49 %\n",
      "51 %\n",
      "53 %\n",
      "55 %\n",
      "57 %\n",
      "59 %\n",
      "61 %\n",
      "63 %\n",
      "66 %\n",
      "68 %\n",
      "70 %\n",
      "72 %\n",
      "74 %\n",
      "76 %\n",
      "78 %\n",
      "81 %\n",
      "83 %\n",
      "85 %\n",
      "87 %\n",
      "89 %\n",
      "91 %\n",
      "93 %\n",
      "95 %\n",
      "98 %\n",
      "Total time: 47820.91\n",
      "Total time: 47866.18\n"
     ]
    }
   ],
   "source": [
    "full, out_to_vocab_dict_full, word_freq_full = clean_the_text(dat, print_every=5000) # df with 5400 rows took "
   ]
  },
  {
   "cell_type": "code",
   "execution_count": 183,
   "metadata": {},
   "outputs": [
    {
     "data": {
      "text/html": [
       "<div>\n",
       "<style scoped>\n",
       "    .dataframe tbody tr th:only-of-type {\n",
       "        vertical-align: middle;\n",
       "    }\n",
       "\n",
       "    .dataframe tbody tr th {\n",
       "        vertical-align: top;\n",
       "    }\n",
       "\n",
       "    .dataframe thead th {\n",
       "        text-align: right;\n",
       "    }\n",
       "</style>\n",
       "<table border=\"1\" class=\"dataframe\">\n",
       "  <thead>\n",
       "    <tr style=\"text-align: right;\">\n",
       "      <th></th>\n",
       "      <th>ROW_ID</th>\n",
       "      <th>SUBJECT_ID</th>\n",
       "      <th>HADM_ID</th>\n",
       "      <th>TEXT</th>\n",
       "      <th>ICD9_codes</th>\n",
       "      <th>high_levels</th>\n",
       "      <th>text_tok</th>\n",
       "      <th>text_tok_in</th>\n",
       "      <th>text_ready</th>\n",
       "    </tr>\n",
       "  </thead>\n",
       "  <tbody>\n",
       "    <tr>\n",
       "      <th>0</th>\n",
       "      <td>174</td>\n",
       "      <td>22532</td>\n",
       "      <td>167853</td>\n",
       "      <td>service addendum radiologic studies radiologic...</td>\n",
       "      <td>[4254, 2762, 5119, 2639, 42731, 5070, 2113, 01...</td>\n",
       "      <td>[0, 1, 2, 6, 7]</td>\n",
       "      <td>[service, addendum, radiologic, studies, radio...</td>\n",
       "      <td>[service, addendum, radiologic, studies, radio...</td>\n",
       "      <td>service addendum radiologic studies radiologic...</td>\n",
       "    </tr>\n",
       "    <tr>\n",
       "      <th>1</th>\n",
       "      <td>170</td>\n",
       "      <td>22532</td>\n",
       "      <td>167853</td>\n",
       "      <td>history of present illness the patient is an d...</td>\n",
       "      <td>[4254, 2762, 5119, 2639, 42731, 5070, 2113, 01...</td>\n",
       "      <td>[0, 1, 2, 6, 7]</td>\n",
       "      <td>[history, of, present, illness, the, patient, ...</td>\n",
       "      <td>[history, of, present, illness, the, patient, ...</td>\n",
       "      <td>history of present illness the patient is an d...</td>\n",
       "    </tr>\n",
       "    <tr>\n",
       "      <th>2</th>\n",
       "      <td>175</td>\n",
       "      <td>13702</td>\n",
       "      <td>107527</td>\n",
       "      <td>sex f service micu and then to medicine histor...</td>\n",
       "      <td>[486, 2761, 2449, 49121, 311, 51881]</td>\n",
       "      <td>[2, 4, 7]</td>\n",
       "      <td>[sex, f, service, micu, and, then, to, medicin...</td>\n",
       "      <td>[sex, f, service, micu, and, then, to, medicin...</td>\n",
       "      <td>sex f service micu and then to medicine histor...</td>\n",
       "    </tr>\n",
       "    <tr>\n",
       "      <th>3</th>\n",
       "      <td>176</td>\n",
       "      <td>13702</td>\n",
       "      <td>167118</td>\n",
       "      <td>service cardiothoracic allergies amlodipine at...</td>\n",
       "      <td>[2762, 496, 5533, 45340]</td>\n",
       "      <td>[2, 6, 7, 8]</td>\n",
       "      <td>[service, cardiothoracic, allergies, amlodipin...</td>\n",
       "      <td>[service, cardiothoracic, allergies, amlodipin...</td>\n",
       "      <td>service cardiothoracic allergies amlodipine at...</td>\n",
       "    </tr>\n",
       "    <tr>\n",
       "      <th>4</th>\n",
       "      <td>177</td>\n",
       "      <td>13702</td>\n",
       "      <td>196489</td>\n",
       "      <td>service medicine allergies amlodipine attendin...</td>\n",
       "      <td>[2762, 45829, 41401, 4019, E9320, 5849, 2449, ...</td>\n",
       "      <td>[2, 5, 6, 7, 8, 9, 17, 18]</td>\n",
       "      <td>[service, medicine, allergies, amlodipine, att...</td>\n",
       "      <td>[service, medicine, allergies, amlodipine, att...</td>\n",
       "      <td>service medicine allergies amlodipine attendin...</td>\n",
       "    </tr>\n",
       "  </tbody>\n",
       "</table>\n",
       "</div>"
      ],
      "text/plain": [
       "   ROW_ID  SUBJECT_ID  HADM_ID  \\\n",
       "0     174       22532   167853   \n",
       "1     170       22532   167853   \n",
       "2     175       13702   107527   \n",
       "3     176       13702   167118   \n",
       "4     177       13702   196489   \n",
       "\n",
       "                                                TEXT  \\\n",
       "0  service addendum radiologic studies radiologic...   \n",
       "1  history of present illness the patient is an d...   \n",
       "2  sex f service micu and then to medicine histor...   \n",
       "3  service cardiothoracic allergies amlodipine at...   \n",
       "4  service medicine allergies amlodipine attendin...   \n",
       "\n",
       "                                          ICD9_codes  \\\n",
       "0  [4254, 2762, 5119, 2639, 42731, 5070, 2113, 01...   \n",
       "1  [4254, 2762, 5119, 2639, 42731, 5070, 2113, 01...   \n",
       "2               [486, 2761, 2449, 49121, 311, 51881]   \n",
       "3                           [2762, 496, 5533, 45340]   \n",
       "4  [2762, 45829, 41401, 4019, E9320, 5849, 2449, ...   \n",
       "\n",
       "                  high_levels  \\\n",
       "0             [0, 1, 2, 6, 7]   \n",
       "1             [0, 1, 2, 6, 7]   \n",
       "2                   [2, 4, 7]   \n",
       "3                [2, 6, 7, 8]   \n",
       "4  [2, 5, 6, 7, 8, 9, 17, 18]   \n",
       "\n",
       "                                            text_tok  \\\n",
       "0  [service, addendum, radiologic, studies, radio...   \n",
       "1  [history, of, present, illness, the, patient, ...   \n",
       "2  [sex, f, service, micu, and, then, to, medicin...   \n",
       "3  [service, cardiothoracic, allergies, amlodipin...   \n",
       "4  [service, medicine, allergies, amlodipine, att...   \n",
       "\n",
       "                                         text_tok_in  \\\n",
       "0  [service, addendum, radiologic, studies, radio...   \n",
       "1  [history, of, present, illness, the, patient, ...   \n",
       "2  [sex, f, service, micu, and, then, to, medicin...   \n",
       "3  [service, cardiothoracic, allergies, amlodipin...   \n",
       "4  [service, medicine, allergies, amlodipine, att...   \n",
       "\n",
       "                                          text_ready  \n",
       "0  service addendum radiologic studies radiologic...  \n",
       "1  history of present illness the patient is an d...  \n",
       "2  sex f service micu and then to medicine histor...  \n",
       "3  service cardiothoracic allergies amlodipine at...  \n",
       "4  service medicine allergies amlodipine attendin...  "
      ]
     },
     "execution_count": 183,
     "metadata": {},
     "output_type": "execute_result"
    }
   ],
   "source": [
    "full.head()"
   ]
  },
  {
   "cell_type": "code",
   "execution_count": 184,
   "metadata": {},
   "outputs": [
    {
     "name": "stdout",
     "output_type": "stream",
     "text": [
      "Saved file to disc. Now creating splits and saving:\n",
      "train.shape:  (33102, 9)\n",
      "dev.shape:  (11034, 9)\n",
      "test.shape:  (11034, 9)\n"
     ]
    }
   ],
   "source": [
    "save_files(full, folder=\"full\")"
   ]
  },
  {
   "cell_type": "code",
   "execution_count": 189,
   "metadata": {},
   "outputs": [
    {
     "data": {
      "text/plain": [
       "'service , m.d .'"
      ]
     },
     "execution_count": 189,
     "metadata": {},
     "output_type": "execute_result"
    }
   ],
   "source": [
    "note_lengths = full.text_ready.apply(lambda x: len(x))\n",
    "np.argmin(note_lengths)\n",
    "full.text_ready.loc[np.argmin(note_lengths)]\n",
    "\n"
   ]
  },
  {
   "cell_type": "code",
   "execution_count": 201,
   "metadata": {},
   "outputs": [
    {
     "data": {
      "text/html": [
       "<div>\n",
       "<style scoped>\n",
       "    .dataframe tbody tr th:only-of-type {\n",
       "        vertical-align: middle;\n",
       "    }\n",
       "\n",
       "    .dataframe tbody tr th {\n",
       "        vertical-align: top;\n",
       "    }\n",
       "\n",
       "    .dataframe thead th {\n",
       "        text-align: right;\n",
       "    }\n",
       "</style>\n",
       "<table border=\"1\" class=\"dataframe\">\n",
       "  <thead>\n",
       "    <tr style=\"text-align: right;\">\n",
       "      <th></th>\n",
       "      <th>ROW_ID</th>\n",
       "      <th>SUBJECT_ID</th>\n",
       "      <th>HADM_ID</th>\n",
       "      <th>TEXT</th>\n",
       "      <th>ICD9_codes</th>\n",
       "      <th>high_levels</th>\n",
       "      <th>text_tok</th>\n",
       "      <th>text_tok_in</th>\n",
       "      <th>text_ready</th>\n",
       "    </tr>\n",
       "  </thead>\n",
       "  <tbody>\n",
       "    <tr>\n",
       "      <th>0</th>\n",
       "      <td>174</td>\n",
       "      <td>22532</td>\n",
       "      <td>167853</td>\n",
       "      <td>service addendum radiologic studies radiologic...</td>\n",
       "      <td>[4254, 2762, 5119, 2639, 42731, 5070, 2113, 01...</td>\n",
       "      <td>[0, 1, 2, 6, 7]</td>\n",
       "      <td>[service, addendum, radiologic, studies, radio...</td>\n",
       "      <td>[service, addendum, radiologic, studies, radio...</td>\n",
       "      <td>service addendum radiologic studies radiologic...</td>\n",
       "    </tr>\n",
       "    <tr>\n",
       "      <th>1</th>\n",
       "      <td>170</td>\n",
       "      <td>22532</td>\n",
       "      <td>167853</td>\n",
       "      <td>history of present illness the patient is an d...</td>\n",
       "      <td>[4254, 2762, 5119, 2639, 42731, 5070, 2113, 01...</td>\n",
       "      <td>[0, 1, 2, 6, 7]</td>\n",
       "      <td>[history, of, present, illness, the, patient, ...</td>\n",
       "      <td>[history, of, present, illness, the, patient, ...</td>\n",
       "      <td>history of present illness the patient is an d...</td>\n",
       "    </tr>\n",
       "    <tr>\n",
       "      <th>2</th>\n",
       "      <td>175</td>\n",
       "      <td>13702</td>\n",
       "      <td>107527</td>\n",
       "      <td>sex f service micu and then to medicine histor...</td>\n",
       "      <td>[486, 2761, 2449, 49121, 311, 51881]</td>\n",
       "      <td>[2, 4, 7]</td>\n",
       "      <td>[sex, f, service, micu, and, then, to, medicin...</td>\n",
       "      <td>[sex, f, service, micu, and, then, to, medicin...</td>\n",
       "      <td>sex f service micu and then to medicine histor...</td>\n",
       "    </tr>\n",
       "    <tr>\n",
       "      <th>3</th>\n",
       "      <td>176</td>\n",
       "      <td>13702</td>\n",
       "      <td>167118</td>\n",
       "      <td>service cardiothoracic allergies amlodipine at...</td>\n",
       "      <td>[2762, 496, 5533, 45340]</td>\n",
       "      <td>[2, 6, 7, 8]</td>\n",
       "      <td>[service, cardiothoracic, allergies, amlodipin...</td>\n",
       "      <td>[service, cardiothoracic, allergies, amlodipin...</td>\n",
       "      <td>service cardiothoracic allergies amlodipine at...</td>\n",
       "    </tr>\n",
       "    <tr>\n",
       "      <th>4</th>\n",
       "      <td>177</td>\n",
       "      <td>13702</td>\n",
       "      <td>196489</td>\n",
       "      <td>service medicine allergies amlodipine attendin...</td>\n",
       "      <td>[2762, 45829, 41401, 4019, E9320, 5849, 2449, ...</td>\n",
       "      <td>[2, 5, 6, 7, 8, 9, 17, 18]</td>\n",
       "      <td>[service, medicine, allergies, amlodipine, att...</td>\n",
       "      <td>[service, medicine, allergies, amlodipine, att...</td>\n",
       "      <td>service medicine allergies amlodipine attendin...</td>\n",
       "    </tr>\n",
       "  </tbody>\n",
       "</table>\n",
       "</div>"
      ],
      "text/plain": [
       "   ROW_ID  SUBJECT_ID  HADM_ID  \\\n",
       "0     174       22532   167853   \n",
       "1     170       22532   167853   \n",
       "2     175       13702   107527   \n",
       "3     176       13702   167118   \n",
       "4     177       13702   196489   \n",
       "\n",
       "                                                TEXT  \\\n",
       "0  service addendum radiologic studies radiologic...   \n",
       "1  history of present illness the patient is an d...   \n",
       "2  sex f service micu and then to medicine histor...   \n",
       "3  service cardiothoracic allergies amlodipine at...   \n",
       "4  service medicine allergies amlodipine attendin...   \n",
       "\n",
       "                                          ICD9_codes  \\\n",
       "0  [4254, 2762, 5119, 2639, 42731, 5070, 2113, 01...   \n",
       "1  [4254, 2762, 5119, 2639, 42731, 5070, 2113, 01...   \n",
       "2               [486, 2761, 2449, 49121, 311, 51881]   \n",
       "3                           [2762, 496, 5533, 45340]   \n",
       "4  [2762, 45829, 41401, 4019, E9320, 5849, 2449, ...   \n",
       "\n",
       "                  high_levels  \\\n",
       "0             [0, 1, 2, 6, 7]   \n",
       "1             [0, 1, 2, 6, 7]   \n",
       "2                   [2, 4, 7]   \n",
       "3                [2, 6, 7, 8]   \n",
       "4  [2, 5, 6, 7, 8, 9, 17, 18]   \n",
       "\n",
       "                                            text_tok  \\\n",
       "0  [service, addendum, radiologic, studies, radio...   \n",
       "1  [history, of, present, illness, the, patient, ...   \n",
       "2  [sex, f, service, micu, and, then, to, medicin...   \n",
       "3  [service, cardiothoracic, allergies, amlodipin...   \n",
       "4  [service, medicine, allergies, amlodipine, att...   \n",
       "\n",
       "                                         text_tok_in  \\\n",
       "0  [service, addendum, radiologic, studies, radio...   \n",
       "1  [history, of, present, illness, the, patient, ...   \n",
       "2  [sex, f, service, micu, and, then, to, medicin...   \n",
       "3  [service, cardiothoracic, allergies, amlodipin...   \n",
       "4  [service, medicine, allergies, amlodipine, att...   \n",
       "\n",
       "                                          text_ready  \n",
       "0  service addendum radiologic studies radiologic...  \n",
       "1  history of present illness the patient is an d...  \n",
       "2  sex f service micu and then to medicine histor...  \n",
       "3  service cardiothoracic allergies amlodipine at...  \n",
       "4  service medicine allergies amlodipine attendin...  "
      ]
     },
     "execution_count": 201,
     "metadata": {},
     "output_type": "execute_result"
    }
   ],
   "source": [
    "full.head()"
   ]
  },
  {
   "cell_type": "markdown",
   "metadata": {},
   "source": [
    "## Check saves:"
   ]
  },
  {
   "cell_type": "code",
   "execution_count": 173,
   "metadata": {},
   "outputs": [
    {
     "data": {
      "text/html": [
       "<div>\n",
       "<style scoped>\n",
       "    .dataframe tbody tr th:only-of-type {\n",
       "        vertical-align: middle;\n",
       "    }\n",
       "\n",
       "    .dataframe tbody tr th {\n",
       "        vertical-align: top;\n",
       "    }\n",
       "\n",
       "    .dataframe thead th {\n",
       "        text-align: right;\n",
       "    }\n",
       "</style>\n",
       "<table border=\"1\" class=\"dataframe\">\n",
       "  <thead>\n",
       "    <tr style=\"text-align: right;\">\n",
       "      <th></th>\n",
       "      <th>high_levels</th>\n",
       "    </tr>\n",
       "  </thead>\n",
       "  <tbody>\n",
       "    <tr>\n",
       "      <th>0</th>\n",
       "      <td>[2, 3, 4, 7, 8, 16, 17, 18]</td>\n",
       "    </tr>\n",
       "    <tr>\n",
       "      <th>1</th>\n",
       "      <td>[0, 1, 2, 3, 6]</td>\n",
       "    </tr>\n",
       "    <tr>\n",
       "      <th>2</th>\n",
       "      <td>[0, 8, 9]</td>\n",
       "    </tr>\n",
       "    <tr>\n",
       "      <th>3</th>\n",
       "      <td>[2, 5, 6, 7, 16, 18]</td>\n",
       "    </tr>\n",
       "    <tr>\n",
       "      <th>4</th>\n",
       "      <td>[0, 3, 6, 7, 9]</td>\n",
       "    </tr>\n",
       "    <tr>\n",
       "      <th>5</th>\n",
       "      <td>[4, 7, 15]</td>\n",
       "    </tr>\n",
       "    <tr>\n",
       "      <th>6</th>\n",
       "      <td>[2, 6, 8, 9, 17]</td>\n",
       "    </tr>\n",
       "    <tr>\n",
       "      <th>7</th>\n",
       "      <td>[2, 6]</td>\n",
       "    </tr>\n",
       "    <tr>\n",
       "      <th>8</th>\n",
       "      <td>[1, 6, 8, 12, 17]</td>\n",
       "    </tr>\n",
       "    <tr>\n",
       "      <th>9</th>\n",
       "      <td>[6, 8, 16]</td>\n",
       "    </tr>\n",
       "    <tr>\n",
       "      <th>10</th>\n",
       "      <td>[2, 4, 6, 7, 9, 11, 12, 17]</td>\n",
       "    </tr>\n",
       "    <tr>\n",
       "      <th>11</th>\n",
       "      <td>[3, 6, 7, 17]</td>\n",
       "    </tr>\n",
       "    <tr>\n",
       "      <th>12</th>\n",
       "      <td>[4, 7, 12, 16, 18]</td>\n",
       "    </tr>\n",
       "    <tr>\n",
       "      <th>13</th>\n",
       "      <td>[0, 2, 4, 6, 7, 9, 11, 12, 17]</td>\n",
       "    </tr>\n",
       "    <tr>\n",
       "      <th>14</th>\n",
       "      <td>[2, 3, 4, 5, 6, 7, 15]</td>\n",
       "    </tr>\n",
       "    <tr>\n",
       "      <th>15</th>\n",
       "      <td>[2, 3, 6, 9]</td>\n",
       "    </tr>\n",
       "    <tr>\n",
       "      <th>16</th>\n",
       "      <td>[2, 3, 6, 7, 8, 16, 17]</td>\n",
       "    </tr>\n",
       "    <tr>\n",
       "      <th>17</th>\n",
       "      <td>[6, 9, 17]</td>\n",
       "    </tr>\n",
       "    <tr>\n",
       "      <th>18</th>\n",
       "      <td>[3, 6, 7, 8, 15]</td>\n",
       "    </tr>\n",
       "    <tr>\n",
       "      <th>19</th>\n",
       "      <td>[8, 15, 17]</td>\n",
       "    </tr>\n",
       "    <tr>\n",
       "      <th>20</th>\n",
       "      <td>[1, 2, 3, 6, 7, 8, 15, 17, 18]</td>\n",
       "    </tr>\n",
       "    <tr>\n",
       "      <th>21</th>\n",
       "      <td>[4, 5, 6, 8, 9, 15, 17]</td>\n",
       "    </tr>\n",
       "    <tr>\n",
       "      <th>22</th>\n",
       "      <td>[2, 3, 6, 7, 16, 17]</td>\n",
       "    </tr>\n",
       "    <tr>\n",
       "      <th>23</th>\n",
       "      <td>[0, 1, 2, 6, 7]</td>\n",
       "    </tr>\n",
       "    <tr>\n",
       "      <th>24</th>\n",
       "      <td>[2, 3, 4, 6, 7, 9, 15, 17]</td>\n",
       "    </tr>\n",
       "    <tr>\n",
       "      <th>25</th>\n",
       "      <td>[2, 3, 6, 8, 9, 12, 15]</td>\n",
       "    </tr>\n",
       "    <tr>\n",
       "      <th>26</th>\n",
       "      <td>[2, 6, 7, 8, 11, 17]</td>\n",
       "    </tr>\n",
       "    <tr>\n",
       "      <th>27</th>\n",
       "      <td>[2, 4, 16, 17, 18]</td>\n",
       "    </tr>\n",
       "    <tr>\n",
       "      <th>28</th>\n",
       "      <td>[4, 6, 7, 15, 16, 17, 18]</td>\n",
       "    </tr>\n",
       "    <tr>\n",
       "      <th>29</th>\n",
       "      <td>[2, 6, 7, 16]</td>\n",
       "    </tr>\n",
       "    <tr>\n",
       "      <th>30</th>\n",
       "      <td>[2, 5, 6, 7, 8, 9, 17, 18]</td>\n",
       "    </tr>\n",
       "    <tr>\n",
       "      <th>31</th>\n",
       "      <td>[2, 3, 6, 7, 9]</td>\n",
       "    </tr>\n",
       "    <tr>\n",
       "      <th>32</th>\n",
       "      <td>[2, 3, 6, 7, 16, 17]</td>\n",
       "    </tr>\n",
       "    <tr>\n",
       "      <th>33</th>\n",
       "      <td>[0, 2, 3, 6, 8, 9]</td>\n",
       "    </tr>\n",
       "    <tr>\n",
       "      <th>34</th>\n",
       "      <td>[2, 4, 6, 7, 8, 15, 16, 17, 18]</td>\n",
       "    </tr>\n",
       "    <tr>\n",
       "      <th>35</th>\n",
       "      <td>[0, 2, 3, 6, 7, 8, 9, 11, 12, 15, 16, 17, 18]</td>\n",
       "    </tr>\n",
       "    <tr>\n",
       "      <th>36</th>\n",
       "      <td>[2, 3, 6, 8]</td>\n",
       "    </tr>\n",
       "    <tr>\n",
       "      <th>37</th>\n",
       "      <td>[0, 3, 5, 6, 7, 8, 12, 16, 17]</td>\n",
       "    </tr>\n",
       "    <tr>\n",
       "      <th>38</th>\n",
       "      <td>[2, 3, 6, 7, 9, 11, 17]</td>\n",
       "    </tr>\n",
       "    <tr>\n",
       "      <th>39</th>\n",
       "      <td>[1, 3, 6, 15, 16, 17, 18]</td>\n",
       "    </tr>\n",
       "    <tr>\n",
       "      <th>40</th>\n",
       "      <td>[0, 1, 2, 6, 7]</td>\n",
       "    </tr>\n",
       "    <tr>\n",
       "      <th>41</th>\n",
       "      <td>[5, 6, 13, 16]</td>\n",
       "    </tr>\n",
       "    <tr>\n",
       "      <th>42</th>\n",
       "      <td>[1, 2, 5, 6, 12, 15, 16, 18]</td>\n",
       "    </tr>\n",
       "    <tr>\n",
       "      <th>43</th>\n",
       "      <td>[0, 4, 6, 8, 12, 18]</td>\n",
       "    </tr>\n",
       "    <tr>\n",
       "      <th>44</th>\n",
       "      <td>[0, 3, 4, 6, 15, 16]</td>\n",
       "    </tr>\n",
       "    <tr>\n",
       "      <th>45</th>\n",
       "      <td>[0, 3, 6, 8, 9, 15]</td>\n",
       "    </tr>\n",
       "    <tr>\n",
       "      <th>46</th>\n",
       "      <td>[2, 3, 4, 6, 8]</td>\n",
       "    </tr>\n",
       "    <tr>\n",
       "      <th>47</th>\n",
       "      <td>[2, 3, 5, 6, 7, 9, 15]</td>\n",
       "    </tr>\n",
       "    <tr>\n",
       "      <th>48</th>\n",
       "      <td>[2, 4, 5, 6, 9, 17]</td>\n",
       "    </tr>\n",
       "    <tr>\n",
       "      <th>49</th>\n",
       "      <td>[2, 3, 6, 7, 12, 15, 17]</td>\n",
       "    </tr>\n",
       "    <tr>\n",
       "      <th>50</th>\n",
       "      <td>[0, 2, 6, 7, 9, 15]</td>\n",
       "    </tr>\n",
       "    <tr>\n",
       "      <th>51</th>\n",
       "      <td>[1, 2, 3, 6, 15]</td>\n",
       "    </tr>\n",
       "    <tr>\n",
       "      <th>52</th>\n",
       "      <td>[2, 6, 7, 9, 17, 18]</td>\n",
       "    </tr>\n",
       "    <tr>\n",
       "      <th>53</th>\n",
       "      <td>[3, 6, 7, 8, 15]</td>\n",
       "    </tr>\n",
       "    <tr>\n",
       "      <th>54</th>\n",
       "      <td>[2, 6]</td>\n",
       "    </tr>\n",
       "    <tr>\n",
       "      <th>55</th>\n",
       "      <td>[2, 3, 6, 9]</td>\n",
       "    </tr>\n",
       "    <tr>\n",
       "      <th>56</th>\n",
       "      <td>[0, 2, 3, 6, 7, 8, 9, 17]</td>\n",
       "    </tr>\n",
       "    <tr>\n",
       "      <th>57</th>\n",
       "      <td>[0, 3, 4, 6, 15]</td>\n",
       "    </tr>\n",
       "    <tr>\n",
       "      <th>58</th>\n",
       "      <td>[3, 6, 7, 9, 12, 17]</td>\n",
       "    </tr>\n",
       "    <tr>\n",
       "      <th>59</th>\n",
       "      <td>[0, 3, 5, 6, 7, 11, 15, 16]</td>\n",
       "    </tr>\n",
       "  </tbody>\n",
       "</table>\n",
       "</div>"
      ],
      "text/plain": [
       "                                      high_levels\n",
       "0                     [2, 3, 4, 7, 8, 16, 17, 18]\n",
       "1                                 [0, 1, 2, 3, 6]\n",
       "2                                       [0, 8, 9]\n",
       "3                            [2, 5, 6, 7, 16, 18]\n",
       "4                                 [0, 3, 6, 7, 9]\n",
       "5                                      [4, 7, 15]\n",
       "6                                [2, 6, 8, 9, 17]\n",
       "7                                          [2, 6]\n",
       "8                               [1, 6, 8, 12, 17]\n",
       "9                                      [6, 8, 16]\n",
       "10                    [2, 4, 6, 7, 9, 11, 12, 17]\n",
       "11                                  [3, 6, 7, 17]\n",
       "12                             [4, 7, 12, 16, 18]\n",
       "13                 [0, 2, 4, 6, 7, 9, 11, 12, 17]\n",
       "14                         [2, 3, 4, 5, 6, 7, 15]\n",
       "15                                   [2, 3, 6, 9]\n",
       "16                        [2, 3, 6, 7, 8, 16, 17]\n",
       "17                                     [6, 9, 17]\n",
       "18                               [3, 6, 7, 8, 15]\n",
       "19                                    [8, 15, 17]\n",
       "20                 [1, 2, 3, 6, 7, 8, 15, 17, 18]\n",
       "21                        [4, 5, 6, 8, 9, 15, 17]\n",
       "22                           [2, 3, 6, 7, 16, 17]\n",
       "23                                [0, 1, 2, 6, 7]\n",
       "24                     [2, 3, 4, 6, 7, 9, 15, 17]\n",
       "25                        [2, 3, 6, 8, 9, 12, 15]\n",
       "26                           [2, 6, 7, 8, 11, 17]\n",
       "27                             [2, 4, 16, 17, 18]\n",
       "28                      [4, 6, 7, 15, 16, 17, 18]\n",
       "29                                  [2, 6, 7, 16]\n",
       "30                     [2, 5, 6, 7, 8, 9, 17, 18]\n",
       "31                                [2, 3, 6, 7, 9]\n",
       "32                           [2, 3, 6, 7, 16, 17]\n",
       "33                             [0, 2, 3, 6, 8, 9]\n",
       "34                [2, 4, 6, 7, 8, 15, 16, 17, 18]\n",
       "35  [0, 2, 3, 6, 7, 8, 9, 11, 12, 15, 16, 17, 18]\n",
       "36                                   [2, 3, 6, 8]\n",
       "37                 [0, 3, 5, 6, 7, 8, 12, 16, 17]\n",
       "38                        [2, 3, 6, 7, 9, 11, 17]\n",
       "39                      [1, 3, 6, 15, 16, 17, 18]\n",
       "40                                [0, 1, 2, 6, 7]\n",
       "41                                 [5, 6, 13, 16]\n",
       "42                   [1, 2, 5, 6, 12, 15, 16, 18]\n",
       "43                           [0, 4, 6, 8, 12, 18]\n",
       "44                           [0, 3, 4, 6, 15, 16]\n",
       "45                            [0, 3, 6, 8, 9, 15]\n",
       "46                                [2, 3, 4, 6, 8]\n",
       "47                         [2, 3, 5, 6, 7, 9, 15]\n",
       "48                            [2, 4, 5, 6, 9, 17]\n",
       "49                       [2, 3, 6, 7, 12, 15, 17]\n",
       "50                            [0, 2, 6, 7, 9, 15]\n",
       "51                               [1, 2, 3, 6, 15]\n",
       "52                           [2, 6, 7, 9, 17, 18]\n",
       "53                               [3, 6, 7, 8, 15]\n",
       "54                                         [2, 6]\n",
       "55                                   [2, 3, 6, 9]\n",
       "56                      [0, 2, 3, 6, 7, 8, 9, 17]\n",
       "57                               [0, 3, 4, 6, 15]\n",
       "58                           [3, 6, 7, 9, 12, 17]\n",
       "59                    [0, 3, 5, 6, 7, 11, 15, 16]"
      ]
     },
     "execution_count": 173,
     "metadata": {},
     "output_type": "execute_result"
    }
   ],
   "source": [
    "pd.read_csv('../data/tiny/train_text.csv', sep='\\n')\n",
    "pd.read_csv('../data/tiny/train_labels.csv', sep='\\n')"
   ]
  },
  {
   "cell_type": "code",
   "execution_count": 181,
   "metadata": {},
   "outputs": [
    {
     "data": {
      "text/plain": [
       "6"
      ]
     },
     "execution_count": 181,
     "metadata": {},
     "output_type": "execute_result"
    }
   ],
   "source": [
    "max(5,3,6)"
   ]
  },
  {
   "cell_type": "markdown",
   "metadata": {},
   "source": [
    "## Word distributions:"
   ]
  },
  {
   "cell_type": "code",
   "execution_count": 163,
   "metadata": {},
   "outputs": [],
   "source": [
    "num_toks = tiny.text_tok_in.apply(lambda x: len(x))"
   ]
  },
  {
   "cell_type": "code",
   "execution_count": 165,
   "metadata": {},
   "outputs": [
    {
     "data": {
      "image/png": "[encoded data removed]",
      "text/plain": [
       "<Figure size 432x288 with 1 Axes>"
      ]
     },
     "metadata": {
      "needs_background": "light"
     },
     "output_type": "display_data"
    }
   ],
   "source": [
    "plt.hist(num_toks)\n",
    "plt.title(\"Dist of num words in each note\")\n",
    "plt.show()"
   ]
  },
  {
   "cell_type": "code",
   "execution_count": 190,
   "metadata": {},
   "outputs": [],
   "source": [
    "def a():\n",
    "    return 1, 2, 3"
   ]
  },
  {
   "cell_type": "code",
   "execution_count": 194,
   "metadata": {},
   "outputs": [],
   "source": [
    "b, c, d = a()\n",
    "b, c, d = a()"
   ]
  },
  {
   "cell_type": "code",
   "execution_count": 213,
   "metadata": {},
   "outputs": [
    {
     "data": {
      "image/png": "[encoded data removed]",
      "text/plain": [
       "<Figure size 432x288 with 1 Axes>"
      ]
     },
     "metadata": {
      "needs_background": "light"
     },
     "output_type": "display_data"
    }
   ],
   "source": [
    "num_toks_full = full.text_tok_in.apply(lambda x: len(x))\n",
    "plt.hist(num_toks_full)\n",
    "plt.title(\"Dist of num words in each note FULL\")\n",
    "plt.show()"
   ]
  },
  {
   "cell_type": "code",
   "execution_count": 215,
   "metadata": {},
   "outputs": [
    {
     "data": {
      "text/plain": [
       "1434.0"
      ]
     },
     "execution_count": 215,
     "metadata": {},
     "output_type": "execute_result"
    }
   ],
   "source": [
    "np.median(num_toks_full)"
   ]
  },
  {
   "cell_type": "code",
   "execution_count": 216,
   "metadata": {},
   "outputs": [
    {
     "data": {
      "text/plain": [
       "1571.9907195939822"
      ]
     },
     "execution_count": 216,
     "metadata": {},
     "output_type": "execute_result"
    }
   ],
   "source": [
    "np.mean(num_toks_full)"
   ]
  },
  {
   "cell_type": "code",
   "execution_count": 225,
   "metadata": {},
   "outputs": [],
   "source": [
    "num_icd9_full = full.ICD9_codes.apply(lambda x: len(x))\n",
    "num_high_levels_full = full.high_levels.apply(lambda x: len(x))"
   ]
  },
  {
   "cell_type": "code",
   "execution_count": 227,
   "metadata": {},
   "outputs": [
    {
     "name": "stdout",
     "output_type": "stream",
     "text": [
      "11.331484502446981\n",
      "5.9874388254486135\n"
     ]
    }
   ],
   "source": [
    "print(np.mean(num_icd9_full))\n",
    "print(np.mean(num_high_levels_full))"
   ]
  },
  {
   "cell_type": "code",
   "execution_count": null,
   "metadata": {},
   "outputs": [],
   "source": []
  },
  {
   "cell_type": "code",
   "execution_count": 228,
   "metadata": {},
   "outputs": [],
   "source": [
    "#num_toks_raw = notes.TEXT.apply(lambda x: len(nltk.word_tokenize(x)))"
   ]
  },
  {
   "cell_type": "code",
   "execution_count": null,
   "metadata": {},
   "outputs": [],
   "source": [
    "\n"
   ]
  },
  {
   "cell_type": "code",
   "execution_count": null,
   "metadata": {},
   "outputs": [],
   "source": []
  },
  {
   "cell_type": "markdown",
   "metadata": {},
   "source": [
    "## Label distribution"
   ]
  },
  {
   "cell_type": "code",
   "execution_count": null,
   "metadata": {},
   "outputs": [],
   "source": []
  }
 ],
 "metadata": {
  "@webio": {
   "lastCommId": null,
   "lastKernelId": null
  },
  "kernelspec": {
   "display_name": "Python 3",
   "language": "python",
   "name": "python3"
  },
  "language_info": {
   "codemirror_mode": {
    "name": "ipython",
    "version": 3
   },
   "file_extension": ".py",
   "mimetype": "text/x-python",
   "name": "python",
   "nbconvert_exporter": "python",
   "pygments_lexer": "ipython3",
   "version": "3.7.4"
  }
 },
 "nbformat": 4,
 "nbformat_minor": 2
}
