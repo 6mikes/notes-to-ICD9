{
 "cells": [
  {
   "cell_type": "markdown",
   "metadata": {},
   "source": [
    "# Label distribution\n"
   ]
  },
  {
   "cell_type": "code",
   "execution_count": 46,
   "metadata": {},
   "outputs": [],
   "source": [
    "import pandas as pd\n",
    "import numpy as np\n",
    "import matplotlib.pyplot as plt\n",
    "import torch\n",
    "\n",
    "from sklearn.metrics import f1_score, precision_score, accuracy_score, recall_score, classification_report "
   ]
  },
  {
   "cell_type": "code",
   "execution_count": 47,
   "metadata": {},
   "outputs": [],
   "source": [
    "raw_train = pd.read_csv(\"../data/full/train_labels.csv\", sep='\\n',header=0)\n",
    "raw_dev = pd.read_csv(\"../data/full/dev_labels.csv\", sep='\\n',header=0)\n",
    "raw_test = pd.read_csv(\"../data/full/test_labels.csv\", sep='\\n',header=0)\n",
    "raw = raw_train.append(raw_dev, ignore_index=True)\n",
    "raw = raw.append(raw_test, ignore_index=True)"
   ]
  },
  {
   "cell_type": "code",
   "execution_count": 48,
   "metadata": {},
   "outputs": [
    {
     "data": {
      "text/html": [
       "<div>\n",
       "<style scoped>\n",
       "    .dataframe tbody tr th:only-of-type {\n",
       "        vertical-align: middle;\n",
       "    }\n",
       "\n",
       "    .dataframe tbody tr th {\n",
       "        vertical-align: top;\n",
       "    }\n",
       "\n",
       "    .dataframe thead th {\n",
       "        text-align: right;\n",
       "    }\n",
       "</style>\n",
       "<table border=\"1\" class=\"dataframe\">\n",
       "  <thead>\n",
       "    <tr style=\"text-align: right;\">\n",
       "      <th></th>\n",
       "      <th>high_levels</th>\n",
       "    </tr>\n",
       "  </thead>\n",
       "  <tbody>\n",
       "    <tr>\n",
       "      <th>0</th>\n",
       "      <td>[2, 5, 6, 17]</td>\n",
       "    </tr>\n",
       "    <tr>\n",
       "      <th>1</th>\n",
       "      <td>[3, 5, 6, 9, 12]</td>\n",
       "    </tr>\n",
       "    <tr>\n",
       "      <th>2</th>\n",
       "      <td>[7]</td>\n",
       "    </tr>\n",
       "    <tr>\n",
       "      <th>3</th>\n",
       "      <td>[6, 7, 16, 17]</td>\n",
       "    </tr>\n",
       "    <tr>\n",
       "      <th>4</th>\n",
       "      <td>[1, 6, 7, 17]</td>\n",
       "    </tr>\n",
       "  </tbody>\n",
       "</table>\n",
       "</div>"
      ],
      "text/plain": [
       "        high_levels\n",
       "0     [2, 5, 6, 17]\n",
       "1  [3, 5, 6, 9, 12]\n",
       "2               [7]\n",
       "3    [6, 7, 16, 17]\n",
       "4     [1, 6, 7, 17]"
      ]
     },
     "execution_count": 48,
     "metadata": {},
     "output_type": "execute_result"
    }
   ],
   "source": [
    "raw_train.head()"
   ]
  },
  {
   "cell_type": "code",
   "execution_count": 49,
   "metadata": {},
   "outputs": [
    {
     "data": {
      "text/plain": [
       "(55170, 1)"
      ]
     },
     "execution_count": 49,
     "metadata": {},
     "output_type": "execute_result"
    }
   ],
   "source": [
    "raw.shape"
   ]
  },
  {
   "cell_type": "code",
   "execution_count": 50,
   "metadata": {},
   "outputs": [
    {
     "data": {
      "text/plain": [
       "'[2, 5, 6, 17]'"
      ]
     },
     "execution_count": 50,
     "metadata": {},
     "output_type": "execute_result"
    }
   ],
   "source": [
    "raw.loc[0].values[0]"
   ]
  },
  {
   "cell_type": "code",
   "execution_count": 51,
   "metadata": {},
   "outputs": [],
   "source": [
    "high_level_count = np.zeros(19)"
   ]
  },
  {
   "cell_type": "code",
   "execution_count": 52,
   "metadata": {},
   "outputs": [
    {
     "name": "stdout",
     "output_type": "stream",
     "text": [
      "['[2, 5, 6, 17]']\n"
     ]
    },
    {
     "data": {
      "text/plain": [
       "[2, 5, 6, 17]"
      ]
     },
     "execution_count": 52,
     "metadata": {},
     "output_type": "execute_result"
    }
   ],
   "source": [
    "import ast\n",
    "row = raw.loc[0].values\n",
    "print(row)\n",
    "ast.literal_eval(row[0])"
   ]
  },
  {
   "cell_type": "code",
   "execution_count": 53,
   "metadata": {},
   "outputs": [],
   "source": [
    "raw2 = raw['high_levels'].apply(lambda x: ast.literal_eval(x))"
   ]
  },
  {
   "cell_type": "code",
   "execution_count": 54,
   "metadata": {},
   "outputs": [
    {
     "data": {
      "text/plain": [
       "0                           [2, 5, 6, 17]\n",
       "1                        [3, 5, 6, 9, 12]\n",
       "2                                     [7]\n",
       "3                          [6, 7, 16, 17]\n",
       "4                           [1, 6, 7, 17]\n",
       "                       ...               \n",
       "55165    [0, 2, 4, 5, 11, 12, 15, 16, 18]\n",
       "55166                [2, 6, 7, 8, 15, 17]\n",
       "55167                     [1, 2, 3, 6, 8]\n",
       "55168                        [0, 4, 6, 7]\n",
       "55169                 [2, 5, 6, 7, 9, 17]\n",
       "Name: high_levels, Length: 55170, dtype: object"
      ]
     },
     "execution_count": 54,
     "metadata": {},
     "output_type": "execute_result"
    }
   ],
   "source": [
    "raw2"
   ]
  },
  {
   "cell_type": "code",
   "execution_count": 55,
   "metadata": {},
   "outputs": [],
   "source": [
    "for row in raw2:\n",
    "    high_level_count[row] += 1"
   ]
  },
  {
   "cell_type": "code",
   "execution_count": 56,
   "metadata": {},
   "outputs": [
    {
     "data": {
      "image/png": "[encoded data removed]",
      "text/plain": [
       "<Figure size 864x360 with 1 Axes>"
      ]
     },
     "metadata": {
      "needs_background": "light"
     },
     "output_type": "display_data"
    }
   ],
   "source": [
    "high_level_count\n",
    "plt.subplots(figsize=(12,5))\n",
    "plt.bar(range(len(high_level_count)), high_level_count/np.max(high_level_count))\n",
    "plt.axhline(0.5, color='grey', ls='--')\n",
    "plt.xticks(range(len(high_level_count)))\n",
    "plt.show()"
   ]
  },
  {
   "cell_type": "markdown",
   "metadata": {},
   "source": [
    "## What are 2, 6, 17? \n",
    "## What is 10, 13, 14? "
   ]
  },
  {
   "cell_type": "code",
   "execution_count": null,
   "metadata": {},
   "outputs": [],
   "source": [
    "# 0  • 001-139 Infectious And Parasitic Diseases\n",
    "# 1  • 140-239 Neoplasms\n",
    "# 2  • 240-279 Endocrine, Nutritional And Metabolic Diseases, And Immunity Disorders **\n",
    "# 3  • 280-289 Diseases Of The Blood And Blood-Forming Organs\n",
    "# 4  • 290-319 Mental Disorders\n",
    "# 5  • 320-389 Diseases Of The Nervous System And Sense Organs\n",
    "# 6  • 390-459 Diseases Of The Circulatory System **\n",
    "# 7  • 460-519 Diseases Of The Respiratory System\n",
    "# 8  • 520-579 Diseases Of The Digestive System\n",
    "# 9  • 580-629 Diseases Of The Genitourinary System\n",
    "# 10 • 630-679 Complications Of Pregnancy, Childbirth, And The Puerperium *****\n",
    "# 11 • 680-709 Diseases Of The Skin And Subcutaneous Tissue\n",
    "# 12 • 710-739 Diseases Of The Musculoskeletal System And Connective Tissue\n",
    "# 13 • 740-759 Congenital Anomalies *****\n",
    "# 14 • 760-779 Certain Conditions Originating In The Perinatal Period *****\n",
    "# 15 • 780-799 Symptoms, Signs, And Ill-Defined Conditions\n",
    "# 16 • 800-999 Injury And Poisoning\n",
    "# 17 • V01-V91 Supplementary Classification Of Factors Influencing Health Status And Contact\n",
    "# With Health Services **\n",
    "# 18 • E000-E999 Supplementary Classification Of External Causes Of Injury And Poisoning"
   ]
  },
  {
   "cell_type": "code",
   "execution_count": null,
   "metadata": {},
   "outputs": [],
   "source": []
  },
  {
   "cell_type": "code",
   "execution_count": null,
   "metadata": {},
   "outputs": [],
   "source": []
  },
  {
   "cell_type": "code",
   "execution_count": null,
   "metadata": {},
   "outputs": [],
   "source": []
  },
  {
   "cell_type": "code",
   "execution_count": 93,
   "metadata": {},
   "outputs": [
    {
     "name": "stderr",
     "output_type": "stream",
     "text": [
      "/Users/austinmurphy/opt/anaconda3/envs/attentionxml/lib/python3.7/site-packages/ipykernel_launcher.py:1: ParserWarning: Falling back to the 'python' engine because the 'c' engine does not support regex separators (separators > 1 char and different from '\\s+' are interpreted as regex); you can avoid this warning by specifying engine='python'.\n",
      "  \"\"\"Entry point for launching an IPython kernel.\n"
     ]
    }
   ],
   "source": [
    "clean_data = pd.read_csv(\"../data/small/small_data.csv\", header=0, sep='\\n\\n')"
   ]
  },
  {
   "cell_type": "code",
   "execution_count": 94,
   "metadata": {
    "scrolled": true
   },
   "outputs": [
    {
     "data": {
      "text/html": [
       "<div>\n",
       "<style scoped>\n",
       "    .dataframe tbody tr th:only-of-type {\n",
       "        vertical-align: middle;\n",
       "    }\n",
       "\n",
       "    .dataframe tbody tr th {\n",
       "        vertical-align: top;\n",
       "    }\n",
       "\n",
       "    .dataframe thead th {\n",
       "        text-align: right;\n",
       "    }\n",
       "</style>\n",
       "<table border=\"1\" class=\"dataframe\">\n",
       "  <thead>\n",
       "    <tr style=\"text-align: right;\">\n",
       "      <th></th>\n",
       "      <th>ROW_ID</th>\n",
       "    </tr>\n",
       "  </thead>\n",
       "  <tbody>\n",
       "    <tr>\n",
       "      <th>0</th>\n",
       "      <td>SUBJECT_ID</td>\n",
       "    </tr>\n",
       "    <tr>\n",
       "      <th>1</th>\n",
       "      <td>HADM_ID</td>\n",
       "    </tr>\n",
       "    <tr>\n",
       "      <th>2</th>\n",
       "      <td>TEXT</td>\n",
       "    </tr>\n",
       "    <tr>\n",
       "      <th>3</th>\n",
       "      <td>ICD9_codes</td>\n",
       "    </tr>\n",
       "    <tr>\n",
       "      <th>4</th>\n",
       "      <td>high_levels</td>\n",
       "    </tr>\n",
       "  </tbody>\n",
       "</table>\n",
       "</div>"
      ],
      "text/plain": [
       "        ROW_ID\n",
       "0   SUBJECT_ID\n",
       "1      HADM_ID\n",
       "2         TEXT\n",
       "3   ICD9_codes\n",
       "4  high_levels"
      ]
     },
     "execution_count": 94,
     "metadata": {},
     "output_type": "execute_result"
    }
   ],
   "source": [
    "clean_data.head()"
   ]
  },
  {
   "cell_type": "code",
   "execution_count": 148,
   "metadata": {},
   "outputs": [],
   "source": [
    "# import csv\n",
    "\n",
    "# i = 0\n",
    "# for x in open(\"../data/small/small_data.csv\"):\n",
    "#     print(x,i)\n",
    "#     if x == \"ROW_ID\\n\":\n",
    "#         continue\n",
    "#     else:\n",
    "#         i += 1\n",
    "#     if i > 10:\n",
    "#         break\n",
    "#     if i % 9 == 0:\n",
    "#         print(\"SUBJECT_ID\", x)\n",
    "#     if i % 9 == 1:\n",
    "#         print(\"HADM_ID\", x)\n",
    "    \n",
    "# #     reader=csv.csvReader(file)\n",
    "# #     data=list(reader)"
   ]
  },
  {
   "cell_type": "code",
   "execution_count": 119,
   "metadata": {},
   "outputs": [],
   "source": [
    "diag_ = pd.read_csv(\"../data/diag_.csv\", sep='\\t')"
   ]
  },
  {
   "cell_type": "code",
   "execution_count": 120,
   "metadata": {},
   "outputs": [],
   "source": [
    "diag_['high_levels'] = diag_['high_levels'].apply(lambda x: ast.literal_eval(x))"
   ]
  },
  {
   "cell_type": "code",
   "execution_count": 121,
   "metadata": {},
   "outputs": [],
   "source": [
    "diag_['ICD9_codes'] = diag_['ICD9_codes'].apply(lambda x: ast.literal_eval(x))"
   ]
  },
  {
   "cell_type": "code",
   "execution_count": 122,
   "metadata": {
    "scrolled": true
   },
   "outputs": [
    {
     "data": {
      "text/html": [
       "<div>\n",
       "<style scoped>\n",
       "    .dataframe tbody tr th:only-of-type {\n",
       "        vertical-align: middle;\n",
       "    }\n",
       "\n",
       "    .dataframe tbody tr th {\n",
       "        vertical-align: top;\n",
       "    }\n",
       "\n",
       "    .dataframe thead th {\n",
       "        text-align: right;\n",
       "    }\n",
       "</style>\n",
       "<table border=\"1\" class=\"dataframe\">\n",
       "  <thead>\n",
       "    <tr style=\"text-align: right;\">\n",
       "      <th></th>\n",
       "      <th>HADM_ID</th>\n",
       "      <th>SUBJECT_ID</th>\n",
       "      <th>ICD9_codes</th>\n",
       "      <th>high_levels</th>\n",
       "    </tr>\n",
       "  </thead>\n",
       "  <tbody>\n",
       "    <tr>\n",
       "      <th>0</th>\n",
       "      <td>100001</td>\n",
       "      <td>58526</td>\n",
       "      <td>[5849, 40390, 5853, V5867, 5780, 25063, 25043,...</td>\n",
       "      <td>[2, 5, 6, 8, 9, 11, 17]</td>\n",
       "    </tr>\n",
       "    <tr>\n",
       "      <th>1</th>\n",
       "      <td>100003</td>\n",
       "      <td>54610</td>\n",
       "      <td>[53100, 4019, 5715, 07054, 2851, 45621, 53789,...</td>\n",
       "      <td>[0, 3, 6, 8, 15]</td>\n",
       "    </tr>\n",
       "    <tr>\n",
       "      <th>2</th>\n",
       "      <td>100006</td>\n",
       "      <td>9895</td>\n",
       "      <td>[486, 2761, V1582, 51881, 20300, V1251, 49320,...</td>\n",
       "      <td>[1, 2, 4, 7, 15, 17]</td>\n",
       "    </tr>\n",
       "    <tr>\n",
       "      <th>3</th>\n",
       "      <td>100007</td>\n",
       "      <td>23018</td>\n",
       "      <td>[486, 4019, 5570, 56081]</td>\n",
       "      <td>[6, 7, 8]</td>\n",
       "    </tr>\n",
       "    <tr>\n",
       "      <th>4</th>\n",
       "      <td>100009</td>\n",
       "      <td>533</td>\n",
       "      <td>[2859, 41401, 4111, 2720, 4019, 25000, 44021, ...</td>\n",
       "      <td>[2, 3, 6, 16, 17]</td>\n",
       "    </tr>\n",
       "  </tbody>\n",
       "</table>\n",
       "</div>"
      ],
      "text/plain": [
       "   HADM_ID  SUBJECT_ID                                         ICD9_codes  \\\n",
       "0   100001       58526  [5849, 40390, 5853, V5867, 5780, 25063, 25043,...   \n",
       "1   100003       54610  [53100, 4019, 5715, 07054, 2851, 45621, 53789,...   \n",
       "2   100006        9895  [486, 2761, V1582, 51881, 20300, V1251, 49320,...   \n",
       "3   100007       23018                           [486, 4019, 5570, 56081]   \n",
       "4   100009         533  [2859, 41401, 4111, 2720, 4019, 25000, 44021, ...   \n",
       "\n",
       "               high_levels  \n",
       "0  [2, 5, 6, 8, 9, 11, 17]  \n",
       "1         [0, 3, 6, 8, 15]  \n",
       "2     [1, 2, 4, 7, 15, 17]  \n",
       "3                [6, 7, 8]  \n",
       "4        [2, 3, 6, 16, 17]  "
      ]
     },
     "execution_count": 122,
     "metadata": {},
     "output_type": "execute_result"
    }
   ],
   "source": [
    "diag_.head()"
   ]
  },
  {
   "cell_type": "code",
   "execution_count": 126,
   "metadata": {},
   "outputs": [],
   "source": [
    "all_codes = [item for sublist in diag_['ICD9_codes'] for item in sublist]\n",
    "all_uniq_codes = np.unique(all_codes)"
   ]
  },
  {
   "cell_type": "code",
   "execution_count": 128,
   "metadata": {},
   "outputs": [
    {
     "name": "stdout",
     "output_type": "stream",
     "text": [
      "634709\n",
      "6841\n"
     ]
    }
   ],
   "source": [
    "print(len(all_codes))\n",
    "print(len(all_uniq_codes))"
   ]
  },
  {
   "cell_type": "code",
   "execution_count": 131,
   "metadata": {},
   "outputs": [
    {
     "data": {
      "text/html": [
       "<div>\n",
       "<style scoped>\n",
       "    .dataframe tbody tr th:only-of-type {\n",
       "        vertical-align: middle;\n",
       "    }\n",
       "\n",
       "    .dataframe tbody tr th {\n",
       "        vertical-align: top;\n",
       "    }\n",
       "\n",
       "    .dataframe thead th {\n",
       "        text-align: right;\n",
       "    }\n",
       "</style>\n",
       "<table border=\"1\" class=\"dataframe\">\n",
       "  <thead>\n",
       "    <tr style=\"text-align: right;\">\n",
       "      <th></th>\n",
       "      <th>ROW_ID</th>\n",
       "      <th>SUBJECT_ID</th>\n",
       "      <th>HADM_ID</th>\n",
       "      <th>SEQ_NUM</th>\n",
       "      <th>ICD9_CODE</th>\n",
       "      <th>high_level</th>\n",
       "    </tr>\n",
       "  </thead>\n",
       "  <tbody>\n",
       "    <tr>\n",
       "      <th>0</th>\n",
       "      <td>1297</td>\n",
       "      <td>109</td>\n",
       "      <td>172335</td>\n",
       "      <td>1.0</td>\n",
       "      <td>40301</td>\n",
       "      <td>6</td>\n",
       "    </tr>\n",
       "    <tr>\n",
       "      <th>1</th>\n",
       "      <td>1311</td>\n",
       "      <td>109</td>\n",
       "      <td>173633</td>\n",
       "      <td>1.0</td>\n",
       "      <td>40301</td>\n",
       "      <td>6</td>\n",
       "    </tr>\n",
       "    <tr>\n",
       "      <th>2</th>\n",
       "      <td>1019</td>\n",
       "      <td>109</td>\n",
       "      <td>131345</td>\n",
       "      <td>1.0</td>\n",
       "      <td>40301</td>\n",
       "      <td>6</td>\n",
       "    </tr>\n",
       "    <tr>\n",
       "      <th>3</th>\n",
       "      <td>1039</td>\n",
       "      <td>109</td>\n",
       "      <td>131376</td>\n",
       "      <td>1.0</td>\n",
       "      <td>40301</td>\n",
       "      <td>6</td>\n",
       "    </tr>\n",
       "    <tr>\n",
       "      <th>4</th>\n",
       "      <td>1059</td>\n",
       "      <td>109</td>\n",
       "      <td>135923</td>\n",
       "      <td>1.0</td>\n",
       "      <td>40301</td>\n",
       "      <td>6</td>\n",
       "    </tr>\n",
       "  </tbody>\n",
       "</table>\n",
       "</div>"
      ],
      "text/plain": [
       "   ROW_ID  SUBJECT_ID  HADM_ID  SEQ_NUM ICD9_CODE  high_level\n",
       "0    1297         109   172335      1.0     40301           6\n",
       "1    1311         109   173633      1.0     40301           6\n",
       "2    1019         109   131345      1.0     40301           6\n",
       "3    1039         109   131376      1.0     40301           6\n",
       "4    1059         109   135923      1.0     40301           6"
      ]
     },
     "execution_count": 131,
     "metadata": {},
     "output_type": "execute_result"
    }
   ],
   "source": [
    "diag = pd.read_csv(\"../data/diag.csv\", sep='\\t')\n",
    "diag.head()"
   ]
  },
  {
   "cell_type": "code",
   "execution_count": 132,
   "metadata": {},
   "outputs": [],
   "source": [
    "code_and_high = diag[['ICD9_CODE','high_level']]"
   ]
  },
  {
   "cell_type": "code",
   "execution_count": 133,
   "metadata": {},
   "outputs": [
    {
     "data": {
      "text/html": [
       "<div>\n",
       "<style scoped>\n",
       "    .dataframe tbody tr th:only-of-type {\n",
       "        vertical-align: middle;\n",
       "    }\n",
       "\n",
       "    .dataframe tbody tr th {\n",
       "        vertical-align: top;\n",
       "    }\n",
       "\n",
       "    .dataframe thead th {\n",
       "        text-align: right;\n",
       "    }\n",
       "</style>\n",
       "<table border=\"1\" class=\"dataframe\">\n",
       "  <thead>\n",
       "    <tr style=\"text-align: right;\">\n",
       "      <th></th>\n",
       "      <th>ICD9_CODE</th>\n",
       "      <th>high_level</th>\n",
       "    </tr>\n",
       "  </thead>\n",
       "  <tbody>\n",
       "    <tr>\n",
       "      <th>0</th>\n",
       "      <td>40301</td>\n",
       "      <td>6</td>\n",
       "    </tr>\n",
       "    <tr>\n",
       "      <th>1</th>\n",
       "      <td>40301</td>\n",
       "      <td>6</td>\n",
       "    </tr>\n",
       "    <tr>\n",
       "      <th>2</th>\n",
       "      <td>40301</td>\n",
       "      <td>6</td>\n",
       "    </tr>\n",
       "    <tr>\n",
       "      <th>3</th>\n",
       "      <td>40301</td>\n",
       "      <td>6</td>\n",
       "    </tr>\n",
       "    <tr>\n",
       "      <th>4</th>\n",
       "      <td>40301</td>\n",
       "      <td>6</td>\n",
       "    </tr>\n",
       "  </tbody>\n",
       "</table>\n",
       "</div>"
      ],
      "text/plain": [
       "  ICD9_CODE  high_level\n",
       "0     40301           6\n",
       "1     40301           6\n",
       "2     40301           6\n",
       "3     40301           6\n",
       "4     40301           6"
      ]
     },
     "execution_count": 133,
     "metadata": {},
     "output_type": "execute_result"
    }
   ],
   "source": [
    "code_and_high.head()"
   ]
  },
  {
   "cell_type": "code",
   "execution_count": 135,
   "metadata": {},
   "outputs": [
    {
     "data": {
      "text/html": [
       "<div>\n",
       "<style scoped>\n",
       "    .dataframe tbody tr th:only-of-type {\n",
       "        vertical-align: middle;\n",
       "    }\n",
       "\n",
       "    .dataframe tbody tr th {\n",
       "        vertical-align: top;\n",
       "    }\n",
       "\n",
       "    .dataframe thead th {\n",
       "        text-align: right;\n",
       "    }\n",
       "</style>\n",
       "<table border=\"1\" class=\"dataframe\">\n",
       "  <thead>\n",
       "    <tr style=\"text-align: right;\">\n",
       "      <th></th>\n",
       "      <th>ICD9_CODE</th>\n",
       "      <th>high_level</th>\n",
       "    </tr>\n",
       "  </thead>\n",
       "  <tbody>\n",
       "    <tr>\n",
       "      <th>0</th>\n",
       "      <td>40301</td>\n",
       "      <td>6</td>\n",
       "    </tr>\n",
       "    <tr>\n",
       "      <th>172</th>\n",
       "      <td>486</td>\n",
       "      <td>7</td>\n",
       "    </tr>\n",
       "    <tr>\n",
       "      <th>5011</th>\n",
       "      <td>58281</td>\n",
       "      <td>9</td>\n",
       "    </tr>\n",
       "    <tr>\n",
       "      <th>5078</th>\n",
       "      <td>5855</td>\n",
       "      <td>9</td>\n",
       "    </tr>\n",
       "    <tr>\n",
       "      <th>5172</th>\n",
       "      <td>4254</td>\n",
       "      <td>6</td>\n",
       "    </tr>\n",
       "  </tbody>\n",
       "</table>\n",
       "</div>"
      ],
      "text/plain": [
       "     ICD9_CODE  high_level\n",
       "0        40301           6\n",
       "172        486           7\n",
       "5011     58281           9\n",
       "5078      5855           9\n",
       "5172      4254           6"
      ]
     },
     "execution_count": 135,
     "metadata": {},
     "output_type": "execute_result"
    }
   ],
   "source": [
    "code_and_high = code_and_high.drop_duplicates()\n",
    "code_and_high.head()"
   ]
  },
  {
   "cell_type": "code",
   "execution_count": 144,
   "metadata": {},
   "outputs": [
    {
     "data": {
      "text/plain": [
       "high_level\n",
       "0      298\n",
       "1      476\n",
       "2      239\n",
       "3       99\n",
       "4      250\n",
       "5      532\n",
       "6      416\n",
       "7      190\n",
       "8      368\n",
       "9      239\n",
       "10     201\n",
       "11     138\n",
       "12     372\n",
       "13     259\n",
       "14     193\n",
       "15     254\n",
       "16    1347\n",
       "17     470\n",
       "18     500\n",
       "Name: ICD9_CODE, dtype: int64"
      ]
     },
     "execution_count": 144,
     "metadata": {},
     "output_type": "execute_result"
    }
   ],
   "source": [
    "code_and_high_ = code_and_high.groupby('high_level').count()['ICD9_CODE']\n",
    "code_and_high_"
   ]
  },
  {
   "cell_type": "code",
   "execution_count": 147,
   "metadata": {},
   "outputs": [
    {
     "data": {
      "text/plain": [
       "315.7894736842105"
      ]
     },
     "execution_count": 147,
     "metadata": {},
     "output_type": "execute_result"
    }
   ],
   "source": [
    "6000/19"
   ]
  },
  {
   "cell_type": "code",
   "execution_count": 146,
   "metadata": {},
   "outputs": [
    {
     "data": {
      "image/png": "[encoded data removed]",
      "text/plain": [
       "<Figure size 864x360 with 1 Axes>"
      ]
     },
     "metadata": {
      "needs_background": "light"
     },
     "output_type": "display_data"
    }
   ],
   "source": [
    "code_and_high_\n",
    "plt.subplots(figsize=(12,5))\n",
    "plt.bar(range(len(code_and_high_)), code_and_high_)\n",
    "plt.axhline(0.5, color='grey', ls='--')\n",
    "plt.xticks(range(len(code_and_high_)))\n",
    "plt.show()"
   ]
  },
  {
   "cell_type": "code",
   "execution_count": null,
   "metadata": {},
   "outputs": [],
   "source": []
  },
  {
   "cell_type": "code",
   "execution_count": null,
   "metadata": {},
   "outputs": [],
   "source": [
    "# 1 for 0-19 codes\n",
    "# then 19 different models - 1 for each label. "
   ]
  },
  {
   "cell_type": "code",
   "execution_count": null,
   "metadata": {},
   "outputs": [],
   "source": []
  },
  {
   "cell_type": "markdown",
   "metadata": {},
   "source": [
    "## Test 3 baselines:\n",
    "\n",
    "- all 1s\n",
    "- 1s for any labels appearing over 50%, 0 o.w.\n",
    "- Bernoulli == 1 with p as the proportion of documents the labels appears in\n",
    "\n",
    "use small dataset size"
   ]
  },
  {
   "cell_type": "code",
   "execution_count": 15,
   "metadata": {},
   "outputs": [],
   "source": [
    "from docopt import docopt\n",
    "from nltk.translate.bleu_score import corpus_bleu, sentence_bleu, SmoothingFunction\n",
    "# from nmt_model import Hypothesis, NMT\n",
    "import numpy as np\n",
    "from typing import List, Tuple, Dict, Set, Union\n",
    "from tqdm import tqdm\n",
    "# from utils import read_corpus, batch_iter, ind_to_one_hot\n",
    "# from vocab import Vocab, VocabEntry\n",
    "\n",
    "import torch\n",
    "import torch.nn.utils\n",
    "\n",
    "from sklearn.metrics import f1_score, precision_score, accuracy_score, recall_score, classification_report \n",
    "from statistics import harmonic_mean \n",
    "\n",
    "import csv\n",
    "import ast"
   ]
  },
  {
   "cell_type": "code",
   "execution_count": 17,
   "metadata": {},
   "outputs": [
    {
     "name": "stdout",
     "output_type": "stream",
     "text": [
      "Processed 1101 lines.\n"
     ]
    }
   ],
   "source": [
    "file_path = '../data/small/dev_labels.csv'\n",
    "data = []\n",
    "all_labels = set()\n",
    "\n",
    "with open(file_path) as csv_file:\n",
    "    csv_reader = csv.reader(csv_file, delimiter='\\n')\n",
    "    line_count = 0\n",
    "    for row in csv_reader:\n",
    "        if line_count == 0:\n",
    "#                 print(f'Column names are {\", \".join(row[0])}')\n",
    "            line_count += 1\n",
    "        else:\n",
    "#             if column == 'text':\n",
    "#                 sent = nltk.word_tokenize(row[0])\n",
    "#                 if remove_stopwords:\n",
    "#                     sent = [i for i in sent if i not in stop_words]\n",
    "#                     sent = [i for i in sent if i not in dumb_words]\n",
    "#                 # cut off sentence lengths:\n",
    "#                 if sent_max_length > 0:\n",
    "#                     data.append(sent[:int(sent_max_length)])\n",
    "#                 else:\n",
    "#                     data.append(sent)\n",
    "#             else:\n",
    "            this_row_labs = ast.literal_eval(row[0])\n",
    "            data.append(this_row_labs)\n",
    "            line_count += 1\n",
    "    print(f'Processed {line_count} lines.')"
   ]
  },
  {
   "cell_type": "code",
   "execution_count": 19,
   "metadata": {},
   "outputs": [],
   "source": [
    "def ind_to_one_hot(labels_list, num_labels):\n",
    "    \"\"\"\n",
    "    @param labels_list(List[List[int]]): \n",
    "    @param num_labels: Total number of labels\n",
    "    \"\"\"\n",
    "    labels_torch = torch.zeros(len(labels_list), num_labels)\n",
    "    for i in range(len(labels_list)):\n",
    "        labels_torch[i,labels_list[i]] = 1\n",
    "    return labels_torch"
   ]
  },
  {
   "cell_type": "code",
   "execution_count": null,
   "metadata": {},
   "outputs": [],
   "source": [
    "label_freqs = high_level_count/np.max(high_level_count)"
   ]
  },
  {
   "cell_type": "code",
   "execution_count": 21,
   "metadata": {},
   "outputs": [],
   "source": [
    "dev_labels = ind_to_one_hot(data, num_labels=19)"
   ]
  },
  {
   "cell_type": "code",
   "execution_count": 68,
   "metadata": {},
   "outputs": [],
   "source": [
    "base1 = torch.ones((1100,19)) # all 1s\n",
    "base2 = torch.zeros((1100,19)) # 2, 6, 7, 17 = 1\n",
    "base2[:,[2,6,7,17]] = 1\n",
    "base3 = np.zeros((1100,19))\n",
    "for col in range(19):\n",
    "    base3[:,col] = np.random.binomial(n=1,p=label_freqs[col],size=1100)\n",
    "base3 = torch.from_numpy(base3)"
   ]
  },
  {
   "cell_type": "code",
   "execution_count": 70,
   "metadata": {},
   "outputs": [
    {
     "name": "stdout",
     "output_type": "stream",
     "text": [
      "tensor([[1., 1., 1.,  ..., 1., 1., 1.],\n",
      "        [1., 1., 1.,  ..., 1., 1., 1.],\n",
      "        [1., 1., 1.,  ..., 1., 1., 1.],\n",
      "        ...,\n",
      "        [1., 1., 1.,  ..., 1., 1., 1.],\n",
      "        [1., 1., 1.,  ..., 1., 1., 1.],\n",
      "        [1., 1., 1.,  ..., 1., 1., 1.]])\n",
      "\n",
      "tensor([[0., 0., 1.,  ..., 0., 1., 0.],\n",
      "        [0., 0., 1.,  ..., 0., 1., 0.],\n",
      "        [0., 0., 1.,  ..., 0., 1., 0.],\n",
      "        ...,\n",
      "        [0., 0., 1.,  ..., 0., 1., 0.],\n",
      "        [0., 0., 1.,  ..., 0., 1., 0.],\n",
      "        [0., 0., 1.,  ..., 0., 1., 0.]])\n",
      "\n",
      "tensor([[0., 0., 0.,  ..., 0., 1., 0.],\n",
      "        [1., 1., 1.,  ..., 0., 1., 0.],\n",
      "        [0., 0., 1.,  ..., 0., 1., 1.],\n",
      "        ...,\n",
      "        [0., 0., 0.,  ..., 0., 1., 0.],\n",
      "        [0., 0., 1.,  ..., 0., 1., 0.],\n",
      "        [0., 0., 1.,  ..., 1., 1., 1.]], dtype=torch.float64)\n"
     ]
    }
   ],
   "source": [
    "print(base1)\n",
    "print()\n",
    "print(base2)\n",
    "print()\n",
    "print(base3)"
   ]
  },
  {
   "cell_type": "code",
   "execution_count": 71,
   "metadata": {},
   "outputs": [],
   "source": [
    "def check_baseline(labels, baseline_labels):\n",
    "    f1 = f1_score(y_true=labels, y_pred=baseline_labels, \n",
    "                     pos_label=1, average='micro')\n",
    "    print(\"calcualted val f1: \", f1)\n",
    "    cr = classification_report(y_true=labels, y_pred=baseline_labels, \n",
    "                               labels=None, target_names=None, \n",
    "                               sample_weight=None, digits=2, \n",
    "                               output_dict=False)\n",
    "    print(\"******** Validation Report *********\\n\",cr)"
   ]
  },
  {
   "cell_type": "code",
   "execution_count": 72,
   "metadata": {},
   "outputs": [
    {
     "name": "stdout",
     "output_type": "stream",
     "text": [
      "calcualted val f1:  0.5062359289568666\n",
      "******** Validation Report *********\n",
      "               precision    recall  f1-score   support\n",
      "\n",
      "           0       0.31      1.00      0.47       336\n",
      "           1       0.16      1.00      0.28       178\n",
      "           2       0.72      1.00      0.84       795\n",
      "           3       0.38      1.00      0.55       422\n",
      "           4       0.28      1.00      0.43       304\n",
      "           5       0.32      1.00      0.49       357\n",
      "           6       0.87      1.00      0.93       958\n",
      "           7       0.51      1.00      0.68       562\n",
      "           8       0.43      1.00      0.60       473\n",
      "           9       0.49      1.00      0.66       536\n",
      "          10       0.00      1.00      0.01         3\n",
      "          11       0.12      1.00      0.21       129\n",
      "          12       0.23      1.00      0.37       249\n",
      "          13       0.04      1.00      0.07        42\n",
      "          14       0.00      0.00      0.00         0\n",
      "          15       0.36      1.00      0.53       394\n",
      "          16       0.41      1.00      0.58       450\n",
      "          17       0.54      1.00      0.70       596\n",
      "          18       0.27      1.00      0.43       299\n",
      "\n",
      "   micro avg       0.34      1.00      0.51      7083\n",
      "   macro avg       0.34      0.95      0.46      7083\n",
      "weighted avg       0.49      1.00      0.63      7083\n",
      " samples avg       0.34      1.00      0.49      7083\n",
      "\n"
     ]
    },
    {
     "name": "stderr",
     "output_type": "stream",
     "text": [
      "/Users/austinmurphy/opt/anaconda3/envs/attentionxml/lib/python3.7/site-packages/sklearn/metrics/classification.py:1439: UndefinedMetricWarning: Recall and F-score are ill-defined and being set to 0.0 in labels with no true samples.\n",
      "  'recall', 'true', average, warn_for)\n"
     ]
    }
   ],
   "source": [
    "check_baseline(labels=dev_labels, baseline_labels=base1)"
   ]
  },
  {
   "cell_type": "code",
   "execution_count": 73,
   "metadata": {},
   "outputs": [
    {
     "name": "stdout",
     "output_type": "stream",
     "text": [
      "calcualted val f1:  0.5070103631455195\n",
      "******** Validation Report *********\n",
      "               precision    recall  f1-score   support\n",
      "\n",
      "           0       0.00      0.00      0.00       336\n",
      "           1       0.00      0.00      0.00       178\n",
      "           2       0.72      1.00      0.84       795\n",
      "           3       0.00      0.00      0.00       422\n",
      "           4       0.00      0.00      0.00       304\n",
      "           5       0.00      0.00      0.00       357\n",
      "           6       0.87      1.00      0.93       958\n",
      "           7       0.51      1.00      0.68       562\n",
      "           8       0.00      0.00      0.00       473\n",
      "           9       0.00      0.00      0.00       536\n",
      "          10       0.00      0.00      0.00         3\n",
      "          11       0.00      0.00      0.00       129\n",
      "          12       0.00      0.00      0.00       249\n",
      "          13       0.00      0.00      0.00        42\n",
      "          14       0.00      0.00      0.00         0\n",
      "          15       0.00      0.00      0.00       394\n",
      "          16       0.00      0.00      0.00       450\n",
      "          17       0.54      1.00      0.70       596\n",
      "          18       0.00      0.00      0.00       299\n",
      "\n",
      "   micro avg       0.66      0.41      0.51      7083\n",
      "   macro avg       0.14      0.21      0.17      7083\n",
      "weighted avg       0.29      0.41      0.33      7083\n",
      " samples avg       0.66      0.45      0.51      7083\n",
      "\n"
     ]
    },
    {
     "name": "stderr",
     "output_type": "stream",
     "text": [
      "/Users/austinmurphy/opt/anaconda3/envs/attentionxml/lib/python3.7/site-packages/sklearn/metrics/classification.py:1437: UndefinedMetricWarning: Precision and F-score are ill-defined and being set to 0.0 in labels with no predicted samples.\n",
      "  'precision', 'predicted', average, warn_for)\n"
     ]
    }
   ],
   "source": [
    "check_baseline(labels=dev_labels, baseline_labels=base2)"
   ]
  },
  {
   "cell_type": "code",
   "execution_count": 74,
   "metadata": {},
   "outputs": [
    {
     "name": "stdout",
     "output_type": "stream",
     "text": [
      "calcualted val f1:  0.5219790797664121\n",
      "******** Validation Report *********\n",
      "               precision    recall  f1-score   support\n",
      "\n",
      "           0       0.29      0.32      0.30       336\n",
      "           1       0.16      0.18      0.17       178\n",
      "           2       0.72      0.79      0.76       795\n",
      "           3       0.39      0.46      0.42       422\n",
      "           4       0.27      0.37      0.31       304\n",
      "           5       0.33      0.38      0.35       357\n",
      "           6       0.87      1.00      0.93       958\n",
      "           7       0.51      0.60      0.55       562\n",
      "           8       0.43      0.49      0.46       473\n",
      "           9       0.48      0.51      0.50       536\n",
      "          10       0.00      0.00      0.00         3\n",
      "          11       0.08      0.09      0.09       129\n",
      "          12       0.23      0.23      0.23       249\n",
      "          13       0.05      0.10      0.07        42\n",
      "          14       0.00      0.00      0.00         0\n",
      "          15       0.35      0.43      0.39       394\n",
      "          16       0.44      0.56      0.49       450\n",
      "          17       0.56      0.75      0.64       596\n",
      "          18       0.28      0.37      0.32       299\n",
      "\n",
      "   micro avg       0.48      0.57      0.52      7083\n",
      "   macro avg       0.34      0.40      0.37      7083\n",
      "weighted avg       0.49      0.57      0.53      7083\n",
      " samples avg       0.49      0.59      0.50      7083\n",
      "\n"
     ]
    }
   ],
   "source": [
    "check_baseline(labels=dev_labels, baseline_labels=base3)"
   ]
  },
  {
   "cell_type": "markdown",
   "metadata": {},
   "source": [
    "## Learning more than baselines!"
   ]
  },
  {
   "cell_type": "code",
   "execution_count": null,
   "metadata": {},
   "outputs": [],
   "source": []
  }
 ],
 "metadata": {
  "kernelspec": {
   "display_name": "Python 3",
   "language": "python",
   "name": "python3"
  },
  "language_info": {
   "codemirror_mode": {
    "name": "ipython",
    "version": 3
   },
   "file_extension": ".py",
   "mimetype": "text/x-python",
   "name": "python",
   "nbconvert_exporter": "python",
   "pygments_lexer": "ipython3",
   "version": "3.7.4"
  }
 },
 "nbformat": 4,
 "nbformat_minor": 4
}
